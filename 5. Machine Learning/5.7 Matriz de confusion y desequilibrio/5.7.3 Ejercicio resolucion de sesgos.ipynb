{
 "cells": [
  {
   "attachments": {},
   "cell_type": "markdown",
   "metadata": {},
   "source": [
    "# Ejercicio: Sesgo del modelo de datos desequilibrados\n",
    "En este ejercicio, examinaremos más detenidamente los conjuntos de datos desequilibrados, qué efectos tienen sobre las predicciones y cómo pueden abordarse.\n",
    "\n",
    "También emplearemos matrices de confusión para evaluar las actualizaciones de los modelos.\n",
    "\n",
    "## Visualización de datos\n",
    "Al igual que en el ejercicio anterior, utilizamos un conjunto de datos que representa diferentes clases de objetos encontrados en la montaña:"
   ]
  },
  {
   "cell_type": "code",
   "execution_count": 1,
   "metadata": {},
   "outputs": [
    {
     "data": {
      "text/html": [
       "<div>\n",
       "<style scoped>\n",
       "    .dataframe tbody tr th:only-of-type {\n",
       "        vertical-align: middle;\n",
       "    }\n",
       "\n",
       "    .dataframe tbody tr th {\n",
       "        vertical-align: top;\n",
       "    }\n",
       "\n",
       "    .dataframe thead th {\n",
       "        text-align: right;\n",
       "    }\n",
       "</style>\n",
       "<table border=\"1\" class=\"dataframe\">\n",
       "  <thead>\n",
       "    <tr style=\"text-align: right;\">\n",
       "      <th></th>\n",
       "      <th>size</th>\n",
       "      <th>roughness</th>\n",
       "      <th>color</th>\n",
       "      <th>motion</th>\n",
       "      <th>label</th>\n",
       "    </tr>\n",
       "  </thead>\n",
       "  <tbody>\n",
       "    <tr>\n",
       "      <th>0</th>\n",
       "      <td>50.959361</td>\n",
       "      <td>1.318226</td>\n",
       "      <td>green</td>\n",
       "      <td>0.054290</td>\n",
       "      <td>tree</td>\n",
       "    </tr>\n",
       "    <tr>\n",
       "      <th>1</th>\n",
       "      <td>60.008521</td>\n",
       "      <td>0.554291</td>\n",
       "      <td>brown</td>\n",
       "      <td>0.000000</td>\n",
       "      <td>tree</td>\n",
       "    </tr>\n",
       "    <tr>\n",
       "      <th>2</th>\n",
       "      <td>20.530772</td>\n",
       "      <td>1.097752</td>\n",
       "      <td>white</td>\n",
       "      <td>1.380464</td>\n",
       "      <td>tree</td>\n",
       "    </tr>\n",
       "    <tr>\n",
       "      <th>3</th>\n",
       "      <td>28.092138</td>\n",
       "      <td>0.966482</td>\n",
       "      <td>grey</td>\n",
       "      <td>0.650528</td>\n",
       "      <td>tree</td>\n",
       "    </tr>\n",
       "    <tr>\n",
       "      <th>4</th>\n",
       "      <td>48.344211</td>\n",
       "      <td>0.799093</td>\n",
       "      <td>grey</td>\n",
       "      <td>0.000000</td>\n",
       "      <td>tree</td>\n",
       "    </tr>\n",
       "    <tr>\n",
       "      <th>...</th>\n",
       "      <td>...</td>\n",
       "      <td>...</td>\n",
       "      <td>...</td>\n",
       "      <td>...</td>\n",
       "      <td>...</td>\n",
       "    </tr>\n",
       "    <tr>\n",
       "      <th>2195</th>\n",
       "      <td>1.918175</td>\n",
       "      <td>1.182234</td>\n",
       "      <td>white</td>\n",
       "      <td>0.000000</td>\n",
       "      <td>animal</td>\n",
       "    </tr>\n",
       "    <tr>\n",
       "      <th>2196</th>\n",
       "      <td>1.000694</td>\n",
       "      <td>1.332152</td>\n",
       "      <td>black</td>\n",
       "      <td>4.041097</td>\n",
       "      <td>animal</td>\n",
       "    </tr>\n",
       "    <tr>\n",
       "      <th>2197</th>\n",
       "      <td>2.331485</td>\n",
       "      <td>0.734561</td>\n",
       "      <td>brown</td>\n",
       "      <td>0.961486</td>\n",
       "      <td>animal</td>\n",
       "    </tr>\n",
       "    <tr>\n",
       "      <th>2198</th>\n",
       "      <td>1.786560</td>\n",
       "      <td>0.707935</td>\n",
       "      <td>black</td>\n",
       "      <td>0.000000</td>\n",
       "      <td>animal</td>\n",
       "    </tr>\n",
       "    <tr>\n",
       "      <th>2199</th>\n",
       "      <td>1.518813</td>\n",
       "      <td>1.447957</td>\n",
       "      <td>brown</td>\n",
       "      <td>0.000000</td>\n",
       "      <td>animal</td>\n",
       "    </tr>\n",
       "  </tbody>\n",
       "</table>\n",
       "<p>2200 rows × 5 columns</p>\n",
       "</div>"
      ],
      "text/plain": [
       "           size  roughness  color    motion   label\n",
       "0     50.959361   1.318226  green  0.054290    tree\n",
       "1     60.008521   0.554291  brown  0.000000    tree\n",
       "2     20.530772   1.097752  white  1.380464    tree\n",
       "3     28.092138   0.966482   grey  0.650528    tree\n",
       "4     48.344211   0.799093   grey  0.000000    tree\n",
       "...         ...        ...    ...       ...     ...\n",
       "2195   1.918175   1.182234  white  0.000000  animal\n",
       "2196   1.000694   1.332152  black  4.041097  animal\n",
       "2197   2.331485   0.734561  brown  0.961486  animal\n",
       "2198   1.786560   0.707935  black  0.000000  animal\n",
       "2199   1.518813   1.447957  brown  0.000000  animal\n",
       "\n",
       "[2200 rows x 5 columns]"
      ]
     },
     "execution_count": 1,
     "metadata": {},
     "output_type": "execute_result"
    }
   ],
   "source": [
    "import pandas\n",
    "#!wget https://raw.githubusercontent.com/MicrosoftDocs/mslearn-introduction-to-machine-learning/main/graphing.py\n",
    "#!wget https://raw.githubusercontent.com/MicrosoftDocs/mslearn-introduction-to-machine-learning/main/Data/snow_objects.csv\n",
    "#!wget https://raw.githubusercontent.com/MicrosoftDocs/mslearn-introduction-to-machine-learning/main/Data/snow_objects_balanced.csv\n",
    "\n",
    "#Import the data from the .csv file\n",
    "dataset = pandas.read_csv('snow_objects.csv', delimiter=\"\\t\")\n",
    "\n",
    "# Let's have a look at the data\n",
    "dataset"
   ]
  },
  {
   "attachments": {},
   "cell_type": "markdown",
   "metadata": {},
   "source": [
    "Recuerde que tenemos un conjunto de datos desequilibrado. Algunas clases son mucho más frecuentes que otras:"
   ]
  },
  {
   "cell_type": "code",
   "execution_count": 2,
   "metadata": {},
   "outputs": [
    {
     "data": {
      "application/vnd.plotly.v1+json": {
       "config": {
        "plotlyServerURL": "https://plot.ly"
       },
       "data": [
        {
         "histfunc": "count",
         "name": "animal",
         "type": "histogram",
         "x": [
          "animal",
          "animal",
          "animal",
          "animal",
          "animal",
          "animal",
          "animal",
          "animal",
          "animal",
          "animal",
          "animal",
          "animal",
          "animal",
          "animal",
          "animal",
          "animal",
          "animal",
          "animal",
          "animal",
          "animal",
          "animal",
          "animal",
          "animal",
          "animal",
          "animal",
          "animal",
          "animal",
          "animal",
          "animal",
          "animal",
          "animal",
          "animal",
          "animal",
          "animal",
          "animal",
          "animal",
          "animal",
          "animal",
          "animal",
          "animal",
          "animal",
          "animal",
          "animal",
          "animal",
          "animal",
          "animal",
          "animal",
          "animal",
          "animal",
          "animal",
          "animal",
          "animal",
          "animal",
          "animal",
          "animal",
          "animal",
          "animal",
          "animal",
          "animal",
          "animal",
          "animal",
          "animal",
          "animal",
          "animal",
          "animal",
          "animal",
          "animal",
          "animal",
          "animal",
          "animal",
          "animal",
          "animal",
          "animal",
          "animal",
          "animal",
          "animal",
          "animal",
          "animal",
          "animal",
          "animal",
          "animal",
          "animal",
          "animal",
          "animal",
          "animal",
          "animal",
          "animal",
          "animal",
          "animal",
          "animal",
          "animal",
          "animal",
          "animal",
          "animal",
          "animal",
          "animal",
          "animal",
          "animal",
          "animal",
          "animal",
          "animal",
          "animal",
          "animal",
          "animal",
          "animal",
          "animal",
          "animal",
          "animal",
          "animal",
          "animal",
          "animal",
          "animal",
          "animal",
          "animal",
          "animal",
          "animal",
          "animal",
          "animal",
          "animal",
          "animal",
          "animal",
          "animal",
          "animal",
          "animal",
          "animal",
          "animal",
          "animal",
          "animal",
          "animal",
          "animal",
          "animal",
          "animal",
          "animal",
          "animal",
          "animal",
          "animal",
          "animal",
          "animal",
          "animal",
          "animal",
          "animal",
          "animal",
          "animal",
          "animal",
          "animal",
          "animal",
          "animal",
          "animal",
          "animal",
          "animal",
          "animal",
          "animal",
          "animal",
          "animal",
          "animal",
          "animal",
          "animal",
          "animal",
          "animal",
          "animal",
          "animal",
          "animal",
          "animal",
          "animal",
          "animal",
          "animal",
          "animal",
          "animal",
          "animal",
          "animal",
          "animal",
          "animal",
          "animal",
          "animal",
          "animal",
          "animal",
          "animal",
          "animal",
          "animal",
          "animal",
          "animal",
          "animal",
          "animal",
          "animal",
          "animal",
          "animal",
          "animal",
          "animal",
          "animal",
          "animal",
          "animal",
          "animal",
          "animal",
          "animal",
          "animal",
          "animal",
          "animal",
          "animal",
          "animal",
          "animal"
         ]
        },
        {
         "histfunc": "count",
         "name": "hiker",
         "type": "histogram",
         "x": [
          "hiker",
          "hiker",
          "hiker",
          "hiker",
          "hiker",
          "hiker",
          "hiker",
          "hiker",
          "hiker",
          "hiker",
          "hiker",
          "hiker",
          "hiker",
          "hiker",
          "hiker",
          "hiker",
          "hiker",
          "hiker",
          "hiker",
          "hiker",
          "hiker",
          "hiker",
          "hiker",
          "hiker",
          "hiker",
          "hiker",
          "hiker",
          "hiker",
          "hiker",
          "hiker",
          "hiker",
          "hiker",
          "hiker",
          "hiker",
          "hiker",
          "hiker",
          "hiker",
          "hiker",
          "hiker",
          "hiker",
          "hiker",
          "hiker",
          "hiker",
          "hiker",
          "hiker",
          "hiker",
          "hiker",
          "hiker",
          "hiker",
          "hiker",
          "hiker",
          "hiker",
          "hiker",
          "hiker",
          "hiker",
          "hiker",
          "hiker",
          "hiker",
          "hiker",
          "hiker",
          "hiker",
          "hiker",
          "hiker",
          "hiker",
          "hiker",
          "hiker",
          "hiker",
          "hiker",
          "hiker",
          "hiker",
          "hiker",
          "hiker",
          "hiker",
          "hiker",
          "hiker",
          "hiker",
          "hiker",
          "hiker",
          "hiker",
          "hiker",
          "hiker",
          "hiker",
          "hiker",
          "hiker",
          "hiker",
          "hiker",
          "hiker",
          "hiker",
          "hiker",
          "hiker",
          "hiker",
          "hiker",
          "hiker",
          "hiker",
          "hiker",
          "hiker",
          "hiker",
          "hiker",
          "hiker",
          "hiker",
          "hiker",
          "hiker",
          "hiker",
          "hiker",
          "hiker",
          "hiker",
          "hiker",
          "hiker",
          "hiker",
          "hiker",
          "hiker",
          "hiker",
          "hiker",
          "hiker",
          "hiker",
          "hiker",
          "hiker",
          "hiker",
          "hiker",
          "hiker",
          "hiker",
          "hiker",
          "hiker",
          "hiker",
          "hiker",
          "hiker",
          "hiker",
          "hiker",
          "hiker",
          "hiker",
          "hiker",
          "hiker",
          "hiker",
          "hiker",
          "hiker",
          "hiker",
          "hiker",
          "hiker",
          "hiker",
          "hiker",
          "hiker",
          "hiker",
          "hiker",
          "hiker",
          "hiker",
          "hiker",
          "hiker",
          "hiker",
          "hiker",
          "hiker",
          "hiker",
          "hiker",
          "hiker",
          "hiker",
          "hiker",
          "hiker",
          "hiker",
          "hiker",
          "hiker",
          "hiker",
          "hiker",
          "hiker",
          "hiker",
          "hiker",
          "hiker",
          "hiker",
          "hiker",
          "hiker",
          "hiker",
          "hiker",
          "hiker",
          "hiker",
          "hiker",
          "hiker",
          "hiker",
          "hiker",
          "hiker",
          "hiker",
          "hiker",
          "hiker",
          "hiker",
          "hiker",
          "hiker",
          "hiker",
          "hiker",
          "hiker",
          "hiker",
          "hiker",
          "hiker",
          "hiker",
          "hiker",
          "hiker",
          "hiker",
          "hiker",
          "hiker",
          "hiker",
          "hiker",
          "hiker",
          "hiker",
          "hiker",
          "hiker",
          "hiker",
          "hiker",
          "hiker",
          "hiker",
          "hiker",
          "hiker",
          "hiker",
          "hiker",
          "hiker",
          "hiker",
          "hiker",
          "hiker",
          "hiker",
          "hiker",
          "hiker",
          "hiker",
          "hiker",
          "hiker",
          "hiker",
          "hiker",
          "hiker",
          "hiker",
          "hiker",
          "hiker",
          "hiker",
          "hiker",
          "hiker",
          "hiker",
          "hiker",
          "hiker",
          "hiker",
          "hiker",
          "hiker",
          "hiker",
          "hiker",
          "hiker",
          "hiker",
          "hiker",
          "hiker",
          "hiker",
          "hiker",
          "hiker",
          "hiker",
          "hiker",
          "hiker",
          "hiker",
          "hiker",
          "hiker",
          "hiker",
          "hiker",
          "hiker",
          "hiker",
          "hiker",
          "hiker",
          "hiker",
          "hiker",
          "hiker",
          "hiker",
          "hiker",
          "hiker",
          "hiker",
          "hiker",
          "hiker",
          "hiker",
          "hiker",
          "hiker",
          "hiker",
          "hiker",
          "hiker",
          "hiker",
          "hiker",
          "hiker",
          "hiker",
          "hiker",
          "hiker",
          "hiker",
          "hiker",
          "hiker",
          "hiker",
          "hiker",
          "hiker",
          "hiker",
          "hiker",
          "hiker",
          "hiker",
          "hiker",
          "hiker",
          "hiker",
          "hiker",
          "hiker",
          "hiker",
          "hiker",
          "hiker",
          "hiker",
          "hiker",
          "hiker",
          "hiker",
          "hiker",
          "hiker",
          "hiker",
          "hiker",
          "hiker",
          "hiker",
          "hiker",
          "hiker",
          "hiker",
          "hiker",
          "hiker",
          "hiker",
          "hiker",
          "hiker",
          "hiker",
          "hiker",
          "hiker",
          "hiker",
          "hiker",
          "hiker",
          "hiker",
          "hiker",
          "hiker",
          "hiker",
          "hiker",
          "hiker",
          "hiker",
          "hiker",
          "hiker",
          "hiker",
          "hiker",
          "hiker",
          "hiker",
          "hiker",
          "hiker",
          "hiker",
          "hiker",
          "hiker",
          "hiker",
          "hiker",
          "hiker",
          "hiker",
          "hiker",
          "hiker",
          "hiker",
          "hiker",
          "hiker",
          "hiker",
          "hiker",
          "hiker",
          "hiker",
          "hiker",
          "hiker",
          "hiker",
          "hiker",
          "hiker",
          "hiker",
          "hiker",
          "hiker",
          "hiker",
          "hiker",
          "hiker",
          "hiker",
          "hiker",
          "hiker",
          "hiker",
          "hiker",
          "hiker",
          "hiker",
          "hiker",
          "hiker",
          "hiker",
          "hiker",
          "hiker",
          "hiker",
          "hiker",
          "hiker",
          "hiker",
          "hiker",
          "hiker",
          "hiker",
          "hiker",
          "hiker",
          "hiker",
          "hiker",
          "hiker",
          "hiker",
          "hiker",
          "hiker",
          "hiker",
          "hiker",
          "hiker",
          "hiker",
          "hiker",
          "hiker",
          "hiker",
          "hiker",
          "hiker",
          "hiker",
          "hiker",
          "hiker",
          "hiker"
         ]
        },
        {
         "histfunc": "count",
         "name": "rock",
         "type": "histogram",
         "x": [
          "rock",
          "rock",
          "rock",
          "rock",
          "rock",
          "rock",
          "rock",
          "rock",
          "rock",
          "rock",
          "rock",
          "rock",
          "rock",
          "rock",
          "rock",
          "rock",
          "rock",
          "rock",
          "rock",
          "rock",
          "rock",
          "rock",
          "rock",
          "rock",
          "rock",
          "rock",
          "rock",
          "rock",
          "rock",
          "rock",
          "rock",
          "rock",
          "rock",
          "rock",
          "rock",
          "rock",
          "rock",
          "rock",
          "rock",
          "rock",
          "rock",
          "rock",
          "rock",
          "rock",
          "rock",
          "rock",
          "rock",
          "rock",
          "rock",
          "rock",
          "rock",
          "rock",
          "rock",
          "rock",
          "rock",
          "rock",
          "rock",
          "rock",
          "rock",
          "rock",
          "rock",
          "rock",
          "rock",
          "rock",
          "rock",
          "rock",
          "rock",
          "rock",
          "rock",
          "rock",
          "rock",
          "rock",
          "rock",
          "rock",
          "rock",
          "rock",
          "rock",
          "rock",
          "rock",
          "rock",
          "rock",
          "rock",
          "rock",
          "rock",
          "rock",
          "rock",
          "rock",
          "rock",
          "rock",
          "rock",
          "rock",
          "rock",
          "rock",
          "rock",
          "rock",
          "rock",
          "rock",
          "rock",
          "rock",
          "rock",
          "rock",
          "rock",
          "rock",
          "rock",
          "rock",
          "rock",
          "rock",
          "rock",
          "rock",
          "rock",
          "rock",
          "rock",
          "rock",
          "rock",
          "rock",
          "rock",
          "rock",
          "rock",
          "rock",
          "rock",
          "rock",
          "rock",
          "rock",
          "rock",
          "rock",
          "rock",
          "rock",
          "rock",
          "rock",
          "rock",
          "rock",
          "rock",
          "rock",
          "rock",
          "rock",
          "rock",
          "rock",
          "rock",
          "rock",
          "rock",
          "rock",
          "rock",
          "rock",
          "rock",
          "rock",
          "rock",
          "rock",
          "rock",
          "rock",
          "rock",
          "rock",
          "rock",
          "rock",
          "rock",
          "rock",
          "rock",
          "rock",
          "rock",
          "rock",
          "rock",
          "rock",
          "rock",
          "rock",
          "rock",
          "rock",
          "rock",
          "rock",
          "rock",
          "rock",
          "rock",
          "rock",
          "rock",
          "rock",
          "rock",
          "rock",
          "rock",
          "rock",
          "rock",
          "rock",
          "rock",
          "rock",
          "rock",
          "rock",
          "rock",
          "rock",
          "rock",
          "rock",
          "rock",
          "rock",
          "rock",
          "rock",
          "rock",
          "rock",
          "rock",
          "rock",
          "rock",
          "rock",
          "rock",
          "rock",
          "rock",
          "rock",
          "rock",
          "rock",
          "rock",
          "rock",
          "rock",
          "rock",
          "rock",
          "rock",
          "rock",
          "rock",
          "rock",
          "rock",
          "rock",
          "rock",
          "rock",
          "rock",
          "rock",
          "rock",
          "rock",
          "rock",
          "rock",
          "rock",
          "rock",
          "rock",
          "rock",
          "rock",
          "rock",
          "rock",
          "rock",
          "rock",
          "rock",
          "rock",
          "rock",
          "rock",
          "rock",
          "rock",
          "rock",
          "rock",
          "rock",
          "rock",
          "rock",
          "rock",
          "rock",
          "rock",
          "rock",
          "rock",
          "rock",
          "rock",
          "rock",
          "rock",
          "rock",
          "rock",
          "rock",
          "rock",
          "rock",
          "rock",
          "rock",
          "rock",
          "rock",
          "rock",
          "rock",
          "rock",
          "rock",
          "rock",
          "rock",
          "rock",
          "rock",
          "rock",
          "rock",
          "rock",
          "rock",
          "rock",
          "rock",
          "rock",
          "rock",
          "rock",
          "rock",
          "rock",
          "rock",
          "rock",
          "rock",
          "rock",
          "rock",
          "rock",
          "rock",
          "rock",
          "rock",
          "rock",
          "rock",
          "rock",
          "rock",
          "rock",
          "rock",
          "rock",
          "rock",
          "rock",
          "rock",
          "rock",
          "rock",
          "rock",
          "rock",
          "rock",
          "rock",
          "rock",
          "rock",
          "rock",
          "rock",
          "rock",
          "rock",
          "rock",
          "rock",
          "rock",
          "rock",
          "rock",
          "rock",
          "rock",
          "rock",
          "rock",
          "rock",
          "rock",
          "rock",
          "rock",
          "rock",
          "rock",
          "rock",
          "rock",
          "rock",
          "rock",
          "rock",
          "rock",
          "rock",
          "rock",
          "rock",
          "rock",
          "rock",
          "rock",
          "rock",
          "rock",
          "rock",
          "rock",
          "rock",
          "rock",
          "rock",
          "rock",
          "rock",
          "rock",
          "rock",
          "rock",
          "rock",
          "rock",
          "rock",
          "rock",
          "rock",
          "rock",
          "rock",
          "rock",
          "rock",
          "rock",
          "rock",
          "rock",
          "rock",
          "rock",
          "rock",
          "rock",
          "rock",
          "rock",
          "rock",
          "rock",
          "rock",
          "rock",
          "rock",
          "rock",
          "rock",
          "rock",
          "rock",
          "rock",
          "rock",
          "rock",
          "rock",
          "rock",
          "rock",
          "rock",
          "rock",
          "rock",
          "rock",
          "rock",
          "rock",
          "rock",
          "rock",
          "rock",
          "rock",
          "rock",
          "rock",
          "rock",
          "rock",
          "rock",
          "rock",
          "rock",
          "rock",
          "rock",
          "rock",
          "rock",
          "rock",
          "rock",
          "rock",
          "rock",
          "rock",
          "rock",
          "rock",
          "rock",
          "rock",
          "rock",
          "rock",
          "rock",
          "rock",
          "rock",
          "rock",
          "rock",
          "rock",
          "rock",
          "rock",
          "rock",
          "rock",
          "rock",
          "rock",
          "rock",
          "rock",
          "rock",
          "rock",
          "rock",
          "rock",
          "rock",
          "rock",
          "rock",
          "rock",
          "rock",
          "rock",
          "rock",
          "rock",
          "rock",
          "rock",
          "rock",
          "rock",
          "rock",
          "rock",
          "rock",
          "rock",
          "rock",
          "rock",
          "rock",
          "rock",
          "rock",
          "rock",
          "rock",
          "rock",
          "rock",
          "rock",
          "rock",
          "rock",
          "rock",
          "rock",
          "rock",
          "rock",
          "rock",
          "rock",
          "rock",
          "rock",
          "rock",
          "rock",
          "rock",
          "rock",
          "rock",
          "rock",
          "rock",
          "rock",
          "rock",
          "rock",
          "rock",
          "rock",
          "rock",
          "rock",
          "rock",
          "rock",
          "rock",
          "rock",
          "rock",
          "rock",
          "rock",
          "rock",
          "rock",
          "rock",
          "rock",
          "rock",
          "rock",
          "rock",
          "rock",
          "rock",
          "rock",
          "rock",
          "rock",
          "rock",
          "rock",
          "rock",
          "rock",
          "rock",
          "rock",
          "rock",
          "rock",
          "rock",
          "rock",
          "rock",
          "rock",
          "rock",
          "rock",
          "rock",
          "rock",
          "rock",
          "rock",
          "rock",
          "rock",
          "rock",
          "rock",
          "rock",
          "rock",
          "rock",
          "rock",
          "rock",
          "rock",
          "rock",
          "rock",
          "rock",
          "rock",
          "rock",
          "rock",
          "rock",
          "rock",
          "rock",
          "rock",
          "rock",
          "rock",
          "rock",
          "rock",
          "rock",
          "rock",
          "rock",
          "rock",
          "rock",
          "rock",
          "rock",
          "rock",
          "rock",
          "rock",
          "rock",
          "rock",
          "rock",
          "rock",
          "rock",
          "rock",
          "rock",
          "rock",
          "rock",
          "rock",
          "rock",
          "rock",
          "rock",
          "rock",
          "rock",
          "rock",
          "rock",
          "rock",
          "rock",
          "rock",
          "rock",
          "rock",
          "rock",
          "rock",
          "rock",
          "rock",
          "rock",
          "rock",
          "rock",
          "rock",
          "rock",
          "rock",
          "rock",
          "rock",
          "rock",
          "rock",
          "rock",
          "rock",
          "rock",
          "rock",
          "rock",
          "rock",
          "rock",
          "rock",
          "rock",
          "rock",
          "rock",
          "rock",
          "rock",
          "rock",
          "rock",
          "rock",
          "rock",
          "rock",
          "rock",
          "rock",
          "rock",
          "rock",
          "rock",
          "rock",
          "rock",
          "rock",
          "rock",
          "rock",
          "rock",
          "rock",
          "rock",
          "rock",
          "rock",
          "rock",
          "rock",
          "rock",
          "rock",
          "rock",
          "rock",
          "rock",
          "rock",
          "rock",
          "rock",
          "rock",
          "rock",
          "rock",
          "rock",
          "rock",
          "rock",
          "rock",
          "rock",
          "rock",
          "rock",
          "rock",
          "rock",
          "rock",
          "rock",
          "rock",
          "rock",
          "rock",
          "rock",
          "rock",
          "rock",
          "rock",
          "rock",
          "rock",
          "rock",
          "rock",
          "rock",
          "rock",
          "rock",
          "rock",
          "rock",
          "rock",
          "rock",
          "rock",
          "rock",
          "rock",
          "rock",
          "rock",
          "rock",
          "rock",
          "rock",
          "rock",
          "rock",
          "rock",
          "rock",
          "rock",
          "rock",
          "rock",
          "rock",
          "rock",
          "rock",
          "rock",
          "rock",
          "rock",
          "rock",
          "rock",
          "rock",
          "rock",
          "rock",
          "rock",
          "rock",
          "rock",
          "rock",
          "rock",
          "rock",
          "rock",
          "rock",
          "rock",
          "rock",
          "rock",
          "rock",
          "rock",
          "rock",
          "rock",
          "rock",
          "rock",
          "rock",
          "rock",
          "rock",
          "rock",
          "rock",
          "rock",
          "rock",
          "rock",
          "rock",
          "rock",
          "rock",
          "rock",
          "rock",
          "rock",
          "rock",
          "rock",
          "rock",
          "rock",
          "rock",
          "rock",
          "rock",
          "rock",
          "rock",
          "rock",
          "rock",
          "rock",
          "rock",
          "rock",
          "rock",
          "rock",
          "rock",
          "rock",
          "rock",
          "rock",
          "rock",
          "rock",
          "rock",
          "rock",
          "rock",
          "rock",
          "rock",
          "rock",
          "rock",
          "rock",
          "rock",
          "rock",
          "rock",
          "rock",
          "rock",
          "rock",
          "rock",
          "rock",
          "rock",
          "rock",
          "rock",
          "rock",
          "rock",
          "rock",
          "rock",
          "rock",
          "rock",
          "rock",
          "rock",
          "rock",
          "rock",
          "rock",
          "rock",
          "rock",
          "rock",
          "rock",
          "rock",
          "rock",
          "rock",
          "rock",
          "rock",
          "rock",
          "rock",
          "rock",
          "rock",
          "rock",
          "rock",
          "rock",
          "rock",
          "rock",
          "rock",
          "rock",
          "rock",
          "rock",
          "rock",
          "rock",
          "rock",
          "rock",
          "rock"
         ]
        },
        {
         "histfunc": "count",
         "name": "tree",
         "type": "histogram",
         "x": [
          "tree",
          "tree",
          "tree",
          "tree",
          "tree",
          "tree",
          "tree",
          "tree",
          "tree",
          "tree",
          "tree",
          "tree",
          "tree",
          "tree",
          "tree",
          "tree",
          "tree",
          "tree",
          "tree",
          "tree",
          "tree",
          "tree",
          "tree",
          "tree",
          "tree",
          "tree",
          "tree",
          "tree",
          "tree",
          "tree",
          "tree",
          "tree",
          "tree",
          "tree",
          "tree",
          "tree",
          "tree",
          "tree",
          "tree",
          "tree",
          "tree",
          "tree",
          "tree",
          "tree",
          "tree",
          "tree",
          "tree",
          "tree",
          "tree",
          "tree",
          "tree",
          "tree",
          "tree",
          "tree",
          "tree",
          "tree",
          "tree",
          "tree",
          "tree",
          "tree",
          "tree",
          "tree",
          "tree",
          "tree",
          "tree",
          "tree",
          "tree",
          "tree",
          "tree",
          "tree",
          "tree",
          "tree",
          "tree",
          "tree",
          "tree",
          "tree",
          "tree",
          "tree",
          "tree",
          "tree",
          "tree",
          "tree",
          "tree",
          "tree",
          "tree",
          "tree",
          "tree",
          "tree",
          "tree",
          "tree",
          "tree",
          "tree",
          "tree",
          "tree",
          "tree",
          "tree",
          "tree",
          "tree",
          "tree",
          "tree",
          "tree",
          "tree",
          "tree",
          "tree",
          "tree",
          "tree",
          "tree",
          "tree",
          "tree",
          "tree",
          "tree",
          "tree",
          "tree",
          "tree",
          "tree",
          "tree",
          "tree",
          "tree",
          "tree",
          "tree",
          "tree",
          "tree",
          "tree",
          "tree",
          "tree",
          "tree",
          "tree",
          "tree",
          "tree",
          "tree",
          "tree",
          "tree",
          "tree",
          "tree",
          "tree",
          "tree",
          "tree",
          "tree",
          "tree",
          "tree",
          "tree",
          "tree",
          "tree",
          "tree",
          "tree",
          "tree",
          "tree",
          "tree",
          "tree",
          "tree",
          "tree",
          "tree",
          "tree",
          "tree",
          "tree",
          "tree",
          "tree",
          "tree",
          "tree",
          "tree",
          "tree",
          "tree",
          "tree",
          "tree",
          "tree",
          "tree",
          "tree",
          "tree",
          "tree",
          "tree",
          "tree",
          "tree",
          "tree",
          "tree",
          "tree",
          "tree",
          "tree",
          "tree",
          "tree",
          "tree",
          "tree",
          "tree",
          "tree",
          "tree",
          "tree",
          "tree",
          "tree",
          "tree",
          "tree",
          "tree",
          "tree",
          "tree",
          "tree",
          "tree",
          "tree",
          "tree",
          "tree",
          "tree",
          "tree",
          "tree",
          "tree",
          "tree",
          "tree",
          "tree",
          "tree",
          "tree",
          "tree",
          "tree",
          "tree",
          "tree",
          "tree",
          "tree",
          "tree",
          "tree",
          "tree",
          "tree",
          "tree",
          "tree",
          "tree",
          "tree",
          "tree",
          "tree",
          "tree",
          "tree",
          "tree",
          "tree",
          "tree",
          "tree",
          "tree",
          "tree",
          "tree",
          "tree",
          "tree",
          "tree",
          "tree",
          "tree",
          "tree",
          "tree",
          "tree",
          "tree",
          "tree",
          "tree",
          "tree",
          "tree",
          "tree",
          "tree",
          "tree",
          "tree",
          "tree",
          "tree",
          "tree",
          "tree",
          "tree",
          "tree",
          "tree",
          "tree",
          "tree",
          "tree",
          "tree",
          "tree",
          "tree",
          "tree",
          "tree",
          "tree",
          "tree",
          "tree",
          "tree",
          "tree",
          "tree",
          "tree",
          "tree",
          "tree",
          "tree",
          "tree",
          "tree",
          "tree",
          "tree",
          "tree",
          "tree",
          "tree",
          "tree",
          "tree",
          "tree",
          "tree",
          "tree",
          "tree",
          "tree",
          "tree",
          "tree",
          "tree",
          "tree",
          "tree",
          "tree",
          "tree",
          "tree",
          "tree",
          "tree",
          "tree",
          "tree",
          "tree",
          "tree",
          "tree",
          "tree",
          "tree",
          "tree",
          "tree",
          "tree",
          "tree",
          "tree",
          "tree",
          "tree",
          "tree",
          "tree",
          "tree",
          "tree",
          "tree",
          "tree",
          "tree",
          "tree",
          "tree",
          "tree",
          "tree",
          "tree",
          "tree",
          "tree",
          "tree",
          "tree",
          "tree",
          "tree",
          "tree",
          "tree",
          "tree",
          "tree",
          "tree",
          "tree",
          "tree",
          "tree",
          "tree",
          "tree",
          "tree",
          "tree",
          "tree",
          "tree",
          "tree",
          "tree",
          "tree",
          "tree",
          "tree",
          "tree",
          "tree",
          "tree",
          "tree",
          "tree",
          "tree",
          "tree",
          "tree",
          "tree",
          "tree",
          "tree",
          "tree",
          "tree",
          "tree",
          "tree",
          "tree",
          "tree",
          "tree",
          "tree",
          "tree",
          "tree",
          "tree",
          "tree",
          "tree",
          "tree",
          "tree",
          "tree",
          "tree",
          "tree",
          "tree",
          "tree",
          "tree",
          "tree",
          "tree",
          "tree",
          "tree",
          "tree",
          "tree",
          "tree",
          "tree",
          "tree",
          "tree",
          "tree",
          "tree",
          "tree",
          "tree",
          "tree",
          "tree",
          "tree",
          "tree",
          "tree",
          "tree",
          "tree",
          "tree",
          "tree",
          "tree",
          "tree",
          "tree",
          "tree",
          "tree",
          "tree",
          "tree",
          "tree",
          "tree",
          "tree",
          "tree",
          "tree",
          "tree",
          "tree",
          "tree",
          "tree",
          "tree",
          "tree",
          "tree",
          "tree",
          "tree",
          "tree",
          "tree",
          "tree",
          "tree",
          "tree",
          "tree",
          "tree",
          "tree",
          "tree",
          "tree",
          "tree",
          "tree",
          "tree",
          "tree",
          "tree",
          "tree",
          "tree",
          "tree",
          "tree",
          "tree",
          "tree",
          "tree",
          "tree",
          "tree",
          "tree",
          "tree",
          "tree",
          "tree",
          "tree",
          "tree",
          "tree",
          "tree",
          "tree",
          "tree",
          "tree",
          "tree",
          "tree",
          "tree",
          "tree",
          "tree",
          "tree",
          "tree",
          "tree",
          "tree",
          "tree",
          "tree",
          "tree",
          "tree",
          "tree",
          "tree",
          "tree",
          "tree",
          "tree",
          "tree",
          "tree",
          "tree",
          "tree",
          "tree",
          "tree",
          "tree",
          "tree",
          "tree",
          "tree",
          "tree",
          "tree",
          "tree",
          "tree",
          "tree",
          "tree",
          "tree",
          "tree",
          "tree",
          "tree",
          "tree",
          "tree",
          "tree",
          "tree",
          "tree",
          "tree",
          "tree",
          "tree",
          "tree",
          "tree",
          "tree",
          "tree",
          "tree",
          "tree",
          "tree",
          "tree",
          "tree",
          "tree",
          "tree",
          "tree",
          "tree",
          "tree",
          "tree",
          "tree",
          "tree",
          "tree",
          "tree",
          "tree",
          "tree",
          "tree",
          "tree",
          "tree",
          "tree",
          "tree",
          "tree",
          "tree",
          "tree",
          "tree",
          "tree",
          "tree",
          "tree",
          "tree",
          "tree",
          "tree",
          "tree",
          "tree",
          "tree",
          "tree",
          "tree",
          "tree",
          "tree",
          "tree",
          "tree",
          "tree",
          "tree",
          "tree",
          "tree",
          "tree",
          "tree",
          "tree",
          "tree",
          "tree",
          "tree",
          "tree",
          "tree",
          "tree",
          "tree",
          "tree",
          "tree",
          "tree",
          "tree",
          "tree",
          "tree",
          "tree",
          "tree",
          "tree",
          "tree",
          "tree",
          "tree",
          "tree",
          "tree",
          "tree",
          "tree",
          "tree",
          "tree",
          "tree",
          "tree",
          "tree",
          "tree",
          "tree",
          "tree",
          "tree",
          "tree",
          "tree",
          "tree",
          "tree",
          "tree",
          "tree",
          "tree",
          "tree",
          "tree",
          "tree",
          "tree",
          "tree",
          "tree",
          "tree",
          "tree",
          "tree",
          "tree",
          "tree",
          "tree",
          "tree",
          "tree",
          "tree",
          "tree",
          "tree",
          "tree",
          "tree",
          "tree",
          "tree",
          "tree",
          "tree",
          "tree",
          "tree",
          "tree",
          "tree",
          "tree",
          "tree",
          "tree",
          "tree",
          "tree",
          "tree",
          "tree",
          "tree",
          "tree",
          "tree",
          "tree",
          "tree",
          "tree",
          "tree",
          "tree",
          "tree",
          "tree",
          "tree",
          "tree",
          "tree",
          "tree",
          "tree",
          "tree",
          "tree",
          "tree",
          "tree",
          "tree",
          "tree",
          "tree",
          "tree",
          "tree",
          "tree",
          "tree",
          "tree",
          "tree",
          "tree",
          "tree",
          "tree",
          "tree",
          "tree",
          "tree",
          "tree",
          "tree",
          "tree",
          "tree",
          "tree",
          "tree",
          "tree",
          "tree",
          "tree",
          "tree",
          "tree",
          "tree",
          "tree",
          "tree",
          "tree",
          "tree",
          "tree",
          "tree",
          "tree",
          "tree",
          "tree",
          "tree",
          "tree",
          "tree",
          "tree",
          "tree",
          "tree",
          "tree",
          "tree",
          "tree",
          "tree",
          "tree",
          "tree",
          "tree",
          "tree",
          "tree",
          "tree",
          "tree",
          "tree",
          "tree",
          "tree",
          "tree",
          "tree",
          "tree",
          "tree",
          "tree",
          "tree",
          "tree",
          "tree",
          "tree",
          "tree",
          "tree",
          "tree",
          "tree",
          "tree",
          "tree",
          "tree",
          "tree",
          "tree",
          "tree",
          "tree",
          "tree",
          "tree",
          "tree",
          "tree",
          "tree",
          "tree",
          "tree",
          "tree",
          "tree",
          "tree",
          "tree",
          "tree",
          "tree",
          "tree",
          "tree",
          "tree",
          "tree",
          "tree",
          "tree",
          "tree",
          "tree",
          "tree",
          "tree",
          "tree",
          "tree",
          "tree",
          "tree",
          "tree",
          "tree",
          "tree",
          "tree",
          "tree",
          "tree",
          "tree",
          "tree",
          "tree",
          "tree",
          "tree",
          "tree",
          "tree",
          "tree",
          "tree",
          "tree",
          "tree",
          "tree",
          "tree",
          "tree",
          "tree",
          "tree",
          "tree",
          "tree",
          "tree",
          "tree",
          "tree",
          "tree",
          "tree",
          "tree",
          "tree",
          "tree",
          "tree",
          "tree",
          "tree",
          "tree",
          "tree",
          "tree",
          "tree",
          "tree",
          "tree",
          "tree",
          "tree",
          "tree",
          "tree",
          "tree",
          "tree",
          "tree"
         ]
        }
       ],
       "layout": {
        "legend": {
         "title": {
          "text": "label"
         }
        },
        "template": {
         "data": {
          "bar": [
           {
            "error_x": {
             "color": "#2a3f5f"
            },
            "error_y": {
             "color": "#2a3f5f"
            },
            "marker": {
             "line": {
              "color": "white",
              "width": 0.5
             },
             "pattern": {
              "fillmode": "overlay",
              "size": 10,
              "solidity": 0.2
             }
            },
            "type": "bar"
           }
          ],
          "barpolar": [
           {
            "marker": {
             "line": {
              "color": "white",
              "width": 0.5
             },
             "pattern": {
              "fillmode": "overlay",
              "size": 10,
              "solidity": 0.2
             }
            },
            "type": "barpolar"
           }
          ],
          "box": [
           {
            "boxpoints": "outliers",
            "notched": false,
            "type": "box"
           }
          ],
          "carpet": [
           {
            "aaxis": {
             "endlinecolor": "#2a3f5f",
             "gridcolor": "#C8D4E3",
             "linecolor": "#C8D4E3",
             "minorgridcolor": "#C8D4E3",
             "startlinecolor": "#2a3f5f"
            },
            "baxis": {
             "endlinecolor": "#2a3f5f",
             "gridcolor": "#C8D4E3",
             "linecolor": "#C8D4E3",
             "minorgridcolor": "#C8D4E3",
             "startlinecolor": "#2a3f5f"
            },
            "type": "carpet"
           }
          ],
          "choropleth": [
           {
            "colorbar": {
             "outlinewidth": 0,
             "ticks": ""
            },
            "type": "choropleth"
           }
          ],
          "contour": [
           {
            "colorbar": {
             "outlinewidth": 0,
             "ticks": ""
            },
            "colorscale": [
             [
              0,
              "#0d0887"
             ],
             [
              0.1111111111111111,
              "#46039f"
             ],
             [
              0.2222222222222222,
              "#7201a8"
             ],
             [
              0.3333333333333333,
              "#9c179e"
             ],
             [
              0.4444444444444444,
              "#bd3786"
             ],
             [
              0.5555555555555556,
              "#d8576b"
             ],
             [
              0.6666666666666666,
              "#ed7953"
             ],
             [
              0.7777777777777778,
              "#fb9f3a"
             ],
             [
              0.8888888888888888,
              "#fdca26"
             ],
             [
              1,
              "#f0f921"
             ]
            ],
            "type": "contour"
           }
          ],
          "contourcarpet": [
           {
            "colorbar": {
             "outlinewidth": 0,
             "ticks": ""
            },
            "type": "contourcarpet"
           }
          ],
          "heatmap": [
           {
            "colorbar": {
             "outlinewidth": 0,
             "ticks": ""
            },
            "colorscale": [
             [
              0,
              "#0d0887"
             ],
             [
              0.1111111111111111,
              "#46039f"
             ],
             [
              0.2222222222222222,
              "#7201a8"
             ],
             [
              0.3333333333333333,
              "#9c179e"
             ],
             [
              0.4444444444444444,
              "#bd3786"
             ],
             [
              0.5555555555555556,
              "#d8576b"
             ],
             [
              0.6666666666666666,
              "#ed7953"
             ],
             [
              0.7777777777777778,
              "#fb9f3a"
             ],
             [
              0.8888888888888888,
              "#fdca26"
             ],
             [
              1,
              "#f0f921"
             ]
            ],
            "type": "heatmap"
           }
          ],
          "heatmapgl": [
           {
            "colorbar": {
             "outlinewidth": 0,
             "ticks": ""
            },
            "colorscale": [
             [
              0,
              "#0d0887"
             ],
             [
              0.1111111111111111,
              "#46039f"
             ],
             [
              0.2222222222222222,
              "#7201a8"
             ],
             [
              0.3333333333333333,
              "#9c179e"
             ],
             [
              0.4444444444444444,
              "#bd3786"
             ],
             [
              0.5555555555555556,
              "#d8576b"
             ],
             [
              0.6666666666666666,
              "#ed7953"
             ],
             [
              0.7777777777777778,
              "#fb9f3a"
             ],
             [
              0.8888888888888888,
              "#fdca26"
             ],
             [
              1,
              "#f0f921"
             ]
            ],
            "type": "heatmapgl"
           }
          ],
          "histogram": [
           {
            "marker": {
             "line": {
              "width": 1
             },
             "pattern": {
              "fillmode": "overlay",
              "size": 10,
              "solidity": 0.2
             }
            },
            "type": "histogram"
           }
          ],
          "histogram2d": [
           {
            "colorbar": {
             "outlinewidth": 0,
             "ticks": ""
            },
            "colorscale": [
             [
              0,
              "#0d0887"
             ],
             [
              0.1111111111111111,
              "#46039f"
             ],
             [
              0.2222222222222222,
              "#7201a8"
             ],
             [
              0.3333333333333333,
              "#9c179e"
             ],
             [
              0.4444444444444444,
              "#bd3786"
             ],
             [
              0.5555555555555556,
              "#d8576b"
             ],
             [
              0.6666666666666666,
              "#ed7953"
             ],
             [
              0.7777777777777778,
              "#fb9f3a"
             ],
             [
              0.8888888888888888,
              "#fdca26"
             ],
             [
              1,
              "#f0f921"
             ]
            ],
            "type": "histogram2d"
           }
          ],
          "histogram2dcontour": [
           {
            "colorbar": {
             "outlinewidth": 0,
             "ticks": ""
            },
            "colorscale": [
             [
              0,
              "#0d0887"
             ],
             [
              0.1111111111111111,
              "#46039f"
             ],
             [
              0.2222222222222222,
              "#7201a8"
             ],
             [
              0.3333333333333333,
              "#9c179e"
             ],
             [
              0.4444444444444444,
              "#bd3786"
             ],
             [
              0.5555555555555556,
              "#d8576b"
             ],
             [
              0.6666666666666666,
              "#ed7953"
             ],
             [
              0.7777777777777778,
              "#fb9f3a"
             ],
             [
              0.8888888888888888,
              "#fdca26"
             ],
             [
              1,
              "#f0f921"
             ]
            ],
            "type": "histogram2dcontour"
           }
          ],
          "mesh3d": [
           {
            "colorbar": {
             "outlinewidth": 0,
             "ticks": ""
            },
            "type": "mesh3d"
           }
          ],
          "parcoords": [
           {
            "line": {
             "colorbar": {
              "outlinewidth": 0,
              "ticks": ""
             }
            },
            "type": "parcoords"
           }
          ],
          "pie": [
           {
            "automargin": true,
            "type": "pie"
           }
          ],
          "scatter": [
           {
            "fillpattern": {
             "fillmode": "overlay",
             "size": 10,
             "solidity": 0.2
            },
            "marker": {
             "opacity": 0.8
            },
            "type": "scatter"
           }
          ],
          "scatter3d": [
           {
            "line": {
             "colorbar": {
              "outlinewidth": 0,
              "ticks": ""
             }
            },
            "marker": {
             "colorbar": {
              "outlinewidth": 0,
              "ticks": ""
             },
             "opacity": 0.8
            },
            "type": "scatter3d"
           }
          ],
          "scattercarpet": [
           {
            "marker": {
             "colorbar": {
              "outlinewidth": 0,
              "ticks": ""
             }
            },
            "type": "scattercarpet"
           }
          ],
          "scattergeo": [
           {
            "marker": {
             "colorbar": {
              "outlinewidth": 0,
              "ticks": ""
             }
            },
            "type": "scattergeo"
           }
          ],
          "scattergl": [
           {
            "marker": {
             "colorbar": {
              "outlinewidth": 0,
              "ticks": ""
             }
            },
            "type": "scattergl"
           }
          ],
          "scattermapbox": [
           {
            "marker": {
             "colorbar": {
              "outlinewidth": 0,
              "ticks": ""
             }
            },
            "type": "scattermapbox"
           }
          ],
          "scatterpolar": [
           {
            "marker": {
             "colorbar": {
              "outlinewidth": 0,
              "ticks": ""
             }
            },
            "type": "scatterpolar"
           }
          ],
          "scatterpolargl": [
           {
            "marker": {
             "colorbar": {
              "outlinewidth": 0,
              "ticks": ""
             }
            },
            "type": "scatterpolargl"
           }
          ],
          "scatterternary": [
           {
            "marker": {
             "colorbar": {
              "outlinewidth": 0,
              "ticks": ""
             }
            },
            "type": "scatterternary"
           }
          ],
          "surface": [
           {
            "colorbar": {
             "outlinewidth": 0,
             "ticks": ""
            },
            "colorscale": [
             [
              0,
              "#0d0887"
             ],
             [
              0.1111111111111111,
              "#46039f"
             ],
             [
              0.2222222222222222,
              "#7201a8"
             ],
             [
              0.3333333333333333,
              "#9c179e"
             ],
             [
              0.4444444444444444,
              "#bd3786"
             ],
             [
              0.5555555555555556,
              "#d8576b"
             ],
             [
              0.6666666666666666,
              "#ed7953"
             ],
             [
              0.7777777777777778,
              "#fb9f3a"
             ],
             [
              0.8888888888888888,
              "#fdca26"
             ],
             [
              1,
              "#f0f921"
             ]
            ],
            "type": "surface"
           }
          ],
          "table": [
           {
            "cells": {
             "fill": {
              "color": "#EBF0F8"
             },
             "line": {
              "color": "white"
             }
            },
            "header": {
             "fill": {
              "color": "#C8D4E3"
             },
             "line": {
              "color": "white"
             }
            },
            "type": "table"
           }
          ]
         },
         "layout": {
          "annotationdefaults": {
           "arrowcolor": "#2a3f5f",
           "arrowhead": 0,
           "arrowwidth": 1
          },
          "autotypenumbers": "strict",
          "coloraxis": {
           "colorbar": {
            "outlinewidth": 0,
            "ticks": ""
           }
          },
          "colorscale": {
           "diverging": [
            [
             0,
             "#8e0152"
            ],
            [
             0.1,
             "#c51b7d"
            ],
            [
             0.2,
             "#de77ae"
            ],
            [
             0.3,
             "#f1b6da"
            ],
            [
             0.4,
             "#fde0ef"
            ],
            [
             0.5,
             "#f7f7f7"
            ],
            [
             0.6,
             "#e6f5d0"
            ],
            [
             0.7,
             "#b8e186"
            ],
            [
             0.8,
             "#7fbc41"
            ],
            [
             0.9,
             "#4d9221"
            ],
            [
             1,
             "#276419"
            ]
           ],
           "sequential": [
            [
             0,
             "#0d0887"
            ],
            [
             0.1111111111111111,
             "#46039f"
            ],
            [
             0.2222222222222222,
             "#7201a8"
            ],
            [
             0.3333333333333333,
             "#9c179e"
            ],
            [
             0.4444444444444444,
             "#bd3786"
            ],
            [
             0.5555555555555556,
             "#d8576b"
            ],
            [
             0.6666666666666666,
             "#ed7953"
            ],
            [
             0.7777777777777778,
             "#fb9f3a"
            ],
            [
             0.8888888888888888,
             "#fdca26"
            ],
            [
             1,
             "#f0f921"
            ]
           ],
           "sequentialminus": [
            [
             0,
             "#0d0887"
            ],
            [
             0.1111111111111111,
             "#46039f"
            ],
            [
             0.2222222222222222,
             "#7201a8"
            ],
            [
             0.3333333333333333,
             "#9c179e"
            ],
            [
             0.4444444444444444,
             "#bd3786"
            ],
            [
             0.5555555555555556,
             "#d8576b"
            ],
            [
             0.6666666666666666,
             "#ed7953"
            ],
            [
             0.7777777777777778,
             "#fb9f3a"
            ],
            [
             0.8888888888888888,
             "#fdca26"
            ],
            [
             1,
             "#f0f921"
            ]
           ]
          },
          "colorway": [
           "#636efa",
           "#EF553B",
           "#00cc96",
           "#ab63fa",
           "#FFA15A",
           "#19d3f3",
           "#FF6692",
           "#B6E880",
           "#FF97FF",
           "#FECB52"
          ],
          "font": {
           "color": "#2a3f5f"
          },
          "geo": {
           "bgcolor": "white",
           "lakecolor": "white",
           "landcolor": "white",
           "showlakes": true,
           "showland": true,
           "subunitcolor": "#C8D4E3"
          },
          "height": 400,
          "hoverlabel": {
           "align": "left"
          },
          "hovermode": "closest",
          "mapbox": {
           "style": "light"
          },
          "margin": {
           "b": 2,
           "l": 2,
           "r": 2,
           "t": 30
          },
          "paper_bgcolor": "white",
          "plot_bgcolor": "white",
          "polar": {
           "angularaxis": {
            "gridcolor": "#EBF0F8",
            "linecolor": "#EBF0F8",
            "ticks": ""
           },
           "bgcolor": "white",
           "radialaxis": {
            "gridcolor": "#EBF0F8",
            "linecolor": "#EBF0F8",
            "ticks": ""
           }
          },
          "scene": {
           "camera": {
            "eye": {
             "x": 1.5,
             "y": 1.5,
             "z": 0.1
            }
           },
           "xaxis": {
            "backgroundcolor": "white",
            "gridcolor": "#DFE8F3",
            "gridwidth": 2,
            "linecolor": "#EBF0F8",
            "showbackground": true,
            "ticks": "",
            "zerolinecolor": "#EBF0F8"
           },
           "yaxis": {
            "backgroundcolor": "white",
            "gridcolor": "#DFE8F3",
            "gridwidth": 2,
            "linecolor": "#EBF0F8",
            "showbackground": true,
            "ticks": "",
            "zerolinecolor": "#EBF0F8"
           },
           "zaxis": {
            "backgroundcolor": "white",
            "gridcolor": "#DFE8F3",
            "gridwidth": 2,
            "linecolor": "#EBF0F8",
            "showbackground": true,
            "ticks": "",
            "zerolinecolor": "#EBF0F8"
           }
          },
          "shapedefaults": {
           "line": {
            "color": "#2a3f5f"
           }
          },
          "ternary": {
           "aaxis": {
            "gridcolor": "#DFE8F3",
            "linecolor": "#A2B1C6",
            "ticks": ""
           },
           "baxis": {
            "gridcolor": "#DFE8F3",
            "linecolor": "#A2B1C6",
            "ticks": ""
           },
           "bgcolor": "white",
           "caxis": {
            "gridcolor": "#DFE8F3",
            "linecolor": "#A2B1C6",
            "ticks": ""
           }
          },
          "title": {
           "x": 0.5
          },
          "xaxis": {
           "automargin": true,
           "gridcolor": "#EBF0F8",
           "linecolor": "#EBF0F8",
           "linewidth": 2,
           "showline": true,
           "ticks": "",
           "title": {
            "standoff": 15
           },
           "zerolinecolor": "#EBF0F8",
           "zerolinewidth": 2
          },
          "yaxis": {
           "automargin": true,
           "gridcolor": "#EBF0F8",
           "linecolor": "#EBF0F8",
           "linewidth": 2,
           "showline": true,
           "ticks": "",
           "title": {
            "standoff": 15
           },
           "zerolinecolor": "#EBF0F8",
           "zerolinewidth": 2
          }
         }
        },
        "title": {
         "text": "Label distribution"
        },
        "xaxis": {
         "title": {
          "text": "label"
         }
        },
        "yaxis": {
         "title": {
          "text": "count"
         }
        }
       }
      }
     },
     "metadata": {},
     "output_type": "display_data"
    }
   ],
   "source": [
    "import graphing # custom graphing code. See our GitHub repo for details\n",
    "\n",
    "# Plot a histogram with counts for each label\n",
    "graphing.multiple_histogram(dataset, label_x=\"label\", label_group=\"label\", title=\"Label distribution\")"
   ]
  },
  {
   "attachments": {},
   "cell_type": "markdown",
   "metadata": {},
   "source": [
    "## Utilización de la clasificación binaria\n",
    "Para este ejercicio construiremos un modelo de clasificación binaria. Queremos predecir si los objetos en la nieve son \"excursionistas\" o \"no excursionistas\".\n",
    "\n",
    "Para ello, primero tenemos que añadir otra columna a nuestro conjunto de datos, y establecerla en Verdadero cuando la etiqueta original sea excursionista, y en Falso para cualquier otra cosa:"
   ]
  },
  {
   "cell_type": "code",
   "execution_count": 3,
   "metadata": {},
   "outputs": [
    {
     "data": {
      "application/vnd.plotly.v1+json": {
       "config": {
        "plotlyServerURL": "https://plot.ly"
       },
       "data": [
        {
         "histfunc": "count",
         "name": "False",
         "type": "histogram",
         "x": [
          false,
          false,
          false,
          false,
          false,
          false,
          false,
          false,
          false,
          false,
          false,
          false,
          false,
          false,
          false,
          false,
          false,
          false,
          false,
          false,
          false,
          false,
          false,
          false,
          false,
          false,
          false,
          false,
          false,
          false,
          false,
          false,
          false,
          false,
          false,
          false,
          false,
          false,
          false,
          false,
          false,
          false,
          false,
          false,
          false,
          false,
          false,
          false,
          false,
          false,
          false,
          false,
          false,
          false,
          false,
          false,
          false,
          false,
          false,
          false,
          false,
          false,
          false,
          false,
          false,
          false,
          false,
          false,
          false,
          false,
          false,
          false,
          false,
          false,
          false,
          false,
          false,
          false,
          false,
          false,
          false,
          false,
          false,
          false,
          false,
          false,
          false,
          false,
          false,
          false,
          false,
          false,
          false,
          false,
          false,
          false,
          false,
          false,
          false,
          false,
          false,
          false,
          false,
          false,
          false,
          false,
          false,
          false,
          false,
          false,
          false,
          false,
          false,
          false,
          false,
          false,
          false,
          false,
          false,
          false,
          false,
          false,
          false,
          false,
          false,
          false,
          false,
          false,
          false,
          false,
          false,
          false,
          false,
          false,
          false,
          false,
          false,
          false,
          false,
          false,
          false,
          false,
          false,
          false,
          false,
          false,
          false,
          false,
          false,
          false,
          false,
          false,
          false,
          false,
          false,
          false,
          false,
          false,
          false,
          false,
          false,
          false,
          false,
          false,
          false,
          false,
          false,
          false,
          false,
          false,
          false,
          false,
          false,
          false,
          false,
          false,
          false,
          false,
          false,
          false,
          false,
          false,
          false,
          false,
          false,
          false,
          false,
          false,
          false,
          false,
          false,
          false,
          false,
          false,
          false,
          false,
          false,
          false,
          false,
          false,
          false,
          false,
          false,
          false,
          false,
          false,
          false,
          false,
          false,
          false,
          false,
          false,
          false,
          false,
          false,
          false,
          false,
          false,
          false,
          false,
          false,
          false,
          false,
          false,
          false,
          false,
          false,
          false,
          false,
          false,
          false,
          false,
          false,
          false,
          false,
          false,
          false,
          false,
          false,
          false,
          false,
          false,
          false,
          false,
          false,
          false,
          false,
          false,
          false,
          false,
          false,
          false,
          false,
          false,
          false,
          false,
          false,
          false,
          false,
          false,
          false,
          false,
          false,
          false,
          false,
          false,
          false,
          false,
          false,
          false,
          false,
          false,
          false,
          false,
          false,
          false,
          false,
          false,
          false,
          false,
          false,
          false,
          false,
          false,
          false,
          false,
          false,
          false,
          false,
          false,
          false,
          false,
          false,
          false,
          false,
          false,
          false,
          false,
          false,
          false,
          false,
          false,
          false,
          false,
          false,
          false,
          false,
          false,
          false,
          false,
          false,
          false,
          false,
          false,
          false,
          false,
          false,
          false,
          false,
          false,
          false,
          false,
          false,
          false,
          false,
          false,
          false,
          false,
          false,
          false,
          false,
          false,
          false,
          false,
          false,
          false,
          false,
          false,
          false,
          false,
          false,
          false,
          false,
          false,
          false,
          false,
          false,
          false,
          false,
          false,
          false,
          false,
          false,
          false,
          false,
          false,
          false,
          false,
          false,
          false,
          false,
          false,
          false,
          false,
          false,
          false,
          false,
          false,
          false,
          false,
          false,
          false,
          false,
          false,
          false,
          false,
          false,
          false,
          false,
          false,
          false,
          false,
          false,
          false,
          false,
          false,
          false,
          false,
          false,
          false,
          false,
          false,
          false,
          false,
          false,
          false,
          false,
          false,
          false,
          false,
          false,
          false,
          false,
          false,
          false,
          false,
          false,
          false,
          false,
          false,
          false,
          false,
          false,
          false,
          false,
          false,
          false,
          false,
          false,
          false,
          false,
          false,
          false,
          false,
          false,
          false,
          false,
          false,
          false,
          false,
          false,
          false,
          false,
          false,
          false,
          false,
          false,
          false,
          false,
          false,
          false,
          false,
          false,
          false,
          false,
          false,
          false,
          false,
          false,
          false,
          false,
          false,
          false,
          false,
          false,
          false,
          false,
          false,
          false,
          false,
          false,
          false,
          false,
          false,
          false,
          false,
          false,
          false,
          false,
          false,
          false,
          false,
          false,
          false,
          false,
          false,
          false,
          false,
          false,
          false,
          false,
          false,
          false,
          false,
          false,
          false,
          false,
          false,
          false,
          false,
          false,
          false,
          false,
          false,
          false,
          false,
          false,
          false,
          false,
          false,
          false,
          false,
          false,
          false,
          false,
          false,
          false,
          false,
          false,
          false,
          false,
          false,
          false,
          false,
          false,
          false,
          false,
          false,
          false,
          false,
          false,
          false,
          false,
          false,
          false,
          false,
          false,
          false,
          false,
          false,
          false,
          false,
          false,
          false,
          false,
          false,
          false,
          false,
          false,
          false,
          false,
          false,
          false,
          false,
          false,
          false,
          false,
          false,
          false,
          false,
          false,
          false,
          false,
          false,
          false,
          false,
          false,
          false,
          false,
          false,
          false,
          false,
          false,
          false,
          false,
          false,
          false,
          false,
          false,
          false,
          false,
          false,
          false,
          false,
          false,
          false,
          false,
          false,
          false,
          false,
          false,
          false,
          false,
          false,
          false,
          false,
          false,
          false,
          false,
          false,
          false,
          false,
          false,
          false,
          false,
          false,
          false,
          false,
          false,
          false,
          false,
          false,
          false,
          false,
          false,
          false,
          false,
          false,
          false,
          false,
          false,
          false,
          false,
          false,
          false,
          false,
          false,
          false,
          false,
          false,
          false,
          false,
          false,
          false,
          false,
          false,
          false,
          false,
          false,
          false,
          false,
          false,
          false,
          false,
          false,
          false,
          false,
          false,
          false,
          false,
          false,
          false,
          false,
          false,
          false,
          false,
          false,
          false,
          false,
          false,
          false,
          false,
          false,
          false,
          false,
          false,
          false,
          false,
          false,
          false,
          false,
          false,
          false,
          false,
          false,
          false,
          false,
          false,
          false,
          false,
          false,
          false,
          false,
          false,
          false,
          false,
          false,
          false,
          false,
          false,
          false,
          false,
          false,
          false,
          false,
          false,
          false,
          false,
          false,
          false,
          false,
          false,
          false,
          false,
          false,
          false,
          false,
          false,
          false,
          false,
          false,
          false,
          false,
          false,
          false,
          false,
          false,
          false,
          false,
          false,
          false,
          false,
          false,
          false,
          false,
          false,
          false,
          false,
          false,
          false,
          false,
          false,
          false,
          false,
          false,
          false,
          false,
          false,
          false,
          false,
          false,
          false,
          false,
          false,
          false,
          false,
          false,
          false,
          false,
          false,
          false,
          false,
          false,
          false,
          false,
          false,
          false,
          false,
          false,
          false,
          false,
          false,
          false,
          false,
          false,
          false,
          false,
          false,
          false,
          false,
          false,
          false,
          false,
          false,
          false,
          false,
          false,
          false,
          false,
          false,
          false,
          false,
          false,
          false,
          false,
          false,
          false,
          false,
          false,
          false,
          false,
          false,
          false,
          false,
          false,
          false,
          false,
          false,
          false,
          false,
          false,
          false,
          false,
          false,
          false,
          false,
          false,
          false,
          false,
          false,
          false,
          false,
          false,
          false,
          false,
          false,
          false,
          false,
          false,
          false,
          false,
          false,
          false,
          false,
          false,
          false,
          false,
          false,
          false,
          false,
          false,
          false,
          false,
          false,
          false,
          false,
          false,
          false,
          false,
          false,
          false,
          false,
          false,
          false,
          false,
          false,
          false,
          false,
          false,
          false,
          false,
          false,
          false,
          false,
          false,
          false,
          false,
          false,
          false,
          false,
          false,
          false,
          false,
          false,
          false,
          false,
          false,
          false,
          false,
          false,
          false,
          false,
          false,
          false,
          false,
          false,
          false,
          false,
          false,
          false,
          false,
          false,
          false,
          false,
          false,
          false,
          false,
          false,
          false,
          false,
          false,
          false,
          false,
          false,
          false,
          false,
          false,
          false,
          false,
          false,
          false,
          false,
          false,
          false,
          false,
          false,
          false,
          false,
          false,
          false,
          false,
          false,
          false,
          false,
          false,
          false,
          false,
          false,
          false,
          false,
          false,
          false,
          false,
          false,
          false,
          false,
          false,
          false,
          false,
          false,
          false,
          false,
          false,
          false,
          false,
          false,
          false,
          false,
          false,
          false,
          false,
          false,
          false,
          false,
          false,
          false,
          false,
          false,
          false,
          false,
          false,
          false,
          false,
          false,
          false,
          false,
          false,
          false,
          false,
          false,
          false,
          false,
          false,
          false,
          false,
          false,
          false,
          false,
          false,
          false,
          false,
          false,
          false,
          false,
          false,
          false,
          false,
          false,
          false,
          false,
          false,
          false,
          false,
          false,
          false,
          false,
          false,
          false,
          false,
          false,
          false,
          false,
          false,
          false,
          false,
          false,
          false,
          false,
          false,
          false,
          false,
          false,
          false,
          false,
          false,
          false,
          false,
          false,
          false,
          false,
          false,
          false,
          false,
          false,
          false,
          false,
          false,
          false,
          false,
          false,
          false,
          false,
          false,
          false,
          false,
          false,
          false,
          false,
          false,
          false,
          false,
          false,
          false,
          false,
          false,
          false,
          false,
          false,
          false,
          false,
          false,
          false,
          false,
          false,
          false,
          false,
          false,
          false,
          false,
          false,
          false,
          false,
          false,
          false,
          false,
          false,
          false,
          false,
          false,
          false,
          false,
          false,
          false,
          false,
          false,
          false,
          false,
          false,
          false,
          false,
          false,
          false,
          false,
          false,
          false,
          false,
          false,
          false,
          false,
          false,
          false,
          false,
          false,
          false,
          false,
          false,
          false,
          false,
          false,
          false,
          false,
          false,
          false,
          false,
          false,
          false,
          false,
          false,
          false,
          false,
          false,
          false,
          false,
          false,
          false,
          false,
          false,
          false,
          false,
          false,
          false,
          false,
          false,
          false,
          false,
          false,
          false,
          false,
          false,
          false,
          false,
          false,
          false,
          false,
          false,
          false,
          false,
          false,
          false,
          false,
          false,
          false,
          false,
          false,
          false,
          false,
          false,
          false,
          false,
          false,
          false,
          false,
          false,
          false,
          false,
          false,
          false,
          false,
          false,
          false,
          false,
          false,
          false,
          false,
          false,
          false,
          false,
          false,
          false,
          false,
          false,
          false,
          false,
          false,
          false,
          false,
          false,
          false,
          false,
          false,
          false,
          false,
          false,
          false,
          false,
          false,
          false,
          false,
          false,
          false,
          false,
          false,
          false,
          false,
          false,
          false,
          false,
          false,
          false,
          false,
          false,
          false,
          false,
          false,
          false,
          false,
          false,
          false,
          false,
          false,
          false,
          false,
          false,
          false,
          false,
          false,
          false,
          false,
          false,
          false,
          false,
          false,
          false,
          false,
          false,
          false,
          false,
          false,
          false,
          false,
          false,
          false,
          false,
          false,
          false,
          false,
          false,
          false,
          false,
          false,
          false,
          false,
          false,
          false,
          false,
          false,
          false,
          false,
          false,
          false,
          false,
          false,
          false,
          false,
          false,
          false,
          false,
          false,
          false,
          false,
          false,
          false,
          false,
          false,
          false,
          false,
          false,
          false,
          false,
          false,
          false,
          false,
          false,
          false,
          false,
          false,
          false,
          false,
          false,
          false,
          false,
          false,
          false,
          false,
          false,
          false,
          false,
          false,
          false,
          false,
          false,
          false,
          false,
          false,
          false,
          false,
          false,
          false,
          false,
          false,
          false,
          false,
          false,
          false,
          false,
          false,
          false,
          false,
          false,
          false,
          false,
          false,
          false,
          false,
          false,
          false,
          false,
          false,
          false,
          false,
          false,
          false,
          false,
          false,
          false,
          false,
          false,
          false,
          false,
          false,
          false,
          false,
          false,
          false,
          false,
          false,
          false,
          false,
          false,
          false,
          false,
          false,
          false,
          false,
          false,
          false,
          false,
          false,
          false,
          false,
          false,
          false,
          false,
          false,
          false,
          false,
          false,
          false,
          false,
          false,
          false,
          false,
          false,
          false,
          false,
          false,
          false,
          false,
          false,
          false,
          false,
          false,
          false,
          false,
          false,
          false,
          false,
          false,
          false,
          false,
          false,
          false,
          false,
          false,
          false,
          false,
          false,
          false,
          false,
          false,
          false,
          false,
          false,
          false,
          false,
          false,
          false,
          false,
          false,
          false,
          false,
          false,
          false,
          false,
          false,
          false,
          false,
          false,
          false,
          false,
          false,
          false,
          false,
          false,
          false,
          false,
          false,
          false,
          false,
          false,
          false,
          false,
          false,
          false,
          false,
          false,
          false,
          false,
          false,
          false,
          false,
          false,
          false,
          false,
          false,
          false,
          false,
          false,
          false,
          false,
          false,
          false,
          false,
          false,
          false,
          false,
          false,
          false,
          false,
          false,
          false,
          false,
          false,
          false,
          false,
          false,
          false,
          false,
          false,
          false,
          false,
          false,
          false,
          false,
          false,
          false,
          false,
          false,
          false,
          false,
          false,
          false,
          false,
          false,
          false,
          false,
          false,
          false,
          false,
          false,
          false,
          false,
          false,
          false,
          false,
          false,
          false,
          false,
          false,
          false,
          false,
          false,
          false,
          false,
          false,
          false,
          false,
          false,
          false,
          false,
          false,
          false,
          false,
          false,
          false,
          false,
          false,
          false,
          false,
          false,
          false,
          false,
          false,
          false,
          false,
          false,
          false,
          false,
          false,
          false,
          false,
          false,
          false,
          false,
          false,
          false,
          false,
          false,
          false,
          false,
          false,
          false,
          false,
          false,
          false,
          false,
          false,
          false,
          false,
          false,
          false,
          false,
          false,
          false,
          false,
          false,
          false,
          false,
          false,
          false,
          false,
          false,
          false,
          false,
          false,
          false,
          false,
          false,
          false,
          false,
          false,
          false,
          false,
          false,
          false,
          false,
          false,
          false,
          false,
          false,
          false,
          false,
          false,
          false,
          false,
          false,
          false,
          false,
          false,
          false,
          false,
          false,
          false,
          false,
          false,
          false,
          false,
          false,
          false,
          false,
          false,
          false,
          false,
          false,
          false,
          false,
          false,
          false,
          false,
          false,
          false,
          false,
          false,
          false,
          false,
          false,
          false,
          false,
          false,
          false,
          false,
          false,
          false,
          false,
          false,
          false,
          false,
          false,
          false,
          false,
          false,
          false,
          false,
          false,
          false,
          false,
          false,
          false,
          false,
          false,
          false,
          false,
          false,
          false,
          false,
          false,
          false,
          false,
          false,
          false,
          false,
          false,
          false,
          false,
          false,
          false,
          false,
          false,
          false,
          false,
          false,
          false,
          false,
          false,
          false,
          false,
          false,
          false,
          false,
          false,
          false,
          false,
          false,
          false,
          false,
          false,
          false,
          false,
          false,
          false,
          false,
          false,
          false,
          false,
          false,
          false,
          false,
          false,
          false,
          false,
          false,
          false,
          false,
          false,
          false,
          false,
          false,
          false,
          false,
          false,
          false,
          false,
          false,
          false,
          false,
          false,
          false,
          false,
          false,
          false,
          false,
          false,
          false,
          false,
          false,
          false,
          false,
          false,
          false,
          false,
          false,
          false,
          false,
          false,
          false,
          false,
          false,
          false,
          false,
          false,
          false,
          false,
          false,
          false,
          false,
          false,
          false,
          false,
          false,
          false,
          false,
          false,
          false,
          false,
          false,
          false,
          false,
          false,
          false,
          false,
          false,
          false,
          false,
          false,
          false,
          false,
          false,
          false,
          false,
          false,
          false,
          false,
          false,
          false,
          false,
          false,
          false,
          false,
          false,
          false,
          false,
          false,
          false,
          false,
          false,
          false,
          false,
          false,
          false,
          false,
          false,
          false,
          false,
          false,
          false,
          false,
          false,
          false,
          false,
          false,
          false,
          false,
          false,
          false,
          false,
          false,
          false,
          false,
          false,
          false,
          false,
          false,
          false,
          false,
          false,
          false,
          false,
          false,
          false,
          false,
          false,
          false,
          false,
          false,
          false,
          false,
          false,
          false,
          false,
          false,
          false,
          false,
          false,
          false,
          false,
          false,
          false,
          false,
          false,
          false
         ]
        },
        {
         "histfunc": "count",
         "name": "True",
         "type": "histogram",
         "x": [
          true,
          true,
          true,
          true,
          true,
          true,
          true,
          true,
          true,
          true,
          true,
          true,
          true,
          true,
          true,
          true,
          true,
          true,
          true,
          true,
          true,
          true,
          true,
          true,
          true,
          true,
          true,
          true,
          true,
          true,
          true,
          true,
          true,
          true,
          true,
          true,
          true,
          true,
          true,
          true,
          true,
          true,
          true,
          true,
          true,
          true,
          true,
          true,
          true,
          true,
          true,
          true,
          true,
          true,
          true,
          true,
          true,
          true,
          true,
          true,
          true,
          true,
          true,
          true,
          true,
          true,
          true,
          true,
          true,
          true,
          true,
          true,
          true,
          true,
          true,
          true,
          true,
          true,
          true,
          true,
          true,
          true,
          true,
          true,
          true,
          true,
          true,
          true,
          true,
          true,
          true,
          true,
          true,
          true,
          true,
          true,
          true,
          true,
          true,
          true,
          true,
          true,
          true,
          true,
          true,
          true,
          true,
          true,
          true,
          true,
          true,
          true,
          true,
          true,
          true,
          true,
          true,
          true,
          true,
          true,
          true,
          true,
          true,
          true,
          true,
          true,
          true,
          true,
          true,
          true,
          true,
          true,
          true,
          true,
          true,
          true,
          true,
          true,
          true,
          true,
          true,
          true,
          true,
          true,
          true,
          true,
          true,
          true,
          true,
          true,
          true,
          true,
          true,
          true,
          true,
          true,
          true,
          true,
          true,
          true,
          true,
          true,
          true,
          true,
          true,
          true,
          true,
          true,
          true,
          true,
          true,
          true,
          true,
          true,
          true,
          true,
          true,
          true,
          true,
          true,
          true,
          true,
          true,
          true,
          true,
          true,
          true,
          true,
          true,
          true,
          true,
          true,
          true,
          true,
          true,
          true,
          true,
          true,
          true,
          true,
          true,
          true,
          true,
          true,
          true,
          true,
          true,
          true,
          true,
          true,
          true,
          true,
          true,
          true,
          true,
          true,
          true,
          true,
          true,
          true,
          true,
          true,
          true,
          true,
          true,
          true,
          true,
          true,
          true,
          true,
          true,
          true,
          true,
          true,
          true,
          true,
          true,
          true,
          true,
          true,
          true,
          true,
          true,
          true,
          true,
          true,
          true,
          true,
          true,
          true,
          true,
          true,
          true,
          true,
          true,
          true,
          true,
          true,
          true,
          true,
          true,
          true,
          true,
          true,
          true,
          true,
          true,
          true,
          true,
          true,
          true,
          true,
          true,
          true,
          true,
          true,
          true,
          true,
          true,
          true,
          true,
          true,
          true,
          true,
          true,
          true,
          true,
          true,
          true,
          true,
          true,
          true,
          true,
          true,
          true,
          true,
          true,
          true,
          true,
          true,
          true,
          true,
          true,
          true,
          true,
          true,
          true,
          true,
          true,
          true,
          true,
          true,
          true,
          true,
          true,
          true,
          true,
          true,
          true,
          true,
          true,
          true,
          true,
          true,
          true,
          true,
          true,
          true,
          true,
          true,
          true,
          true,
          true,
          true,
          true,
          true,
          true,
          true,
          true,
          true,
          true,
          true,
          true,
          true,
          true,
          true,
          true,
          true,
          true,
          true,
          true,
          true,
          true,
          true,
          true,
          true,
          true,
          true,
          true,
          true,
          true,
          true,
          true,
          true,
          true,
          true,
          true,
          true,
          true,
          true,
          true,
          true,
          true,
          true,
          true,
          true,
          true,
          true,
          true,
          true,
          true,
          true,
          true,
          true,
          true,
          true,
          true,
          true,
          true,
          true,
          true,
          true,
          true,
          true,
          true,
          true,
          true,
          true,
          true,
          true
         ]
        }
       ],
       "layout": {
        "legend": {
         "title": {
          "text": "is_hiker"
         }
        },
        "template": {
         "data": {
          "bar": [
           {
            "error_x": {
             "color": "#2a3f5f"
            },
            "error_y": {
             "color": "#2a3f5f"
            },
            "marker": {
             "line": {
              "color": "white",
              "width": 0.5
             },
             "pattern": {
              "fillmode": "overlay",
              "size": 10,
              "solidity": 0.2
             }
            },
            "type": "bar"
           }
          ],
          "barpolar": [
           {
            "marker": {
             "line": {
              "color": "white",
              "width": 0.5
             },
             "pattern": {
              "fillmode": "overlay",
              "size": 10,
              "solidity": 0.2
             }
            },
            "type": "barpolar"
           }
          ],
          "box": [
           {
            "boxpoints": "outliers",
            "notched": false,
            "type": "box"
           }
          ],
          "carpet": [
           {
            "aaxis": {
             "endlinecolor": "#2a3f5f",
             "gridcolor": "#C8D4E3",
             "linecolor": "#C8D4E3",
             "minorgridcolor": "#C8D4E3",
             "startlinecolor": "#2a3f5f"
            },
            "baxis": {
             "endlinecolor": "#2a3f5f",
             "gridcolor": "#C8D4E3",
             "linecolor": "#C8D4E3",
             "minorgridcolor": "#C8D4E3",
             "startlinecolor": "#2a3f5f"
            },
            "type": "carpet"
           }
          ],
          "choropleth": [
           {
            "colorbar": {
             "outlinewidth": 0,
             "ticks": ""
            },
            "type": "choropleth"
           }
          ],
          "contour": [
           {
            "colorbar": {
             "outlinewidth": 0,
             "ticks": ""
            },
            "colorscale": [
             [
              0,
              "#0d0887"
             ],
             [
              0.1111111111111111,
              "#46039f"
             ],
             [
              0.2222222222222222,
              "#7201a8"
             ],
             [
              0.3333333333333333,
              "#9c179e"
             ],
             [
              0.4444444444444444,
              "#bd3786"
             ],
             [
              0.5555555555555556,
              "#d8576b"
             ],
             [
              0.6666666666666666,
              "#ed7953"
             ],
             [
              0.7777777777777778,
              "#fb9f3a"
             ],
             [
              0.8888888888888888,
              "#fdca26"
             ],
             [
              1,
              "#f0f921"
             ]
            ],
            "type": "contour"
           }
          ],
          "contourcarpet": [
           {
            "colorbar": {
             "outlinewidth": 0,
             "ticks": ""
            },
            "type": "contourcarpet"
           }
          ],
          "heatmap": [
           {
            "colorbar": {
             "outlinewidth": 0,
             "ticks": ""
            },
            "colorscale": [
             [
              0,
              "#0d0887"
             ],
             [
              0.1111111111111111,
              "#46039f"
             ],
             [
              0.2222222222222222,
              "#7201a8"
             ],
             [
              0.3333333333333333,
              "#9c179e"
             ],
             [
              0.4444444444444444,
              "#bd3786"
             ],
             [
              0.5555555555555556,
              "#d8576b"
             ],
             [
              0.6666666666666666,
              "#ed7953"
             ],
             [
              0.7777777777777778,
              "#fb9f3a"
             ],
             [
              0.8888888888888888,
              "#fdca26"
             ],
             [
              1,
              "#f0f921"
             ]
            ],
            "type": "heatmap"
           }
          ],
          "heatmapgl": [
           {
            "colorbar": {
             "outlinewidth": 0,
             "ticks": ""
            },
            "colorscale": [
             [
              0,
              "#0d0887"
             ],
             [
              0.1111111111111111,
              "#46039f"
             ],
             [
              0.2222222222222222,
              "#7201a8"
             ],
             [
              0.3333333333333333,
              "#9c179e"
             ],
             [
              0.4444444444444444,
              "#bd3786"
             ],
             [
              0.5555555555555556,
              "#d8576b"
             ],
             [
              0.6666666666666666,
              "#ed7953"
             ],
             [
              0.7777777777777778,
              "#fb9f3a"
             ],
             [
              0.8888888888888888,
              "#fdca26"
             ],
             [
              1,
              "#f0f921"
             ]
            ],
            "type": "heatmapgl"
           }
          ],
          "histogram": [
           {
            "marker": {
             "line": {
              "width": 1
             },
             "pattern": {
              "fillmode": "overlay",
              "size": 10,
              "solidity": 0.2
             }
            },
            "type": "histogram"
           }
          ],
          "histogram2d": [
           {
            "colorbar": {
             "outlinewidth": 0,
             "ticks": ""
            },
            "colorscale": [
             [
              0,
              "#0d0887"
             ],
             [
              0.1111111111111111,
              "#46039f"
             ],
             [
              0.2222222222222222,
              "#7201a8"
             ],
             [
              0.3333333333333333,
              "#9c179e"
             ],
             [
              0.4444444444444444,
              "#bd3786"
             ],
             [
              0.5555555555555556,
              "#d8576b"
             ],
             [
              0.6666666666666666,
              "#ed7953"
             ],
             [
              0.7777777777777778,
              "#fb9f3a"
             ],
             [
              0.8888888888888888,
              "#fdca26"
             ],
             [
              1,
              "#f0f921"
             ]
            ],
            "type": "histogram2d"
           }
          ],
          "histogram2dcontour": [
           {
            "colorbar": {
             "outlinewidth": 0,
             "ticks": ""
            },
            "colorscale": [
             [
              0,
              "#0d0887"
             ],
             [
              0.1111111111111111,
              "#46039f"
             ],
             [
              0.2222222222222222,
              "#7201a8"
             ],
             [
              0.3333333333333333,
              "#9c179e"
             ],
             [
              0.4444444444444444,
              "#bd3786"
             ],
             [
              0.5555555555555556,
              "#d8576b"
             ],
             [
              0.6666666666666666,
              "#ed7953"
             ],
             [
              0.7777777777777778,
              "#fb9f3a"
             ],
             [
              0.8888888888888888,
              "#fdca26"
             ],
             [
              1,
              "#f0f921"
             ]
            ],
            "type": "histogram2dcontour"
           }
          ],
          "mesh3d": [
           {
            "colorbar": {
             "outlinewidth": 0,
             "ticks": ""
            },
            "type": "mesh3d"
           }
          ],
          "parcoords": [
           {
            "line": {
             "colorbar": {
              "outlinewidth": 0,
              "ticks": ""
             }
            },
            "type": "parcoords"
           }
          ],
          "pie": [
           {
            "automargin": true,
            "type": "pie"
           }
          ],
          "scatter": [
           {
            "fillpattern": {
             "fillmode": "overlay",
             "size": 10,
             "solidity": 0.2
            },
            "marker": {
             "opacity": 0.8
            },
            "type": "scatter"
           }
          ],
          "scatter3d": [
           {
            "line": {
             "colorbar": {
              "outlinewidth": 0,
              "ticks": ""
             }
            },
            "marker": {
             "colorbar": {
              "outlinewidth": 0,
              "ticks": ""
             },
             "opacity": 0.8
            },
            "type": "scatter3d"
           }
          ],
          "scattercarpet": [
           {
            "marker": {
             "colorbar": {
              "outlinewidth": 0,
              "ticks": ""
             }
            },
            "type": "scattercarpet"
           }
          ],
          "scattergeo": [
           {
            "marker": {
             "colorbar": {
              "outlinewidth": 0,
              "ticks": ""
             }
            },
            "type": "scattergeo"
           }
          ],
          "scattergl": [
           {
            "marker": {
             "colorbar": {
              "outlinewidth": 0,
              "ticks": ""
             }
            },
            "type": "scattergl"
           }
          ],
          "scattermapbox": [
           {
            "marker": {
             "colorbar": {
              "outlinewidth": 0,
              "ticks": ""
             }
            },
            "type": "scattermapbox"
           }
          ],
          "scatterpolar": [
           {
            "marker": {
             "colorbar": {
              "outlinewidth": 0,
              "ticks": ""
             }
            },
            "type": "scatterpolar"
           }
          ],
          "scatterpolargl": [
           {
            "marker": {
             "colorbar": {
              "outlinewidth": 0,
              "ticks": ""
             }
            },
            "type": "scatterpolargl"
           }
          ],
          "scatterternary": [
           {
            "marker": {
             "colorbar": {
              "outlinewidth": 0,
              "ticks": ""
             }
            },
            "type": "scatterternary"
           }
          ],
          "surface": [
           {
            "colorbar": {
             "outlinewidth": 0,
             "ticks": ""
            },
            "colorscale": [
             [
              0,
              "#0d0887"
             ],
             [
              0.1111111111111111,
              "#46039f"
             ],
             [
              0.2222222222222222,
              "#7201a8"
             ],
             [
              0.3333333333333333,
              "#9c179e"
             ],
             [
              0.4444444444444444,
              "#bd3786"
             ],
             [
              0.5555555555555556,
              "#d8576b"
             ],
             [
              0.6666666666666666,
              "#ed7953"
             ],
             [
              0.7777777777777778,
              "#fb9f3a"
             ],
             [
              0.8888888888888888,
              "#fdca26"
             ],
             [
              1,
              "#f0f921"
             ]
            ],
            "type": "surface"
           }
          ],
          "table": [
           {
            "cells": {
             "fill": {
              "color": "#EBF0F8"
             },
             "line": {
              "color": "white"
             }
            },
            "header": {
             "fill": {
              "color": "#C8D4E3"
             },
             "line": {
              "color": "white"
             }
            },
            "type": "table"
           }
          ]
         },
         "layout": {
          "annotationdefaults": {
           "arrowcolor": "#2a3f5f",
           "arrowhead": 0,
           "arrowwidth": 1
          },
          "autotypenumbers": "strict",
          "coloraxis": {
           "colorbar": {
            "outlinewidth": 0,
            "ticks": ""
           }
          },
          "colorscale": {
           "diverging": [
            [
             0,
             "#8e0152"
            ],
            [
             0.1,
             "#c51b7d"
            ],
            [
             0.2,
             "#de77ae"
            ],
            [
             0.3,
             "#f1b6da"
            ],
            [
             0.4,
             "#fde0ef"
            ],
            [
             0.5,
             "#f7f7f7"
            ],
            [
             0.6,
             "#e6f5d0"
            ],
            [
             0.7,
             "#b8e186"
            ],
            [
             0.8,
             "#7fbc41"
            ],
            [
             0.9,
             "#4d9221"
            ],
            [
             1,
             "#276419"
            ]
           ],
           "sequential": [
            [
             0,
             "#0d0887"
            ],
            [
             0.1111111111111111,
             "#46039f"
            ],
            [
             0.2222222222222222,
             "#7201a8"
            ],
            [
             0.3333333333333333,
             "#9c179e"
            ],
            [
             0.4444444444444444,
             "#bd3786"
            ],
            [
             0.5555555555555556,
             "#d8576b"
            ],
            [
             0.6666666666666666,
             "#ed7953"
            ],
            [
             0.7777777777777778,
             "#fb9f3a"
            ],
            [
             0.8888888888888888,
             "#fdca26"
            ],
            [
             1,
             "#f0f921"
            ]
           ],
           "sequentialminus": [
            [
             0,
             "#0d0887"
            ],
            [
             0.1111111111111111,
             "#46039f"
            ],
            [
             0.2222222222222222,
             "#7201a8"
            ],
            [
             0.3333333333333333,
             "#9c179e"
            ],
            [
             0.4444444444444444,
             "#bd3786"
            ],
            [
             0.5555555555555556,
             "#d8576b"
            ],
            [
             0.6666666666666666,
             "#ed7953"
            ],
            [
             0.7777777777777778,
             "#fb9f3a"
            ],
            [
             0.8888888888888888,
             "#fdca26"
            ],
            [
             1,
             "#f0f921"
            ]
           ]
          },
          "colorway": [
           "#636efa",
           "#EF553B",
           "#00cc96",
           "#ab63fa",
           "#FFA15A",
           "#19d3f3",
           "#FF6692",
           "#B6E880",
           "#FF97FF",
           "#FECB52"
          ],
          "font": {
           "color": "#2a3f5f"
          },
          "geo": {
           "bgcolor": "white",
           "lakecolor": "white",
           "landcolor": "white",
           "showlakes": true,
           "showland": true,
           "subunitcolor": "#C8D4E3"
          },
          "height": 400,
          "hoverlabel": {
           "align": "left"
          },
          "hovermode": "closest",
          "mapbox": {
           "style": "light"
          },
          "margin": {
           "b": 2,
           "l": 2,
           "r": 2,
           "t": 30
          },
          "paper_bgcolor": "white",
          "plot_bgcolor": "white",
          "polar": {
           "angularaxis": {
            "gridcolor": "#EBF0F8",
            "linecolor": "#EBF0F8",
            "ticks": ""
           },
           "bgcolor": "white",
           "radialaxis": {
            "gridcolor": "#EBF0F8",
            "linecolor": "#EBF0F8",
            "ticks": ""
           }
          },
          "scene": {
           "camera": {
            "eye": {
             "x": 1.5,
             "y": 1.5,
             "z": 0.1
            }
           },
           "xaxis": {
            "backgroundcolor": "white",
            "gridcolor": "#DFE8F3",
            "gridwidth": 2,
            "linecolor": "#EBF0F8",
            "showbackground": true,
            "ticks": "",
            "zerolinecolor": "#EBF0F8"
           },
           "yaxis": {
            "backgroundcolor": "white",
            "gridcolor": "#DFE8F3",
            "gridwidth": 2,
            "linecolor": "#EBF0F8",
            "showbackground": true,
            "ticks": "",
            "zerolinecolor": "#EBF0F8"
           },
           "zaxis": {
            "backgroundcolor": "white",
            "gridcolor": "#DFE8F3",
            "gridwidth": 2,
            "linecolor": "#EBF0F8",
            "showbackground": true,
            "ticks": "",
            "zerolinecolor": "#EBF0F8"
           }
          },
          "shapedefaults": {
           "line": {
            "color": "#2a3f5f"
           }
          },
          "ternary": {
           "aaxis": {
            "gridcolor": "#DFE8F3",
            "linecolor": "#A2B1C6",
            "ticks": ""
           },
           "baxis": {
            "gridcolor": "#DFE8F3",
            "linecolor": "#A2B1C6",
            "ticks": ""
           },
           "bgcolor": "white",
           "caxis": {
            "gridcolor": "#DFE8F3",
            "linecolor": "#A2B1C6",
            "ticks": ""
           }
          },
          "title": {
           "x": 0.5
          },
          "xaxis": {
           "automargin": true,
           "gridcolor": "#EBF0F8",
           "linecolor": "#EBF0F8",
           "linewidth": 2,
           "showline": true,
           "ticks": "",
           "title": {
            "standoff": 15
           },
           "zerolinecolor": "#EBF0F8",
           "zerolinewidth": 2
          },
          "yaxis": {
           "automargin": true,
           "gridcolor": "#EBF0F8",
           "linecolor": "#EBF0F8",
           "linewidth": 2,
           "showline": true,
           "ticks": "",
           "title": {
            "standoff": 15
           },
           "zerolinecolor": "#EBF0F8",
           "zerolinewidth": 2
          }
         }
        },
        "title": {
         "text": "Distribution for new binary label 'is_hiker'"
        },
        "xaxis": {
         "title": {
          "text": "is hiker"
         }
        },
        "yaxis": {
         "title": {
          "text": "count"
         }
        }
       }
      }
     },
     "metadata": {},
     "output_type": "display_data"
    }
   ],
   "source": [
    "# Add a new label with true/false values to our dataset\n",
    "dataset[\"is_hiker\"] = dataset.label == \"hiker\"\n",
    "\n",
    "# Plot frequency for new label\n",
    "graphing.multiple_histogram(dataset, label_x=\"is_hiker\", label_group=\"is_hiker\", title=\"Distribution for new binary label 'is_hiker'\")"
   ]
  },
  {
   "attachments": {},
   "cell_type": "markdown",
   "metadata": {},
   "source": [
    "Ahora tenemos solo dos clases de etiquetas en nuestro conjunto de datos, pero lo hemos hecho aún más desequilibrado. Entrenemos el modelo de bosque aleatorio usando is_hiker como la variable de destino, luego midamos su precisión en los conjuntos de entrenamiento y prueba:"
   ]
  },
  {
   "cell_type": "code",
   "execution_count": 5,
   "metadata": {},
   "outputs": [
    {
     "name": "stdout",
     "output_type": "stream",
     "text": [
      "Train accuracy: 0.9532467532467532\n",
      "Test accuracy: 0.906060606060606\n"
     ]
    }
   ],
   "source": [
    "from sklearn.ensemble import RandomForestClassifier\n",
    "from sklearn.model_selection import train_test_split\n",
    "# import matplotlib.pyplot as plt\n",
    "# from sklearn.metrics import plot_confusion_matrix\n",
    "from sklearn.metrics import accuracy_score\n",
    "\n",
    "# Custom function that measures accuracy on different models and datasets\n",
    "# We will use this in different parts of the exercise\n",
    "def assess_accuracy(model, dataset, label):\n",
    "    \"\"\"\n",
    "    Asesses model accuracy on different sets\n",
    "    \"\"\" \n",
    "    actual = dataset[label]        \n",
    "    predictions = model.predict(dataset[features])\n",
    "    acc = accuracy_score(actual, predictions)\n",
    "    return acc\n",
    "\n",
    "# Split the dataset in an 70/30 train/test ratio. \n",
    "train, test = train_test_split(dataset, test_size=0.3, random_state=1, shuffle=True)\n",
    "\n",
    "# define a random forest model\n",
    "model = RandomForestClassifier(n_estimators=1, random_state=1, verbose=False)\n",
    "\n",
    "# Define which features are to be used (leave color out for now)\n",
    "features = [\"size\", \"roughness\", \"motion\"]\n",
    "\n",
    "# Train the model using the binary label\n",
    "model.fit(train[features], train.is_hiker)\n",
    "\n",
    "print(\"Train accuracy:\", assess_accuracy(model,train, \"is_hiker\"))\n",
    "print(\"Test accuracy:\", assess_accuracy(model,test, \"is_hiker\"))"
   ]
  },
  {
   "attachments": {},
   "cell_type": "markdown",
   "metadata": {},
   "source": [
    "La precisión se ve bien tanto para el entrenamiento como para los conjuntos de prueba, pero recuerde que esta métrica no es una medida absoluta del éxito. Deberíamos trazar una matriz de confusión para ver cómo funciona realmente el modelo:"
   ]
  },
  {
   "cell_type": "code",
   "execution_count": 6,
   "metadata": {},
   "outputs": [
    {
     "data": {
      "application/vnd.plotly.v1+json": {
       "config": {
        "plotlyServerURL": "https://plot.ly"
       },
       "data": [
        {
         "colorscale": [
          [
           0,
           "#0d0887"
          ],
          [
           0.1111111111111111,
           "#46039f"
          ],
          [
           0.2222222222222222,
           "#7201a8"
          ],
          [
           0.3333333333333333,
           "#9c179e"
          ],
          [
           0.4444444444444444,
           "#bd3786"
          ],
          [
           0.5555555555555556,
           "#d8576b"
          ],
          [
           0.6666666666666666,
           "#ed7953"
          ],
          [
           0.7777777777777778,
           "#fb9f3a"
          ],
          [
           0.8888888888888888,
           "#fdca26"
          ],
          [
           1,
           "#f0f921"
          ]
         ],
         "reversescale": false,
         "showscale": true,
         "type": "heatmap",
         "x": [
          "false",
          "true"
         ],
         "y": [
          "false",
          "true"
         ],
         "z": [
          [
           523,
           33
          ],
          [
           29,
           75
          ]
         ]
        }
       ],
       "layout": {
        "annotations": [
         {
          "font": {
           "color": "#000000"
          },
          "showarrow": false,
          "text": "523",
          "x": "false",
          "xref": "x",
          "y": "false",
          "yref": "y"
         },
         {
          "font": {
           "color": "#FFFFFF"
          },
          "showarrow": false,
          "text": "33",
          "x": "true",
          "xref": "x",
          "y": "false",
          "yref": "y"
         },
         {
          "font": {
           "color": "#FFFFFF"
          },
          "showarrow": false,
          "text": "29",
          "x": "false",
          "xref": "x",
          "y": "true",
          "yref": "y"
         },
         {
          "font": {
           "color": "#FFFFFF"
          },
          "showarrow": false,
          "text": "75",
          "x": "true",
          "xref": "x",
          "y": "true",
          "yref": "y"
         },
         {
          "font": {
           "color": "black",
           "size": 14
          },
          "showarrow": false,
          "text": "Predicted label",
          "x": 0.5,
          "xref": "paper",
          "y": -0.15,
          "yref": "paper"
         },
         {
          "font": {
           "color": "black",
           "size": 14
          },
          "showarrow": false,
          "text": "Actual label",
          "textangle": -90,
          "x": -0.15,
          "xref": "paper",
          "y": 0.5,
          "yref": "paper"
         }
        ],
        "margin": {
         "b": 50,
         "l": 120,
         "r": 20,
         "t": 80
        },
        "template": {
         "data": {
          "bar": [
           {
            "error_x": {
             "color": "#2a3f5f"
            },
            "error_y": {
             "color": "#2a3f5f"
            },
            "marker": {
             "line": {
              "color": "white",
              "width": 0.5
             },
             "pattern": {
              "fillmode": "overlay",
              "size": 10,
              "solidity": 0.2
             }
            },
            "type": "bar"
           }
          ],
          "barpolar": [
           {
            "marker": {
             "line": {
              "color": "white",
              "width": 0.5
             },
             "pattern": {
              "fillmode": "overlay",
              "size": 10,
              "solidity": 0.2
             }
            },
            "type": "barpolar"
           }
          ],
          "box": [
           {
            "boxpoints": "outliers",
            "notched": false,
            "type": "box"
           }
          ],
          "carpet": [
           {
            "aaxis": {
             "endlinecolor": "#2a3f5f",
             "gridcolor": "#C8D4E3",
             "linecolor": "#C8D4E3",
             "minorgridcolor": "#C8D4E3",
             "startlinecolor": "#2a3f5f"
            },
            "baxis": {
             "endlinecolor": "#2a3f5f",
             "gridcolor": "#C8D4E3",
             "linecolor": "#C8D4E3",
             "minorgridcolor": "#C8D4E3",
             "startlinecolor": "#2a3f5f"
            },
            "type": "carpet"
           }
          ],
          "choropleth": [
           {
            "colorbar": {
             "outlinewidth": 0,
             "ticks": ""
            },
            "type": "choropleth"
           }
          ],
          "contour": [
           {
            "colorbar": {
             "outlinewidth": 0,
             "ticks": ""
            },
            "colorscale": [
             [
              0,
              "#0d0887"
             ],
             [
              0.1111111111111111,
              "#46039f"
             ],
             [
              0.2222222222222222,
              "#7201a8"
             ],
             [
              0.3333333333333333,
              "#9c179e"
             ],
             [
              0.4444444444444444,
              "#bd3786"
             ],
             [
              0.5555555555555556,
              "#d8576b"
             ],
             [
              0.6666666666666666,
              "#ed7953"
             ],
             [
              0.7777777777777778,
              "#fb9f3a"
             ],
             [
              0.8888888888888888,
              "#fdca26"
             ],
             [
              1,
              "#f0f921"
             ]
            ],
            "type": "contour"
           }
          ],
          "contourcarpet": [
           {
            "colorbar": {
             "outlinewidth": 0,
             "ticks": ""
            },
            "type": "contourcarpet"
           }
          ],
          "heatmap": [
           {
            "colorbar": {
             "outlinewidth": 0,
             "ticks": ""
            },
            "colorscale": [
             [
              0,
              "#0d0887"
             ],
             [
              0.1111111111111111,
              "#46039f"
             ],
             [
              0.2222222222222222,
              "#7201a8"
             ],
             [
              0.3333333333333333,
              "#9c179e"
             ],
             [
              0.4444444444444444,
              "#bd3786"
             ],
             [
              0.5555555555555556,
              "#d8576b"
             ],
             [
              0.6666666666666666,
              "#ed7953"
             ],
             [
              0.7777777777777778,
              "#fb9f3a"
             ],
             [
              0.8888888888888888,
              "#fdca26"
             ],
             [
              1,
              "#f0f921"
             ]
            ],
            "type": "heatmap"
           }
          ],
          "heatmapgl": [
           {
            "colorbar": {
             "outlinewidth": 0,
             "ticks": ""
            },
            "colorscale": [
             [
              0,
              "#0d0887"
             ],
             [
              0.1111111111111111,
              "#46039f"
             ],
             [
              0.2222222222222222,
              "#7201a8"
             ],
             [
              0.3333333333333333,
              "#9c179e"
             ],
             [
              0.4444444444444444,
              "#bd3786"
             ],
             [
              0.5555555555555556,
              "#d8576b"
             ],
             [
              0.6666666666666666,
              "#ed7953"
             ],
             [
              0.7777777777777778,
              "#fb9f3a"
             ],
             [
              0.8888888888888888,
              "#fdca26"
             ],
             [
              1,
              "#f0f921"
             ]
            ],
            "type": "heatmapgl"
           }
          ],
          "histogram": [
           {
            "marker": {
             "line": {
              "width": 1
             },
             "pattern": {
              "fillmode": "overlay",
              "size": 10,
              "solidity": 0.2
             }
            },
            "type": "histogram"
           }
          ],
          "histogram2d": [
           {
            "colorbar": {
             "outlinewidth": 0,
             "ticks": ""
            },
            "colorscale": [
             [
              0,
              "#0d0887"
             ],
             [
              0.1111111111111111,
              "#46039f"
             ],
             [
              0.2222222222222222,
              "#7201a8"
             ],
             [
              0.3333333333333333,
              "#9c179e"
             ],
             [
              0.4444444444444444,
              "#bd3786"
             ],
             [
              0.5555555555555556,
              "#d8576b"
             ],
             [
              0.6666666666666666,
              "#ed7953"
             ],
             [
              0.7777777777777778,
              "#fb9f3a"
             ],
             [
              0.8888888888888888,
              "#fdca26"
             ],
             [
              1,
              "#f0f921"
             ]
            ],
            "type": "histogram2d"
           }
          ],
          "histogram2dcontour": [
           {
            "colorbar": {
             "outlinewidth": 0,
             "ticks": ""
            },
            "colorscale": [
             [
              0,
              "#0d0887"
             ],
             [
              0.1111111111111111,
              "#46039f"
             ],
             [
              0.2222222222222222,
              "#7201a8"
             ],
             [
              0.3333333333333333,
              "#9c179e"
             ],
             [
              0.4444444444444444,
              "#bd3786"
             ],
             [
              0.5555555555555556,
              "#d8576b"
             ],
             [
              0.6666666666666666,
              "#ed7953"
             ],
             [
              0.7777777777777778,
              "#fb9f3a"
             ],
             [
              0.8888888888888888,
              "#fdca26"
             ],
             [
              1,
              "#f0f921"
             ]
            ],
            "type": "histogram2dcontour"
           }
          ],
          "mesh3d": [
           {
            "colorbar": {
             "outlinewidth": 0,
             "ticks": ""
            },
            "type": "mesh3d"
           }
          ],
          "parcoords": [
           {
            "line": {
             "colorbar": {
              "outlinewidth": 0,
              "ticks": ""
             }
            },
            "type": "parcoords"
           }
          ],
          "pie": [
           {
            "automargin": true,
            "type": "pie"
           }
          ],
          "scatter": [
           {
            "fillpattern": {
             "fillmode": "overlay",
             "size": 10,
             "solidity": 0.2
            },
            "marker": {
             "opacity": 0.8
            },
            "type": "scatter"
           }
          ],
          "scatter3d": [
           {
            "line": {
             "colorbar": {
              "outlinewidth": 0,
              "ticks": ""
             }
            },
            "marker": {
             "colorbar": {
              "outlinewidth": 0,
              "ticks": ""
             },
             "opacity": 0.8
            },
            "type": "scatter3d"
           }
          ],
          "scattercarpet": [
           {
            "marker": {
             "colorbar": {
              "outlinewidth": 0,
              "ticks": ""
             }
            },
            "type": "scattercarpet"
           }
          ],
          "scattergeo": [
           {
            "marker": {
             "colorbar": {
              "outlinewidth": 0,
              "ticks": ""
             }
            },
            "type": "scattergeo"
           }
          ],
          "scattergl": [
           {
            "marker": {
             "colorbar": {
              "outlinewidth": 0,
              "ticks": ""
             }
            },
            "type": "scattergl"
           }
          ],
          "scattermapbox": [
           {
            "marker": {
             "colorbar": {
              "outlinewidth": 0,
              "ticks": ""
             }
            },
            "type": "scattermapbox"
           }
          ],
          "scatterpolar": [
           {
            "marker": {
             "colorbar": {
              "outlinewidth": 0,
              "ticks": ""
             }
            },
            "type": "scatterpolar"
           }
          ],
          "scatterpolargl": [
           {
            "marker": {
             "colorbar": {
              "outlinewidth": 0,
              "ticks": ""
             }
            },
            "type": "scatterpolargl"
           }
          ],
          "scatterternary": [
           {
            "marker": {
             "colorbar": {
              "outlinewidth": 0,
              "ticks": ""
             }
            },
            "type": "scatterternary"
           }
          ],
          "surface": [
           {
            "colorbar": {
             "outlinewidth": 0,
             "ticks": ""
            },
            "colorscale": [
             [
              0,
              "#0d0887"
             ],
             [
              0.1111111111111111,
              "#46039f"
             ],
             [
              0.2222222222222222,
              "#7201a8"
             ],
             [
              0.3333333333333333,
              "#9c179e"
             ],
             [
              0.4444444444444444,
              "#bd3786"
             ],
             [
              0.5555555555555556,
              "#d8576b"
             ],
             [
              0.6666666666666666,
              "#ed7953"
             ],
             [
              0.7777777777777778,
              "#fb9f3a"
             ],
             [
              0.8888888888888888,
              "#fdca26"
             ],
             [
              1,
              "#f0f921"
             ]
            ],
            "type": "surface"
           }
          ],
          "table": [
           {
            "cells": {
             "fill": {
              "color": "#EBF0F8"
             },
             "line": {
              "color": "white"
             }
            },
            "header": {
             "fill": {
              "color": "#C8D4E3"
             },
             "line": {
              "color": "white"
             }
            },
            "type": "table"
           }
          ]
         },
         "layout": {
          "annotationdefaults": {
           "arrowcolor": "#2a3f5f",
           "arrowhead": 0,
           "arrowwidth": 1
          },
          "autotypenumbers": "strict",
          "coloraxis": {
           "colorbar": {
            "outlinewidth": 0,
            "ticks": ""
           }
          },
          "colorscale": {
           "diverging": [
            [
             0,
             "#8e0152"
            ],
            [
             0.1,
             "#c51b7d"
            ],
            [
             0.2,
             "#de77ae"
            ],
            [
             0.3,
             "#f1b6da"
            ],
            [
             0.4,
             "#fde0ef"
            ],
            [
             0.5,
             "#f7f7f7"
            ],
            [
             0.6,
             "#e6f5d0"
            ],
            [
             0.7,
             "#b8e186"
            ],
            [
             0.8,
             "#7fbc41"
            ],
            [
             0.9,
             "#4d9221"
            ],
            [
             1,
             "#276419"
            ]
           ],
           "sequential": [
            [
             0,
             "#0d0887"
            ],
            [
             0.1111111111111111,
             "#46039f"
            ],
            [
             0.2222222222222222,
             "#7201a8"
            ],
            [
             0.3333333333333333,
             "#9c179e"
            ],
            [
             0.4444444444444444,
             "#bd3786"
            ],
            [
             0.5555555555555556,
             "#d8576b"
            ],
            [
             0.6666666666666666,
             "#ed7953"
            ],
            [
             0.7777777777777778,
             "#fb9f3a"
            ],
            [
             0.8888888888888888,
             "#fdca26"
            ],
            [
             1,
             "#f0f921"
            ]
           ],
           "sequentialminus": [
            [
             0,
             "#0d0887"
            ],
            [
             0.1111111111111111,
             "#46039f"
            ],
            [
             0.2222222222222222,
             "#7201a8"
            ],
            [
             0.3333333333333333,
             "#9c179e"
            ],
            [
             0.4444444444444444,
             "#bd3786"
            ],
            [
             0.5555555555555556,
             "#d8576b"
            ],
            [
             0.6666666666666666,
             "#ed7953"
            ],
            [
             0.7777777777777778,
             "#fb9f3a"
            ],
            [
             0.8888888888888888,
             "#fdca26"
            ],
            [
             1,
             "#f0f921"
            ]
           ]
          },
          "colorway": [
           "#636efa",
           "#EF553B",
           "#00cc96",
           "#ab63fa",
           "#FFA15A",
           "#19d3f3",
           "#FF6692",
           "#B6E880",
           "#FF97FF",
           "#FECB52"
          ],
          "font": {
           "color": "#2a3f5f"
          },
          "geo": {
           "bgcolor": "white",
           "lakecolor": "white",
           "landcolor": "white",
           "showlakes": true,
           "showland": true,
           "subunitcolor": "#C8D4E3"
          },
          "height": 400,
          "hoverlabel": {
           "align": "left"
          },
          "hovermode": "closest",
          "mapbox": {
           "style": "light"
          },
          "margin": {
           "b": 2,
           "l": 2,
           "r": 2,
           "t": 30
          },
          "paper_bgcolor": "white",
          "plot_bgcolor": "white",
          "polar": {
           "angularaxis": {
            "gridcolor": "#EBF0F8",
            "linecolor": "#EBF0F8",
            "ticks": ""
           },
           "bgcolor": "white",
           "radialaxis": {
            "gridcolor": "#EBF0F8",
            "linecolor": "#EBF0F8",
            "ticks": ""
           }
          },
          "scene": {
           "camera": {
            "eye": {
             "x": 1.5,
             "y": 1.5,
             "z": 0.1
            }
           },
           "xaxis": {
            "backgroundcolor": "white",
            "gridcolor": "#DFE8F3",
            "gridwidth": 2,
            "linecolor": "#EBF0F8",
            "showbackground": true,
            "ticks": "",
            "zerolinecolor": "#EBF0F8"
           },
           "yaxis": {
            "backgroundcolor": "white",
            "gridcolor": "#DFE8F3",
            "gridwidth": 2,
            "linecolor": "#EBF0F8",
            "showbackground": true,
            "ticks": "",
            "zerolinecolor": "#EBF0F8"
           },
           "zaxis": {
            "backgroundcolor": "white",
            "gridcolor": "#DFE8F3",
            "gridwidth": 2,
            "linecolor": "#EBF0F8",
            "showbackground": true,
            "ticks": "",
            "zerolinecolor": "#EBF0F8"
           }
          },
          "shapedefaults": {
           "line": {
            "color": "#2a3f5f"
           }
          },
          "ternary": {
           "aaxis": {
            "gridcolor": "#DFE8F3",
            "linecolor": "#A2B1C6",
            "ticks": ""
           },
           "baxis": {
            "gridcolor": "#DFE8F3",
            "linecolor": "#A2B1C6",
            "ticks": ""
           },
           "bgcolor": "white",
           "caxis": {
            "gridcolor": "#DFE8F3",
            "linecolor": "#A2B1C6",
            "ticks": ""
           }
          },
          "title": {
           "x": 0.5
          },
          "xaxis": {
           "automargin": true,
           "gridcolor": "#EBF0F8",
           "linecolor": "#EBF0F8",
           "linewidth": 2,
           "showline": true,
           "ticks": "",
           "title": {
            "standoff": 15
           },
           "zerolinecolor": "#EBF0F8",
           "zerolinewidth": 2
          },
          "yaxis": {
           "automargin": true,
           "gridcolor": "#EBF0F8",
           "linecolor": "#EBF0F8",
           "linewidth": 2,
           "showline": true,
           "ticks": "",
           "title": {
            "standoff": 15
           },
           "zerolinecolor": "#EBF0F8",
           "zerolinewidth": 2
          }
         }
        },
        "title": {
         "text": "<b>Confusion matrix</b>"
        },
        "xaxis": {
         "dtick": 1,
         "gridcolor": "rgb(0, 0, 0)",
         "side": "top",
         "ticks": ""
        },
        "yaxis": {
         "categoryorder": "category descending",
         "dtick": 1,
         "ticks": "",
         "ticksuffix": "  "
        }
       }
      }
     },
     "metadata": {},
     "output_type": "display_data"
    }
   ],
   "source": [
    "# sklearn has a very convenient utility to build confusion matrices\n",
    "from sklearn.metrics import confusion_matrix\n",
    "import plotly.figure_factory as ff\n",
    "\n",
    "# Calculate the model's accuracy on the TEST set\n",
    "actual = test.is_hiker\n",
    "predictions = model.predict(test[features])\n",
    "\n",
    "# Build and print our confusion matrix, using the actual values and predictions \n",
    "# from the test set, calculated in previous cells\n",
    "cm = confusion_matrix(actual, predictions, normalize=None)\n",
    "\n",
    "# Create the list of unique labels in the test set, to use in our plot\n",
    "# I.e., ['True', 'False',]\n",
    "unique_targets = sorted(list(test[\"is_hiker\"].unique()))\n",
    "\n",
    "# Convert values to lower case so the plot code can count the outcomes\n",
    "x = y = [str(s).lower() for s in unique_targets]\n",
    "\n",
    "# Plot the matrix above as a heatmap with annotations (values) in its cells\n",
    "fig = ff.create_annotated_heatmap(cm, x, y)\n",
    "\n",
    "# Set titles and ordering\n",
    "fig.update_layout(  title_text=\"<b>Confusion matrix</b>\", \n",
    "                    yaxis = dict(categoryorder = \"category descending\")\n",
    "                    )\n",
    "\n",
    "fig.add_annotation(dict(font=dict(color=\"black\",size=14),\n",
    "                        x=0.5,\n",
    "                        y=-0.15,\n",
    "                        showarrow=False,\n",
    "                        text=\"Predicted label\",\n",
    "                        xref=\"paper\",\n",
    "                        yref=\"paper\"))\n",
    "\n",
    "fig.add_annotation(dict(font=dict(color=\"black\",size=14),\n",
    "                        x=-0.15,\n",
    "                        y=0.5,\n",
    "                        showarrow=False,\n",
    "                        text=\"Actual label\",\n",
    "                        textangle=-90,\n",
    "                        xref=\"paper\",\n",
    "                        yref=\"paper\"))\n",
    "\n",
    "# We need margins so the titles fit\n",
    "fig.update_layout(margin=dict(t=80, r=20, l=120, b=50))\n",
    "fig['data'][0]['showscale'] = True\n",
    "fig.show()"
   ]
  },
  {
   "attachments": {},
   "cell_type": "markdown",
   "metadata": {},
   "source": [
    "La matriz de confusión nos muestra que, a pesar de las métricas indicadas, el modelo no es increíblemente preciso.\n",
    "\n",
    "De las 660 muestras presentes en el conjunto de pruebas (el 30% del total), predijo 29 falsos negativos y 33 falsos positivos.\n",
    "\n",
    "Y lo que es más importante, fíjese en la fila inferior, que muestra lo que ocurrió cuando se mostró al modelo información sobre un excursionista: se equivocó de respuesta casi el 30% de las veces. Esto significa que no identificaría correctamente a casi el 30% de las personas de la montaña.\n",
    "\n",
    "¿Qué ocurre si utilizamos este modelo para hacer predicciones sobre conjuntos equilibrados?\n",
    "\n",
    "Carguemos un conjunto de datos con el mismo número de resultados para \"excursionistas\" y \"no excursionistas\", y utilicemos esos datos para hacer predicciones:"
   ]
  },
  {
   "cell_type": "code",
   "execution_count": 7,
   "metadata": {},
   "outputs": [
    {
     "data": {
      "application/vnd.plotly.v1+json": {
       "config": {
        "plotlyServerURL": "https://plot.ly"
       },
       "data": [
        {
         "histfunc": "count",
         "name": "animal",
         "type": "histogram",
         "x": [
          "animal",
          "animal",
          "animal",
          "animal",
          "animal",
          "animal",
          "animal",
          "animal",
          "animal",
          "animal",
          "animal",
          "animal",
          "animal",
          "animal",
          "animal",
          "animal",
          "animal",
          "animal",
          "animal",
          "animal",
          "animal",
          "animal",
          "animal",
          "animal",
          "animal",
          "animal",
          "animal",
          "animal",
          "animal",
          "animal",
          "animal",
          "animal",
          "animal",
          "animal",
          "animal",
          "animal",
          "animal",
          "animal",
          "animal",
          "animal",
          "animal",
          "animal",
          "animal",
          "animal",
          "animal",
          "animal",
          "animal",
          "animal",
          "animal",
          "animal",
          "animal",
          "animal",
          "animal",
          "animal",
          "animal",
          "animal",
          "animal",
          "animal",
          "animal",
          "animal",
          "animal",
          "animal",
          "animal",
          "animal",
          "animal",
          "animal",
          "animal",
          "animal",
          "animal",
          "animal",
          "animal",
          "animal",
          "animal",
          "animal",
          "animal",
          "animal",
          "animal",
          "animal",
          "animal",
          "animal",
          "animal",
          "animal",
          "animal",
          "animal",
          "animal",
          "animal",
          "animal",
          "animal",
          "animal",
          "animal",
          "animal",
          "animal",
          "animal",
          "animal",
          "animal",
          "animal",
          "animal",
          "animal",
          "animal",
          "animal",
          "animal",
          "animal",
          "animal",
          "animal",
          "animal",
          "animal",
          "animal",
          "animal",
          "animal",
          "animal",
          "animal",
          "animal",
          "animal",
          "animal",
          "animal",
          "animal",
          "animal",
          "animal",
          "animal",
          "animal",
          "animal",
          "animal",
          "animal",
          "animal",
          "animal",
          "animal",
          "animal",
          "animal",
          "animal",
          "animal",
          "animal",
          "animal",
          "animal",
          "animal",
          "animal",
          "animal",
          "animal",
          "animal",
          "animal",
          "animal",
          "animal",
          "animal",
          "animal",
          "animal",
          "animal",
          "animal",
          "animal",
          "animal",
          "animal",
          "animal",
          "animal",
          "animal",
          "animal",
          "animal",
          "animal",
          "animal",
          "animal",
          "animal",
          "animal",
          "animal",
          "animal",
          "animal",
          "animal",
          "animal",
          "animal",
          "animal",
          "animal",
          "animal",
          "animal",
          "animal",
          "animal",
          "animal",
          "animal",
          "animal",
          "animal",
          "animal",
          "animal",
          "animal",
          "animal",
          "animal",
          "animal",
          "animal",
          "animal",
          "animal",
          "animal",
          "animal",
          "animal",
          "animal",
          "animal",
          "animal",
          "animal",
          "animal",
          "animal",
          "animal",
          "animal",
          "animal",
          "animal",
          "animal",
          "animal",
          "animal",
          "animal",
          "animal",
          "animal",
          "animal",
          "animal",
          "animal",
          "animal",
          "animal",
          "animal",
          "animal",
          "animal",
          "animal",
          "animal",
          "animal",
          "animal",
          "animal",
          "animal",
          "animal",
          "animal",
          "animal",
          "animal",
          "animal",
          "animal",
          "animal",
          "animal",
          "animal",
          "animal",
          "animal",
          "animal",
          "animal",
          "animal",
          "animal",
          "animal",
          "animal",
          "animal",
          "animal",
          "animal",
          "animal",
          "animal",
          "animal",
          "animal",
          "animal",
          "animal",
          "animal",
          "animal",
          "animal",
          "animal",
          "animal",
          "animal",
          "animal",
          "animal",
          "animal",
          "animal",
          "animal",
          "animal",
          "animal",
          "animal",
          "animal",
          "animal",
          "animal",
          "animal",
          "animal",
          "animal",
          "animal",
          "animal",
          "animal",
          "animal",
          "animal",
          "animal",
          "animal",
          "animal",
          "animal",
          "animal",
          "animal",
          "animal",
          "animal",
          "animal",
          "animal",
          "animal",
          "animal",
          "animal",
          "animal",
          "animal",
          "animal",
          "animal",
          "animal",
          "animal",
          "animal",
          "animal",
          "animal",
          "animal",
          "animal",
          "animal",
          "animal",
          "animal",
          "animal",
          "animal",
          "animal",
          "animal",
          "animal",
          "animal",
          "animal",
          "animal",
          "animal",
          "animal",
          "animal",
          "animal",
          "animal",
          "animal",
          "animal",
          "animal",
          "animal",
          "animal",
          "animal",
          "animal",
          "animal",
          "animal",
          "animal",
          "animal",
          "animal",
          "animal",
          "animal",
          "animal",
          "animal",
          "animal",
          "animal",
          "animal",
          "animal",
          "animal",
          "animal",
          "animal",
          "animal",
          "animal",
          "animal",
          "animal",
          "animal",
          "animal",
          "animal",
          "animal",
          "animal",
          "animal",
          "animal",
          "animal",
          "animal",
          "animal",
          "animal",
          "animal",
          "animal",
          "animal",
          "animal",
          "animal",
          "animal",
          "animal",
          "animal",
          "animal",
          "animal",
          "animal",
          "animal",
          "animal",
          "animal",
          "animal",
          "animal",
          "animal",
          "animal",
          "animal",
          "animal",
          "animal",
          "animal",
          "animal",
          "animal",
          "animal",
          "animal",
          "animal",
          "animal",
          "animal",
          "animal",
          "animal",
          "animal",
          "animal",
          "animal",
          "animal",
          "animal",
          "animal",
          "animal",
          "animal",
          "animal",
          "animal",
          "animal",
          "animal",
          "animal",
          "animal",
          "animal",
          "animal",
          "animal",
          "animal",
          "animal",
          "animal",
          "animal",
          "animal",
          "animal",
          "animal",
          "animal",
          "animal",
          "animal",
          "animal",
          "animal",
          "animal",
          "animal",
          "animal",
          "animal",
          "animal",
          "animal",
          "animal",
          "animal",
          "animal",
          "animal",
          "animal",
          "animal",
          "animal",
          "animal",
          "animal",
          "animal",
          "animal",
          "animal",
          "animal",
          "animal",
          "animal",
          "animal",
          "animal",
          "animal",
          "animal",
          "animal",
          "animal",
          "animal",
          "animal",
          "animal",
          "animal",
          "animal",
          "animal",
          "animal",
          "animal",
          "animal",
          "animal",
          "animal",
          "animal",
          "animal",
          "animal",
          "animal",
          "animal",
          "animal",
          "animal",
          "animal",
          "animal",
          "animal",
          "animal",
          "animal",
          "animal",
          "animal",
          "animal",
          "animal",
          "animal",
          "animal",
          "animal",
          "animal",
          "animal",
          "animal",
          "animal",
          "animal",
          "animal",
          "animal",
          "animal",
          "animal",
          "animal",
          "animal",
          "animal",
          "animal",
          "animal",
          "animal",
          "animal",
          "animal",
          "animal",
          "animal",
          "animal",
          "animal",
          "animal",
          "animal",
          "animal",
          "animal",
          "animal",
          "animal",
          "animal",
          "animal",
          "animal",
          "animal",
          "animal",
          "animal",
          "animal",
          "animal",
          "animal",
          "animal"
         ]
        },
        {
         "histfunc": "count",
         "name": "hiker",
         "type": "histogram",
         "x": [
          "hiker",
          "hiker",
          "hiker",
          "hiker",
          "hiker",
          "hiker",
          "hiker",
          "hiker",
          "hiker",
          "hiker",
          "hiker",
          "hiker",
          "hiker",
          "hiker",
          "hiker",
          "hiker",
          "hiker",
          "hiker",
          "hiker",
          "hiker",
          "hiker",
          "hiker",
          "hiker",
          "hiker",
          "hiker",
          "hiker",
          "hiker",
          "hiker",
          "hiker",
          "hiker",
          "hiker",
          "hiker",
          "hiker",
          "hiker",
          "hiker",
          "hiker",
          "hiker",
          "hiker",
          "hiker",
          "hiker",
          "hiker",
          "hiker",
          "hiker",
          "hiker",
          "hiker",
          "hiker",
          "hiker",
          "hiker",
          "hiker",
          "hiker",
          "hiker",
          "hiker",
          "hiker",
          "hiker",
          "hiker",
          "hiker",
          "hiker",
          "hiker",
          "hiker",
          "hiker",
          "hiker",
          "hiker",
          "hiker",
          "hiker",
          "hiker",
          "hiker",
          "hiker",
          "hiker",
          "hiker",
          "hiker",
          "hiker",
          "hiker",
          "hiker",
          "hiker",
          "hiker",
          "hiker",
          "hiker",
          "hiker",
          "hiker",
          "hiker",
          "hiker",
          "hiker",
          "hiker",
          "hiker",
          "hiker",
          "hiker",
          "hiker",
          "hiker",
          "hiker",
          "hiker",
          "hiker",
          "hiker",
          "hiker",
          "hiker",
          "hiker",
          "hiker",
          "hiker",
          "hiker",
          "hiker",
          "hiker",
          "hiker",
          "hiker",
          "hiker",
          "hiker",
          "hiker",
          "hiker",
          "hiker",
          "hiker",
          "hiker",
          "hiker",
          "hiker",
          "hiker",
          "hiker",
          "hiker",
          "hiker",
          "hiker",
          "hiker",
          "hiker",
          "hiker",
          "hiker",
          "hiker",
          "hiker",
          "hiker",
          "hiker",
          "hiker",
          "hiker",
          "hiker",
          "hiker",
          "hiker",
          "hiker",
          "hiker",
          "hiker",
          "hiker",
          "hiker",
          "hiker",
          "hiker",
          "hiker",
          "hiker",
          "hiker",
          "hiker",
          "hiker",
          "hiker",
          "hiker",
          "hiker",
          "hiker",
          "hiker",
          "hiker",
          "hiker",
          "hiker",
          "hiker",
          "hiker",
          "hiker",
          "hiker",
          "hiker",
          "hiker",
          "hiker",
          "hiker",
          "hiker",
          "hiker",
          "hiker",
          "hiker",
          "hiker",
          "hiker",
          "hiker",
          "hiker",
          "hiker",
          "hiker",
          "hiker",
          "hiker",
          "hiker",
          "hiker",
          "hiker",
          "hiker",
          "hiker",
          "hiker",
          "hiker",
          "hiker",
          "hiker",
          "hiker",
          "hiker",
          "hiker",
          "hiker",
          "hiker",
          "hiker",
          "hiker",
          "hiker",
          "hiker",
          "hiker",
          "hiker",
          "hiker",
          "hiker",
          "hiker",
          "hiker",
          "hiker",
          "hiker",
          "hiker",
          "hiker",
          "hiker",
          "hiker",
          "hiker",
          "hiker",
          "hiker",
          "hiker",
          "hiker",
          "hiker",
          "hiker",
          "hiker",
          "hiker",
          "hiker",
          "hiker",
          "hiker",
          "hiker",
          "hiker",
          "hiker",
          "hiker",
          "hiker",
          "hiker",
          "hiker",
          "hiker",
          "hiker",
          "hiker",
          "hiker",
          "hiker",
          "hiker",
          "hiker",
          "hiker",
          "hiker",
          "hiker",
          "hiker",
          "hiker",
          "hiker",
          "hiker",
          "hiker",
          "hiker",
          "hiker",
          "hiker",
          "hiker",
          "hiker",
          "hiker",
          "hiker",
          "hiker",
          "hiker",
          "hiker",
          "hiker",
          "hiker",
          "hiker",
          "hiker",
          "hiker",
          "hiker",
          "hiker",
          "hiker",
          "hiker",
          "hiker",
          "hiker",
          "hiker",
          "hiker",
          "hiker",
          "hiker",
          "hiker",
          "hiker",
          "hiker",
          "hiker",
          "hiker",
          "hiker",
          "hiker",
          "hiker",
          "hiker",
          "hiker",
          "hiker",
          "hiker",
          "hiker",
          "hiker",
          "hiker",
          "hiker",
          "hiker",
          "hiker",
          "hiker",
          "hiker",
          "hiker",
          "hiker",
          "hiker",
          "hiker",
          "hiker",
          "hiker",
          "hiker",
          "hiker",
          "hiker",
          "hiker",
          "hiker",
          "hiker",
          "hiker",
          "hiker",
          "hiker",
          "hiker",
          "hiker",
          "hiker",
          "hiker",
          "hiker",
          "hiker",
          "hiker",
          "hiker",
          "hiker",
          "hiker",
          "hiker",
          "hiker",
          "hiker",
          "hiker",
          "hiker",
          "hiker",
          "hiker",
          "hiker",
          "hiker",
          "hiker",
          "hiker",
          "hiker",
          "hiker",
          "hiker",
          "hiker",
          "hiker",
          "hiker",
          "hiker",
          "hiker",
          "hiker",
          "hiker",
          "hiker",
          "hiker",
          "hiker",
          "hiker",
          "hiker",
          "hiker",
          "hiker",
          "hiker",
          "hiker",
          "hiker",
          "hiker",
          "hiker",
          "hiker",
          "hiker",
          "hiker",
          "hiker",
          "hiker",
          "hiker",
          "hiker",
          "hiker",
          "hiker",
          "hiker",
          "hiker",
          "hiker",
          "hiker",
          "hiker",
          "hiker",
          "hiker",
          "hiker",
          "hiker",
          "hiker",
          "hiker",
          "hiker",
          "hiker",
          "hiker",
          "hiker",
          "hiker",
          "hiker",
          "hiker",
          "hiker",
          "hiker",
          "hiker",
          "hiker",
          "hiker",
          "hiker",
          "hiker",
          "hiker",
          "hiker",
          "hiker",
          "hiker",
          "hiker",
          "hiker",
          "hiker",
          "hiker",
          "hiker",
          "hiker",
          "hiker",
          "hiker",
          "hiker",
          "hiker",
          "hiker",
          "hiker",
          "hiker",
          "hiker",
          "hiker",
          "hiker",
          "hiker",
          "hiker",
          "hiker",
          "hiker",
          "hiker",
          "hiker",
          "hiker",
          "hiker",
          "hiker",
          "hiker",
          "hiker",
          "hiker",
          "hiker",
          "hiker",
          "hiker",
          "hiker",
          "hiker",
          "hiker",
          "hiker",
          "hiker",
          "hiker",
          "hiker",
          "hiker",
          "hiker",
          "hiker",
          "hiker",
          "hiker",
          "hiker",
          "hiker",
          "hiker",
          "hiker",
          "hiker",
          "hiker",
          "hiker",
          "hiker",
          "hiker",
          "hiker",
          "hiker",
          "hiker",
          "hiker",
          "hiker",
          "hiker",
          "hiker",
          "hiker",
          "hiker",
          "hiker",
          "hiker",
          "hiker",
          "hiker",
          "hiker",
          "hiker",
          "hiker",
          "hiker",
          "hiker",
          "hiker",
          "hiker",
          "hiker",
          "hiker",
          "hiker",
          "hiker",
          "hiker",
          "hiker",
          "hiker",
          "hiker",
          "hiker",
          "hiker",
          "hiker",
          "hiker",
          "hiker",
          "hiker",
          "hiker",
          "hiker",
          "hiker",
          "hiker",
          "hiker",
          "hiker",
          "hiker",
          "hiker",
          "hiker",
          "hiker",
          "hiker",
          "hiker",
          "hiker",
          "hiker",
          "hiker",
          "hiker",
          "hiker",
          "hiker",
          "hiker",
          "hiker",
          "hiker",
          "hiker",
          "hiker",
          "hiker",
          "hiker",
          "hiker",
          "hiker",
          "hiker",
          "hiker",
          "hiker",
          "hiker",
          "hiker",
          "hiker",
          "hiker",
          "hiker",
          "hiker",
          "hiker",
          "hiker",
          "hiker",
          "hiker"
         ]
        },
        {
         "histfunc": "count",
         "name": "rock",
         "type": "histogram",
         "x": [
          "rock",
          "rock",
          "rock",
          "rock",
          "rock",
          "rock",
          "rock",
          "rock",
          "rock",
          "rock",
          "rock",
          "rock",
          "rock",
          "rock",
          "rock",
          "rock",
          "rock",
          "rock",
          "rock",
          "rock",
          "rock",
          "rock",
          "rock",
          "rock",
          "rock",
          "rock",
          "rock",
          "rock",
          "rock",
          "rock",
          "rock",
          "rock",
          "rock",
          "rock",
          "rock",
          "rock",
          "rock",
          "rock",
          "rock",
          "rock",
          "rock",
          "rock",
          "rock",
          "rock",
          "rock",
          "rock",
          "rock",
          "rock",
          "rock",
          "rock",
          "rock",
          "rock",
          "rock",
          "rock",
          "rock",
          "rock",
          "rock",
          "rock",
          "rock",
          "rock",
          "rock",
          "rock",
          "rock",
          "rock",
          "rock",
          "rock",
          "rock",
          "rock",
          "rock",
          "rock",
          "rock",
          "rock",
          "rock",
          "rock",
          "rock",
          "rock",
          "rock",
          "rock",
          "rock",
          "rock",
          "rock",
          "rock",
          "rock",
          "rock",
          "rock",
          "rock",
          "rock",
          "rock",
          "rock",
          "rock",
          "rock",
          "rock",
          "rock",
          "rock",
          "rock",
          "rock",
          "rock",
          "rock",
          "rock",
          "rock",
          "rock",
          "rock",
          "rock",
          "rock",
          "rock",
          "rock",
          "rock",
          "rock",
          "rock",
          "rock",
          "rock",
          "rock",
          "rock",
          "rock",
          "rock",
          "rock",
          "rock",
          "rock",
          "rock",
          "rock",
          "rock",
          "rock",
          "rock",
          "rock",
          "rock",
          "rock",
          "rock",
          "rock",
          "rock",
          "rock",
          "rock",
          "rock",
          "rock",
          "rock",
          "rock",
          "rock",
          "rock",
          "rock",
          "rock",
          "rock",
          "rock",
          "rock",
          "rock",
          "rock",
          "rock",
          "rock",
          "rock",
          "rock",
          "rock",
          "rock",
          "rock",
          "rock",
          "rock",
          "rock",
          "rock",
          "rock",
          "rock",
          "rock",
          "rock",
          "rock",
          "rock",
          "rock",
          "rock",
          "rock",
          "rock",
          "rock",
          "rock",
          "rock",
          "rock",
          "rock",
          "rock",
          "rock",
          "rock",
          "rock",
          "rock",
          "rock",
          "rock",
          "rock",
          "rock",
          "rock",
          "rock",
          "rock",
          "rock",
          "rock",
          "rock",
          "rock",
          "rock",
          "rock",
          "rock",
          "rock",
          "rock",
          "rock",
          "rock",
          "rock",
          "rock",
          "rock",
          "rock",
          "rock",
          "rock",
          "rock",
          "rock",
          "rock",
          "rock",
          "rock",
          "rock",
          "rock",
          "rock",
          "rock",
          "rock",
          "rock",
          "rock",
          "rock",
          "rock",
          "rock",
          "rock",
          "rock",
          "rock",
          "rock",
          "rock",
          "rock",
          "rock",
          "rock",
          "rock",
          "rock",
          "rock",
          "rock",
          "rock",
          "rock",
          "rock",
          "rock",
          "rock",
          "rock",
          "rock",
          "rock",
          "rock",
          "rock",
          "rock",
          "rock",
          "rock",
          "rock",
          "rock",
          "rock",
          "rock",
          "rock",
          "rock",
          "rock",
          "rock",
          "rock",
          "rock",
          "rock",
          "rock",
          "rock",
          "rock",
          "rock",
          "rock",
          "rock",
          "rock",
          "rock",
          "rock",
          "rock",
          "rock",
          "rock",
          "rock",
          "rock",
          "rock",
          "rock",
          "rock",
          "rock",
          "rock",
          "rock",
          "rock",
          "rock",
          "rock",
          "rock",
          "rock",
          "rock",
          "rock",
          "rock",
          "rock",
          "rock",
          "rock",
          "rock",
          "rock",
          "rock",
          "rock",
          "rock",
          "rock",
          "rock",
          "rock",
          "rock",
          "rock",
          "rock",
          "rock",
          "rock",
          "rock",
          "rock",
          "rock",
          "rock",
          "rock",
          "rock",
          "rock",
          "rock",
          "rock",
          "rock",
          "rock",
          "rock",
          "rock",
          "rock",
          "rock",
          "rock",
          "rock",
          "rock",
          "rock",
          "rock",
          "rock",
          "rock",
          "rock",
          "rock",
          "rock",
          "rock",
          "rock",
          "rock",
          "rock",
          "rock",
          "rock",
          "rock",
          "rock",
          "rock",
          "rock",
          "rock",
          "rock",
          "rock",
          "rock",
          "rock",
          "rock",
          "rock",
          "rock",
          "rock",
          "rock",
          "rock",
          "rock",
          "rock",
          "rock",
          "rock",
          "rock",
          "rock",
          "rock",
          "rock",
          "rock",
          "rock",
          "rock",
          "rock",
          "rock",
          "rock",
          "rock",
          "rock",
          "rock",
          "rock",
          "rock",
          "rock",
          "rock",
          "rock",
          "rock",
          "rock",
          "rock",
          "rock",
          "rock",
          "rock",
          "rock",
          "rock",
          "rock",
          "rock",
          "rock",
          "rock",
          "rock",
          "rock",
          "rock",
          "rock",
          "rock",
          "rock",
          "rock",
          "rock",
          "rock",
          "rock",
          "rock",
          "rock",
          "rock",
          "rock",
          "rock",
          "rock",
          "rock",
          "rock",
          "rock",
          "rock",
          "rock",
          "rock",
          "rock",
          "rock",
          "rock",
          "rock",
          "rock",
          "rock",
          "rock",
          "rock",
          "rock",
          "rock",
          "rock",
          "rock",
          "rock",
          "rock",
          "rock",
          "rock",
          "rock",
          "rock",
          "rock",
          "rock",
          "rock",
          "rock",
          "rock",
          "rock",
          "rock",
          "rock",
          "rock",
          "rock",
          "rock",
          "rock",
          "rock",
          "rock",
          "rock",
          "rock",
          "rock",
          "rock",
          "rock",
          "rock",
          "rock",
          "rock",
          "rock",
          "rock",
          "rock",
          "rock",
          "rock",
          "rock",
          "rock",
          "rock",
          "rock",
          "rock",
          "rock",
          "rock",
          "rock",
          "rock",
          "rock",
          "rock",
          "rock",
          "rock",
          "rock",
          "rock",
          "rock",
          "rock",
          "rock",
          "rock",
          "rock",
          "rock",
          "rock",
          "rock",
          "rock",
          "rock",
          "rock",
          "rock",
          "rock",
          "rock",
          "rock",
          "rock",
          "rock",
          "rock",
          "rock",
          "rock",
          "rock",
          "rock",
          "rock",
          "rock",
          "rock",
          "rock",
          "rock",
          "rock",
          "rock",
          "rock",
          "rock",
          "rock",
          "rock",
          "rock",
          "rock",
          "rock",
          "rock",
          "rock",
          "rock",
          "rock",
          "rock",
          "rock",
          "rock",
          "rock"
         ]
        },
        {
         "histfunc": "count",
         "name": "tree",
         "type": "histogram",
         "x": [
          "tree",
          "tree",
          "tree",
          "tree",
          "tree",
          "tree",
          "tree",
          "tree",
          "tree",
          "tree",
          "tree",
          "tree",
          "tree",
          "tree",
          "tree",
          "tree",
          "tree",
          "tree",
          "tree",
          "tree",
          "tree",
          "tree",
          "tree",
          "tree",
          "tree",
          "tree",
          "tree",
          "tree",
          "tree",
          "tree",
          "tree",
          "tree",
          "tree",
          "tree",
          "tree",
          "tree",
          "tree",
          "tree",
          "tree",
          "tree",
          "tree",
          "tree",
          "tree",
          "tree",
          "tree",
          "tree",
          "tree",
          "tree",
          "tree",
          "tree",
          "tree",
          "tree",
          "tree",
          "tree",
          "tree",
          "tree",
          "tree",
          "tree",
          "tree",
          "tree",
          "tree",
          "tree",
          "tree",
          "tree",
          "tree",
          "tree",
          "tree",
          "tree",
          "tree",
          "tree",
          "tree",
          "tree",
          "tree",
          "tree",
          "tree",
          "tree",
          "tree",
          "tree",
          "tree",
          "tree",
          "tree",
          "tree",
          "tree",
          "tree",
          "tree",
          "tree",
          "tree",
          "tree",
          "tree",
          "tree",
          "tree",
          "tree",
          "tree",
          "tree",
          "tree",
          "tree",
          "tree",
          "tree",
          "tree",
          "tree",
          "tree",
          "tree",
          "tree",
          "tree",
          "tree",
          "tree",
          "tree",
          "tree",
          "tree",
          "tree",
          "tree",
          "tree",
          "tree",
          "tree",
          "tree",
          "tree",
          "tree",
          "tree",
          "tree",
          "tree",
          "tree",
          "tree",
          "tree",
          "tree",
          "tree",
          "tree",
          "tree",
          "tree",
          "tree",
          "tree",
          "tree",
          "tree",
          "tree",
          "tree",
          "tree",
          "tree",
          "tree",
          "tree",
          "tree",
          "tree",
          "tree",
          "tree",
          "tree",
          "tree",
          "tree",
          "tree",
          "tree",
          "tree",
          "tree",
          "tree",
          "tree",
          "tree",
          "tree",
          "tree",
          "tree",
          "tree",
          "tree",
          "tree",
          "tree",
          "tree",
          "tree",
          "tree",
          "tree",
          "tree",
          "tree",
          "tree",
          "tree",
          "tree",
          "tree",
          "tree",
          "tree",
          "tree",
          "tree",
          "tree",
          "tree",
          "tree",
          "tree",
          "tree",
          "tree",
          "tree",
          "tree",
          "tree",
          "tree",
          "tree",
          "tree",
          "tree",
          "tree",
          "tree",
          "tree",
          "tree",
          "tree",
          "tree",
          "tree",
          "tree",
          "tree",
          "tree",
          "tree",
          "tree",
          "tree",
          "tree",
          "tree",
          "tree",
          "tree",
          "tree",
          "tree",
          "tree",
          "tree",
          "tree",
          "tree",
          "tree",
          "tree",
          "tree",
          "tree",
          "tree",
          "tree",
          "tree",
          "tree",
          "tree",
          "tree",
          "tree",
          "tree",
          "tree",
          "tree",
          "tree",
          "tree",
          "tree",
          "tree",
          "tree",
          "tree",
          "tree",
          "tree",
          "tree",
          "tree",
          "tree",
          "tree",
          "tree",
          "tree",
          "tree",
          "tree",
          "tree",
          "tree",
          "tree",
          "tree",
          "tree",
          "tree",
          "tree",
          "tree",
          "tree",
          "tree",
          "tree",
          "tree",
          "tree",
          "tree",
          "tree",
          "tree",
          "tree",
          "tree",
          "tree",
          "tree",
          "tree",
          "tree",
          "tree",
          "tree",
          "tree",
          "tree",
          "tree",
          "tree",
          "tree",
          "tree",
          "tree",
          "tree",
          "tree",
          "tree",
          "tree",
          "tree",
          "tree",
          "tree",
          "tree",
          "tree",
          "tree",
          "tree",
          "tree",
          "tree",
          "tree",
          "tree",
          "tree",
          "tree",
          "tree",
          "tree",
          "tree",
          "tree",
          "tree",
          "tree",
          "tree",
          "tree",
          "tree",
          "tree",
          "tree",
          "tree",
          "tree",
          "tree",
          "tree",
          "tree",
          "tree",
          "tree",
          "tree",
          "tree",
          "tree",
          "tree",
          "tree",
          "tree",
          "tree",
          "tree",
          "tree",
          "tree",
          "tree",
          "tree",
          "tree",
          "tree",
          "tree",
          "tree",
          "tree",
          "tree",
          "tree",
          "tree",
          "tree",
          "tree",
          "tree",
          "tree",
          "tree",
          "tree",
          "tree",
          "tree",
          "tree",
          "tree",
          "tree",
          "tree",
          "tree",
          "tree",
          "tree",
          "tree",
          "tree",
          "tree",
          "tree",
          "tree",
          "tree",
          "tree",
          "tree",
          "tree",
          "tree",
          "tree",
          "tree",
          "tree",
          "tree",
          "tree",
          "tree",
          "tree",
          "tree",
          "tree",
          "tree",
          "tree",
          "tree",
          "tree",
          "tree",
          "tree",
          "tree",
          "tree",
          "tree",
          "tree",
          "tree",
          "tree",
          "tree",
          "tree",
          "tree",
          "tree",
          "tree",
          "tree",
          "tree",
          "tree",
          "tree",
          "tree",
          "tree",
          "tree",
          "tree",
          "tree",
          "tree",
          "tree",
          "tree",
          "tree",
          "tree",
          "tree",
          "tree",
          "tree",
          "tree",
          "tree",
          "tree",
          "tree",
          "tree",
          "tree",
          "tree",
          "tree",
          "tree",
          "tree",
          "tree",
          "tree",
          "tree",
          "tree",
          "tree",
          "tree",
          "tree",
          "tree",
          "tree",
          "tree",
          "tree",
          "tree",
          "tree",
          "tree",
          "tree",
          "tree",
          "tree",
          "tree",
          "tree",
          "tree",
          "tree",
          "tree",
          "tree",
          "tree",
          "tree",
          "tree",
          "tree",
          "tree",
          "tree",
          "tree",
          "tree",
          "tree",
          "tree",
          "tree",
          "tree",
          "tree",
          "tree",
          "tree",
          "tree",
          "tree",
          "tree",
          "tree",
          "tree",
          "tree",
          "tree",
          "tree",
          "tree",
          "tree",
          "tree",
          "tree",
          "tree",
          "tree",
          "tree",
          "tree",
          "tree",
          "tree",
          "tree",
          "tree",
          "tree",
          "tree",
          "tree",
          "tree",
          "tree",
          "tree",
          "tree",
          "tree",
          "tree",
          "tree",
          "tree",
          "tree",
          "tree",
          "tree",
          "tree",
          "tree",
          "tree",
          "tree",
          "tree",
          "tree",
          "tree",
          "tree",
          "tree",
          "tree",
          "tree",
          "tree",
          "tree",
          "tree",
          "tree",
          "tree",
          "tree",
          "tree",
          "tree",
          "tree",
          "tree",
          "tree",
          "tree",
          "tree",
          "tree"
         ]
        }
       ],
       "layout": {
        "legend": {
         "title": {
          "text": "label"
         }
        },
        "template": {
         "data": {
          "bar": [
           {
            "error_x": {
             "color": "#2a3f5f"
            },
            "error_y": {
             "color": "#2a3f5f"
            },
            "marker": {
             "line": {
              "color": "white",
              "width": 0.5
             },
             "pattern": {
              "fillmode": "overlay",
              "size": 10,
              "solidity": 0.2
             }
            },
            "type": "bar"
           }
          ],
          "barpolar": [
           {
            "marker": {
             "line": {
              "color": "white",
              "width": 0.5
             },
             "pattern": {
              "fillmode": "overlay",
              "size": 10,
              "solidity": 0.2
             }
            },
            "type": "barpolar"
           }
          ],
          "box": [
           {
            "boxpoints": "outliers",
            "notched": false,
            "type": "box"
           }
          ],
          "carpet": [
           {
            "aaxis": {
             "endlinecolor": "#2a3f5f",
             "gridcolor": "#C8D4E3",
             "linecolor": "#C8D4E3",
             "minorgridcolor": "#C8D4E3",
             "startlinecolor": "#2a3f5f"
            },
            "baxis": {
             "endlinecolor": "#2a3f5f",
             "gridcolor": "#C8D4E3",
             "linecolor": "#C8D4E3",
             "minorgridcolor": "#C8D4E3",
             "startlinecolor": "#2a3f5f"
            },
            "type": "carpet"
           }
          ],
          "choropleth": [
           {
            "colorbar": {
             "outlinewidth": 0,
             "ticks": ""
            },
            "type": "choropleth"
           }
          ],
          "contour": [
           {
            "colorbar": {
             "outlinewidth": 0,
             "ticks": ""
            },
            "colorscale": [
             [
              0,
              "#0d0887"
             ],
             [
              0.1111111111111111,
              "#46039f"
             ],
             [
              0.2222222222222222,
              "#7201a8"
             ],
             [
              0.3333333333333333,
              "#9c179e"
             ],
             [
              0.4444444444444444,
              "#bd3786"
             ],
             [
              0.5555555555555556,
              "#d8576b"
             ],
             [
              0.6666666666666666,
              "#ed7953"
             ],
             [
              0.7777777777777778,
              "#fb9f3a"
             ],
             [
              0.8888888888888888,
              "#fdca26"
             ],
             [
              1,
              "#f0f921"
             ]
            ],
            "type": "contour"
           }
          ],
          "contourcarpet": [
           {
            "colorbar": {
             "outlinewidth": 0,
             "ticks": ""
            },
            "type": "contourcarpet"
           }
          ],
          "heatmap": [
           {
            "colorbar": {
             "outlinewidth": 0,
             "ticks": ""
            },
            "colorscale": [
             [
              0,
              "#0d0887"
             ],
             [
              0.1111111111111111,
              "#46039f"
             ],
             [
              0.2222222222222222,
              "#7201a8"
             ],
             [
              0.3333333333333333,
              "#9c179e"
             ],
             [
              0.4444444444444444,
              "#bd3786"
             ],
             [
              0.5555555555555556,
              "#d8576b"
             ],
             [
              0.6666666666666666,
              "#ed7953"
             ],
             [
              0.7777777777777778,
              "#fb9f3a"
             ],
             [
              0.8888888888888888,
              "#fdca26"
             ],
             [
              1,
              "#f0f921"
             ]
            ],
            "type": "heatmap"
           }
          ],
          "heatmapgl": [
           {
            "colorbar": {
             "outlinewidth": 0,
             "ticks": ""
            },
            "colorscale": [
             [
              0,
              "#0d0887"
             ],
             [
              0.1111111111111111,
              "#46039f"
             ],
             [
              0.2222222222222222,
              "#7201a8"
             ],
             [
              0.3333333333333333,
              "#9c179e"
             ],
             [
              0.4444444444444444,
              "#bd3786"
             ],
             [
              0.5555555555555556,
              "#d8576b"
             ],
             [
              0.6666666666666666,
              "#ed7953"
             ],
             [
              0.7777777777777778,
              "#fb9f3a"
             ],
             [
              0.8888888888888888,
              "#fdca26"
             ],
             [
              1,
              "#f0f921"
             ]
            ],
            "type": "heatmapgl"
           }
          ],
          "histogram": [
           {
            "marker": {
             "line": {
              "width": 1
             },
             "pattern": {
              "fillmode": "overlay",
              "size": 10,
              "solidity": 0.2
             }
            },
            "type": "histogram"
           }
          ],
          "histogram2d": [
           {
            "colorbar": {
             "outlinewidth": 0,
             "ticks": ""
            },
            "colorscale": [
             [
              0,
              "#0d0887"
             ],
             [
              0.1111111111111111,
              "#46039f"
             ],
             [
              0.2222222222222222,
              "#7201a8"
             ],
             [
              0.3333333333333333,
              "#9c179e"
             ],
             [
              0.4444444444444444,
              "#bd3786"
             ],
             [
              0.5555555555555556,
              "#d8576b"
             ],
             [
              0.6666666666666666,
              "#ed7953"
             ],
             [
              0.7777777777777778,
              "#fb9f3a"
             ],
             [
              0.8888888888888888,
              "#fdca26"
             ],
             [
              1,
              "#f0f921"
             ]
            ],
            "type": "histogram2d"
           }
          ],
          "histogram2dcontour": [
           {
            "colorbar": {
             "outlinewidth": 0,
             "ticks": ""
            },
            "colorscale": [
             [
              0,
              "#0d0887"
             ],
             [
              0.1111111111111111,
              "#46039f"
             ],
             [
              0.2222222222222222,
              "#7201a8"
             ],
             [
              0.3333333333333333,
              "#9c179e"
             ],
             [
              0.4444444444444444,
              "#bd3786"
             ],
             [
              0.5555555555555556,
              "#d8576b"
             ],
             [
              0.6666666666666666,
              "#ed7953"
             ],
             [
              0.7777777777777778,
              "#fb9f3a"
             ],
             [
              0.8888888888888888,
              "#fdca26"
             ],
             [
              1,
              "#f0f921"
             ]
            ],
            "type": "histogram2dcontour"
           }
          ],
          "mesh3d": [
           {
            "colorbar": {
             "outlinewidth": 0,
             "ticks": ""
            },
            "type": "mesh3d"
           }
          ],
          "parcoords": [
           {
            "line": {
             "colorbar": {
              "outlinewidth": 0,
              "ticks": ""
             }
            },
            "type": "parcoords"
           }
          ],
          "pie": [
           {
            "automargin": true,
            "type": "pie"
           }
          ],
          "scatter": [
           {
            "fillpattern": {
             "fillmode": "overlay",
             "size": 10,
             "solidity": 0.2
            },
            "marker": {
             "opacity": 0.8
            },
            "type": "scatter"
           }
          ],
          "scatter3d": [
           {
            "line": {
             "colorbar": {
              "outlinewidth": 0,
              "ticks": ""
             }
            },
            "marker": {
             "colorbar": {
              "outlinewidth": 0,
              "ticks": ""
             },
             "opacity": 0.8
            },
            "type": "scatter3d"
           }
          ],
          "scattercarpet": [
           {
            "marker": {
             "colorbar": {
              "outlinewidth": 0,
              "ticks": ""
             }
            },
            "type": "scattercarpet"
           }
          ],
          "scattergeo": [
           {
            "marker": {
             "colorbar": {
              "outlinewidth": 0,
              "ticks": ""
             }
            },
            "type": "scattergeo"
           }
          ],
          "scattergl": [
           {
            "marker": {
             "colorbar": {
              "outlinewidth": 0,
              "ticks": ""
             }
            },
            "type": "scattergl"
           }
          ],
          "scattermapbox": [
           {
            "marker": {
             "colorbar": {
              "outlinewidth": 0,
              "ticks": ""
             }
            },
            "type": "scattermapbox"
           }
          ],
          "scatterpolar": [
           {
            "marker": {
             "colorbar": {
              "outlinewidth": 0,
              "ticks": ""
             }
            },
            "type": "scatterpolar"
           }
          ],
          "scatterpolargl": [
           {
            "marker": {
             "colorbar": {
              "outlinewidth": 0,
              "ticks": ""
             }
            },
            "type": "scatterpolargl"
           }
          ],
          "scatterternary": [
           {
            "marker": {
             "colorbar": {
              "outlinewidth": 0,
              "ticks": ""
             }
            },
            "type": "scatterternary"
           }
          ],
          "surface": [
           {
            "colorbar": {
             "outlinewidth": 0,
             "ticks": ""
            },
            "colorscale": [
             [
              0,
              "#0d0887"
             ],
             [
              0.1111111111111111,
              "#46039f"
             ],
             [
              0.2222222222222222,
              "#7201a8"
             ],
             [
              0.3333333333333333,
              "#9c179e"
             ],
             [
              0.4444444444444444,
              "#bd3786"
             ],
             [
              0.5555555555555556,
              "#d8576b"
             ],
             [
              0.6666666666666666,
              "#ed7953"
             ],
             [
              0.7777777777777778,
              "#fb9f3a"
             ],
             [
              0.8888888888888888,
              "#fdca26"
             ],
             [
              1,
              "#f0f921"
             ]
            ],
            "type": "surface"
           }
          ],
          "table": [
           {
            "cells": {
             "fill": {
              "color": "#EBF0F8"
             },
             "line": {
              "color": "white"
             }
            },
            "header": {
             "fill": {
              "color": "#C8D4E3"
             },
             "line": {
              "color": "white"
             }
            },
            "type": "table"
           }
          ]
         },
         "layout": {
          "annotationdefaults": {
           "arrowcolor": "#2a3f5f",
           "arrowhead": 0,
           "arrowwidth": 1
          },
          "autotypenumbers": "strict",
          "coloraxis": {
           "colorbar": {
            "outlinewidth": 0,
            "ticks": ""
           }
          },
          "colorscale": {
           "diverging": [
            [
             0,
             "#8e0152"
            ],
            [
             0.1,
             "#c51b7d"
            ],
            [
             0.2,
             "#de77ae"
            ],
            [
             0.3,
             "#f1b6da"
            ],
            [
             0.4,
             "#fde0ef"
            ],
            [
             0.5,
             "#f7f7f7"
            ],
            [
             0.6,
             "#e6f5d0"
            ],
            [
             0.7,
             "#b8e186"
            ],
            [
             0.8,
             "#7fbc41"
            ],
            [
             0.9,
             "#4d9221"
            ],
            [
             1,
             "#276419"
            ]
           ],
           "sequential": [
            [
             0,
             "#0d0887"
            ],
            [
             0.1111111111111111,
             "#46039f"
            ],
            [
             0.2222222222222222,
             "#7201a8"
            ],
            [
             0.3333333333333333,
             "#9c179e"
            ],
            [
             0.4444444444444444,
             "#bd3786"
            ],
            [
             0.5555555555555556,
             "#d8576b"
            ],
            [
             0.6666666666666666,
             "#ed7953"
            ],
            [
             0.7777777777777778,
             "#fb9f3a"
            ],
            [
             0.8888888888888888,
             "#fdca26"
            ],
            [
             1,
             "#f0f921"
            ]
           ],
           "sequentialminus": [
            [
             0,
             "#0d0887"
            ],
            [
             0.1111111111111111,
             "#46039f"
            ],
            [
             0.2222222222222222,
             "#7201a8"
            ],
            [
             0.3333333333333333,
             "#9c179e"
            ],
            [
             0.4444444444444444,
             "#bd3786"
            ],
            [
             0.5555555555555556,
             "#d8576b"
            ],
            [
             0.6666666666666666,
             "#ed7953"
            ],
            [
             0.7777777777777778,
             "#fb9f3a"
            ],
            [
             0.8888888888888888,
             "#fdca26"
            ],
            [
             1,
             "#f0f921"
            ]
           ]
          },
          "colorway": [
           "#636efa",
           "#EF553B",
           "#00cc96",
           "#ab63fa",
           "#FFA15A",
           "#19d3f3",
           "#FF6692",
           "#B6E880",
           "#FF97FF",
           "#FECB52"
          ],
          "font": {
           "color": "#2a3f5f"
          },
          "geo": {
           "bgcolor": "white",
           "lakecolor": "white",
           "landcolor": "white",
           "showlakes": true,
           "showland": true,
           "subunitcolor": "#C8D4E3"
          },
          "height": 400,
          "hoverlabel": {
           "align": "left"
          },
          "hovermode": "closest",
          "mapbox": {
           "style": "light"
          },
          "margin": {
           "b": 2,
           "l": 2,
           "r": 2,
           "t": 30
          },
          "paper_bgcolor": "white",
          "plot_bgcolor": "white",
          "polar": {
           "angularaxis": {
            "gridcolor": "#EBF0F8",
            "linecolor": "#EBF0F8",
            "ticks": ""
           },
           "bgcolor": "white",
           "radialaxis": {
            "gridcolor": "#EBF0F8",
            "linecolor": "#EBF0F8",
            "ticks": ""
           }
          },
          "scene": {
           "camera": {
            "eye": {
             "x": 1.5,
             "y": 1.5,
             "z": 0.1
            }
           },
           "xaxis": {
            "backgroundcolor": "white",
            "gridcolor": "#DFE8F3",
            "gridwidth": 2,
            "linecolor": "#EBF0F8",
            "showbackground": true,
            "ticks": "",
            "zerolinecolor": "#EBF0F8"
           },
           "yaxis": {
            "backgroundcolor": "white",
            "gridcolor": "#DFE8F3",
            "gridwidth": 2,
            "linecolor": "#EBF0F8",
            "showbackground": true,
            "ticks": "",
            "zerolinecolor": "#EBF0F8"
           },
           "zaxis": {
            "backgroundcolor": "white",
            "gridcolor": "#DFE8F3",
            "gridwidth": 2,
            "linecolor": "#EBF0F8",
            "showbackground": true,
            "ticks": "",
            "zerolinecolor": "#EBF0F8"
           }
          },
          "shapedefaults": {
           "line": {
            "color": "#2a3f5f"
           }
          },
          "ternary": {
           "aaxis": {
            "gridcolor": "#DFE8F3",
            "linecolor": "#A2B1C6",
            "ticks": ""
           },
           "baxis": {
            "gridcolor": "#DFE8F3",
            "linecolor": "#A2B1C6",
            "ticks": ""
           },
           "bgcolor": "white",
           "caxis": {
            "gridcolor": "#DFE8F3",
            "linecolor": "#A2B1C6",
            "ticks": ""
           }
          },
          "title": {
           "x": 0.5
          },
          "xaxis": {
           "automargin": true,
           "gridcolor": "#EBF0F8",
           "linecolor": "#EBF0F8",
           "linewidth": 2,
           "showline": true,
           "ticks": "",
           "title": {
            "standoff": 15
           },
           "zerolinecolor": "#EBF0F8",
           "zerolinewidth": 2
          },
          "yaxis": {
           "automargin": true,
           "gridcolor": "#EBF0F8",
           "linecolor": "#EBF0F8",
           "linewidth": 2,
           "showline": true,
           "ticks": "",
           "title": {
            "standoff": 15
           },
           "zerolinecolor": "#EBF0F8",
           "zerolinewidth": 2
          }
         }
        },
        "title": {
         "text": "Label distribution"
        },
        "xaxis": {
         "title": {
          "text": "label"
         }
        },
        "yaxis": {
         "title": {
          "text": "count"
         }
        }
       }
      }
     },
     "metadata": {},
     "output_type": "display_data"
    }
   ],
   "source": [
    "# Load and print umbiased set\n",
    "#Import the data from the .csv file\n",
    "balanced_dataset = pandas.read_csv('snow_objects_balanced.csv', delimiter=\"\\t\")\n",
    "\n",
    "#Let's have a look at the data\n",
    "graphing.multiple_histogram(balanced_dataset, label_x=\"label\", label_group=\"label\", title=\"Label distribution\")"
   ]
  },
  {
   "attachments": {},
   "cell_type": "markdown",
   "metadata": {},
   "source": [
    "Este nuevo conjunto de datos está equilibrado entre las clases, pero para nuestros fines queremos que esté equilibrado entre excursionistas y no excursionistas.\n",
    "\n",
    "Para simplificar, tomemos los excursionistas más una muestra aleatoria de los no excursionistas."
   ]
  },
  {
   "cell_type": "code",
   "execution_count": 8,
   "metadata": {},
   "outputs": [
    {
     "data": {
      "application/vnd.plotly.v1+json": {
       "config": {
        "plotlyServerURL": "https://plot.ly"
       },
       "data": [
        {
         "histfunc": "count",
         "name": "False",
         "type": "histogram",
         "x": [
          false,
          false,
          false,
          false,
          false,
          false,
          false,
          false,
          false,
          false,
          false,
          false,
          false,
          false,
          false,
          false,
          false,
          false,
          false,
          false,
          false,
          false,
          false,
          false,
          false,
          false,
          false,
          false,
          false,
          false,
          false,
          false,
          false,
          false,
          false,
          false,
          false,
          false,
          false,
          false,
          false,
          false,
          false,
          false,
          false,
          false,
          false,
          false,
          false,
          false,
          false,
          false,
          false,
          false,
          false,
          false,
          false,
          false,
          false,
          false,
          false,
          false,
          false,
          false,
          false,
          false,
          false,
          false,
          false,
          false,
          false,
          false,
          false,
          false,
          false,
          false,
          false,
          false,
          false,
          false,
          false,
          false,
          false,
          false,
          false,
          false,
          false,
          false,
          false,
          false,
          false,
          false,
          false,
          false,
          false,
          false,
          false,
          false,
          false,
          false,
          false,
          false,
          false,
          false,
          false,
          false,
          false,
          false,
          false,
          false,
          false,
          false,
          false,
          false,
          false,
          false,
          false,
          false,
          false,
          false,
          false,
          false,
          false,
          false,
          false,
          false,
          false,
          false,
          false,
          false,
          false,
          false,
          false,
          false,
          false,
          false,
          false,
          false,
          false,
          false,
          false,
          false,
          false,
          false,
          false,
          false,
          false,
          false,
          false,
          false,
          false,
          false,
          false,
          false,
          false,
          false,
          false,
          false,
          false,
          false,
          false,
          false,
          false,
          false,
          false,
          false,
          false,
          false,
          false,
          false,
          false,
          false,
          false,
          false,
          false,
          false,
          false,
          false,
          false,
          false,
          false,
          false,
          false,
          false,
          false,
          false,
          false,
          false,
          false,
          false,
          false,
          false,
          false,
          false,
          false,
          false,
          false,
          false,
          false,
          false,
          false,
          false,
          false,
          false,
          false,
          false,
          false,
          false,
          false,
          false,
          false,
          false,
          false,
          false,
          false,
          false,
          false,
          false,
          false,
          false,
          false,
          false,
          false,
          false,
          false,
          false,
          false,
          false,
          false,
          false,
          false,
          false,
          false,
          false,
          false,
          false,
          false,
          false,
          false,
          false,
          false,
          false,
          false,
          false,
          false,
          false,
          false,
          false,
          false,
          false,
          false,
          false,
          false,
          false,
          false,
          false,
          false,
          false,
          false,
          false,
          false,
          false,
          false,
          false,
          false,
          false,
          false,
          false,
          false,
          false,
          false,
          false,
          false,
          false,
          false,
          false,
          false,
          false,
          false,
          false,
          false,
          false,
          false,
          false,
          false,
          false,
          false,
          false,
          false,
          false,
          false,
          false,
          false,
          false,
          false,
          false,
          false,
          false,
          false,
          false,
          false,
          false,
          false,
          false,
          false,
          false,
          false,
          false,
          false,
          false,
          false,
          false,
          false,
          false,
          false,
          false,
          false,
          false,
          false,
          false,
          false,
          false,
          false,
          false,
          false,
          false,
          false,
          false,
          false,
          false,
          false,
          false,
          false,
          false,
          false,
          false,
          false,
          false,
          false,
          false,
          false,
          false,
          false,
          false,
          false,
          false,
          false,
          false,
          false,
          false,
          false,
          false,
          false,
          false,
          false,
          false,
          false,
          false,
          false,
          false,
          false,
          false,
          false,
          false,
          false,
          false,
          false,
          false,
          false,
          false,
          false,
          false,
          false,
          false,
          false,
          false,
          false,
          false,
          false,
          false,
          false,
          false,
          false,
          false,
          false,
          false,
          false,
          false,
          false,
          false,
          false,
          false,
          false,
          false,
          false,
          false,
          false,
          false,
          false,
          false,
          false,
          false,
          false,
          false,
          false,
          false,
          false,
          false,
          false,
          false,
          false,
          false,
          false,
          false,
          false,
          false,
          false,
          false,
          false,
          false,
          false,
          false,
          false,
          false,
          false,
          false,
          false,
          false,
          false,
          false,
          false,
          false,
          false,
          false,
          false,
          false,
          false,
          false,
          false,
          false,
          false,
          false,
          false,
          false,
          false,
          false,
          false,
          false,
          false,
          false,
          false,
          false,
          false,
          false,
          false,
          false,
          false,
          false,
          false,
          false,
          false,
          false,
          false,
          false,
          false,
          false,
          false,
          false,
          false,
          false,
          false,
          false,
          false,
          false,
          false,
          false,
          false,
          false,
          false,
          false,
          false,
          false,
          false,
          false,
          false,
          false,
          false,
          false,
          false,
          false,
          false,
          false,
          false,
          false,
          false,
          false,
          false,
          false,
          false,
          false
         ]
        },
        {
         "histfunc": "count",
         "name": "True",
         "type": "histogram",
         "x": [
          true,
          true,
          true,
          true,
          true,
          true,
          true,
          true,
          true,
          true,
          true,
          true,
          true,
          true,
          true,
          true,
          true,
          true,
          true,
          true,
          true,
          true,
          true,
          true,
          true,
          true,
          true,
          true,
          true,
          true,
          true,
          true,
          true,
          true,
          true,
          true,
          true,
          true,
          true,
          true,
          true,
          true,
          true,
          true,
          true,
          true,
          true,
          true,
          true,
          true,
          true,
          true,
          true,
          true,
          true,
          true,
          true,
          true,
          true,
          true,
          true,
          true,
          true,
          true,
          true,
          true,
          true,
          true,
          true,
          true,
          true,
          true,
          true,
          true,
          true,
          true,
          true,
          true,
          true,
          true,
          true,
          true,
          true,
          true,
          true,
          true,
          true,
          true,
          true,
          true,
          true,
          true,
          true,
          true,
          true,
          true,
          true,
          true,
          true,
          true,
          true,
          true,
          true,
          true,
          true,
          true,
          true,
          true,
          true,
          true,
          true,
          true,
          true,
          true,
          true,
          true,
          true,
          true,
          true,
          true,
          true,
          true,
          true,
          true,
          true,
          true,
          true,
          true,
          true,
          true,
          true,
          true,
          true,
          true,
          true,
          true,
          true,
          true,
          true,
          true,
          true,
          true,
          true,
          true,
          true,
          true,
          true,
          true,
          true,
          true,
          true,
          true,
          true,
          true,
          true,
          true,
          true,
          true,
          true,
          true,
          true,
          true,
          true,
          true,
          true,
          true,
          true,
          true,
          true,
          true,
          true,
          true,
          true,
          true,
          true,
          true,
          true,
          true,
          true,
          true,
          true,
          true,
          true,
          true,
          true,
          true,
          true,
          true,
          true,
          true,
          true,
          true,
          true,
          true,
          true,
          true,
          true,
          true,
          true,
          true,
          true,
          true,
          true,
          true,
          true,
          true,
          true,
          true,
          true,
          true,
          true,
          true,
          true,
          true,
          true,
          true,
          true,
          true,
          true,
          true,
          true,
          true,
          true,
          true,
          true,
          true,
          true,
          true,
          true,
          true,
          true,
          true,
          true,
          true,
          true,
          true,
          true,
          true,
          true,
          true,
          true,
          true,
          true,
          true,
          true,
          true,
          true,
          true,
          true,
          true,
          true,
          true,
          true,
          true,
          true,
          true,
          true,
          true,
          true,
          true,
          true,
          true,
          true,
          true,
          true,
          true,
          true,
          true,
          true,
          true,
          true,
          true,
          true,
          true,
          true,
          true,
          true,
          true,
          true,
          true,
          true,
          true,
          true,
          true,
          true,
          true,
          true,
          true,
          true,
          true,
          true,
          true,
          true,
          true,
          true,
          true,
          true,
          true,
          true,
          true,
          true,
          true,
          true,
          true,
          true,
          true,
          true,
          true,
          true,
          true,
          true,
          true,
          true,
          true,
          true,
          true,
          true,
          true,
          true,
          true,
          true,
          true,
          true,
          true,
          true,
          true,
          true,
          true,
          true,
          true,
          true,
          true,
          true,
          true,
          true,
          true,
          true,
          true,
          true,
          true,
          true,
          true,
          true,
          true,
          true,
          true,
          true,
          true,
          true,
          true,
          true,
          true,
          true,
          true,
          true,
          true,
          true,
          true,
          true,
          true,
          true,
          true,
          true,
          true,
          true,
          true,
          true,
          true,
          true,
          true,
          true,
          true,
          true,
          true,
          true,
          true,
          true,
          true,
          true,
          true,
          true,
          true,
          true,
          true,
          true,
          true,
          true,
          true,
          true,
          true,
          true,
          true,
          true,
          true,
          true,
          true,
          true,
          true,
          true,
          true,
          true,
          true,
          true,
          true,
          true,
          true,
          true,
          true,
          true,
          true,
          true,
          true,
          true,
          true,
          true,
          true,
          true,
          true,
          true,
          true,
          true,
          true,
          true,
          true,
          true,
          true,
          true,
          true,
          true,
          true,
          true,
          true,
          true,
          true,
          true,
          true,
          true,
          true,
          true,
          true,
          true,
          true,
          true,
          true,
          true,
          true,
          true,
          true,
          true,
          true,
          true,
          true,
          true,
          true,
          true,
          true,
          true,
          true,
          true,
          true,
          true,
          true,
          true,
          true,
          true,
          true,
          true,
          true,
          true,
          true,
          true,
          true,
          true,
          true,
          true,
          true,
          true,
          true,
          true,
          true,
          true,
          true,
          true,
          true,
          true,
          true,
          true,
          true,
          true,
          true,
          true,
          true,
          true,
          true,
          true,
          true,
          true,
          true,
          true,
          true
         ]
        }
       ],
       "layout": {
        "legend": {
         "title": {
          "text": "is_hiker"
         }
        },
        "template": {
         "data": {
          "bar": [
           {
            "error_x": {
             "color": "#2a3f5f"
            },
            "error_y": {
             "color": "#2a3f5f"
            },
            "marker": {
             "line": {
              "color": "white",
              "width": 0.5
             },
             "pattern": {
              "fillmode": "overlay",
              "size": 10,
              "solidity": 0.2
             }
            },
            "type": "bar"
           }
          ],
          "barpolar": [
           {
            "marker": {
             "line": {
              "color": "white",
              "width": 0.5
             },
             "pattern": {
              "fillmode": "overlay",
              "size": 10,
              "solidity": 0.2
             }
            },
            "type": "barpolar"
           }
          ],
          "box": [
           {
            "boxpoints": "outliers",
            "notched": false,
            "type": "box"
           }
          ],
          "carpet": [
           {
            "aaxis": {
             "endlinecolor": "#2a3f5f",
             "gridcolor": "#C8D4E3",
             "linecolor": "#C8D4E3",
             "minorgridcolor": "#C8D4E3",
             "startlinecolor": "#2a3f5f"
            },
            "baxis": {
             "endlinecolor": "#2a3f5f",
             "gridcolor": "#C8D4E3",
             "linecolor": "#C8D4E3",
             "minorgridcolor": "#C8D4E3",
             "startlinecolor": "#2a3f5f"
            },
            "type": "carpet"
           }
          ],
          "choropleth": [
           {
            "colorbar": {
             "outlinewidth": 0,
             "ticks": ""
            },
            "type": "choropleth"
           }
          ],
          "contour": [
           {
            "colorbar": {
             "outlinewidth": 0,
             "ticks": ""
            },
            "colorscale": [
             [
              0,
              "#0d0887"
             ],
             [
              0.1111111111111111,
              "#46039f"
             ],
             [
              0.2222222222222222,
              "#7201a8"
             ],
             [
              0.3333333333333333,
              "#9c179e"
             ],
             [
              0.4444444444444444,
              "#bd3786"
             ],
             [
              0.5555555555555556,
              "#d8576b"
             ],
             [
              0.6666666666666666,
              "#ed7953"
             ],
             [
              0.7777777777777778,
              "#fb9f3a"
             ],
             [
              0.8888888888888888,
              "#fdca26"
             ],
             [
              1,
              "#f0f921"
             ]
            ],
            "type": "contour"
           }
          ],
          "contourcarpet": [
           {
            "colorbar": {
             "outlinewidth": 0,
             "ticks": ""
            },
            "type": "contourcarpet"
           }
          ],
          "heatmap": [
           {
            "colorbar": {
             "outlinewidth": 0,
             "ticks": ""
            },
            "colorscale": [
             [
              0,
              "#0d0887"
             ],
             [
              0.1111111111111111,
              "#46039f"
             ],
             [
              0.2222222222222222,
              "#7201a8"
             ],
             [
              0.3333333333333333,
              "#9c179e"
             ],
             [
              0.4444444444444444,
              "#bd3786"
             ],
             [
              0.5555555555555556,
              "#d8576b"
             ],
             [
              0.6666666666666666,
              "#ed7953"
             ],
             [
              0.7777777777777778,
              "#fb9f3a"
             ],
             [
              0.8888888888888888,
              "#fdca26"
             ],
             [
              1,
              "#f0f921"
             ]
            ],
            "type": "heatmap"
           }
          ],
          "heatmapgl": [
           {
            "colorbar": {
             "outlinewidth": 0,
             "ticks": ""
            },
            "colorscale": [
             [
              0,
              "#0d0887"
             ],
             [
              0.1111111111111111,
              "#46039f"
             ],
             [
              0.2222222222222222,
              "#7201a8"
             ],
             [
              0.3333333333333333,
              "#9c179e"
             ],
             [
              0.4444444444444444,
              "#bd3786"
             ],
             [
              0.5555555555555556,
              "#d8576b"
             ],
             [
              0.6666666666666666,
              "#ed7953"
             ],
             [
              0.7777777777777778,
              "#fb9f3a"
             ],
             [
              0.8888888888888888,
              "#fdca26"
             ],
             [
              1,
              "#f0f921"
             ]
            ],
            "type": "heatmapgl"
           }
          ],
          "histogram": [
           {
            "marker": {
             "line": {
              "width": 1
             },
             "pattern": {
              "fillmode": "overlay",
              "size": 10,
              "solidity": 0.2
             }
            },
            "type": "histogram"
           }
          ],
          "histogram2d": [
           {
            "colorbar": {
             "outlinewidth": 0,
             "ticks": ""
            },
            "colorscale": [
             [
              0,
              "#0d0887"
             ],
             [
              0.1111111111111111,
              "#46039f"
             ],
             [
              0.2222222222222222,
              "#7201a8"
             ],
             [
              0.3333333333333333,
              "#9c179e"
             ],
             [
              0.4444444444444444,
              "#bd3786"
             ],
             [
              0.5555555555555556,
              "#d8576b"
             ],
             [
              0.6666666666666666,
              "#ed7953"
             ],
             [
              0.7777777777777778,
              "#fb9f3a"
             ],
             [
              0.8888888888888888,
              "#fdca26"
             ],
             [
              1,
              "#f0f921"
             ]
            ],
            "type": "histogram2d"
           }
          ],
          "histogram2dcontour": [
           {
            "colorbar": {
             "outlinewidth": 0,
             "ticks": ""
            },
            "colorscale": [
             [
              0,
              "#0d0887"
             ],
             [
              0.1111111111111111,
              "#46039f"
             ],
             [
              0.2222222222222222,
              "#7201a8"
             ],
             [
              0.3333333333333333,
              "#9c179e"
             ],
             [
              0.4444444444444444,
              "#bd3786"
             ],
             [
              0.5555555555555556,
              "#d8576b"
             ],
             [
              0.6666666666666666,
              "#ed7953"
             ],
             [
              0.7777777777777778,
              "#fb9f3a"
             ],
             [
              0.8888888888888888,
              "#fdca26"
             ],
             [
              1,
              "#f0f921"
             ]
            ],
            "type": "histogram2dcontour"
           }
          ],
          "mesh3d": [
           {
            "colorbar": {
             "outlinewidth": 0,
             "ticks": ""
            },
            "type": "mesh3d"
           }
          ],
          "parcoords": [
           {
            "line": {
             "colorbar": {
              "outlinewidth": 0,
              "ticks": ""
             }
            },
            "type": "parcoords"
           }
          ],
          "pie": [
           {
            "automargin": true,
            "type": "pie"
           }
          ],
          "scatter": [
           {
            "fillpattern": {
             "fillmode": "overlay",
             "size": 10,
             "solidity": 0.2
            },
            "marker": {
             "opacity": 0.8
            },
            "type": "scatter"
           }
          ],
          "scatter3d": [
           {
            "line": {
             "colorbar": {
              "outlinewidth": 0,
              "ticks": ""
             }
            },
            "marker": {
             "colorbar": {
              "outlinewidth": 0,
              "ticks": ""
             },
             "opacity": 0.8
            },
            "type": "scatter3d"
           }
          ],
          "scattercarpet": [
           {
            "marker": {
             "colorbar": {
              "outlinewidth": 0,
              "ticks": ""
             }
            },
            "type": "scattercarpet"
           }
          ],
          "scattergeo": [
           {
            "marker": {
             "colorbar": {
              "outlinewidth": 0,
              "ticks": ""
             }
            },
            "type": "scattergeo"
           }
          ],
          "scattergl": [
           {
            "marker": {
             "colorbar": {
              "outlinewidth": 0,
              "ticks": ""
             }
            },
            "type": "scattergl"
           }
          ],
          "scattermapbox": [
           {
            "marker": {
             "colorbar": {
              "outlinewidth": 0,
              "ticks": ""
             }
            },
            "type": "scattermapbox"
           }
          ],
          "scatterpolar": [
           {
            "marker": {
             "colorbar": {
              "outlinewidth": 0,
              "ticks": ""
             }
            },
            "type": "scatterpolar"
           }
          ],
          "scatterpolargl": [
           {
            "marker": {
             "colorbar": {
              "outlinewidth": 0,
              "ticks": ""
             }
            },
            "type": "scatterpolargl"
           }
          ],
          "scatterternary": [
           {
            "marker": {
             "colorbar": {
              "outlinewidth": 0,
              "ticks": ""
             }
            },
            "type": "scatterternary"
           }
          ],
          "surface": [
           {
            "colorbar": {
             "outlinewidth": 0,
             "ticks": ""
            },
            "colorscale": [
             [
              0,
              "#0d0887"
             ],
             [
              0.1111111111111111,
              "#46039f"
             ],
             [
              0.2222222222222222,
              "#7201a8"
             ],
             [
              0.3333333333333333,
              "#9c179e"
             ],
             [
              0.4444444444444444,
              "#bd3786"
             ],
             [
              0.5555555555555556,
              "#d8576b"
             ],
             [
              0.6666666666666666,
              "#ed7953"
             ],
             [
              0.7777777777777778,
              "#fb9f3a"
             ],
             [
              0.8888888888888888,
              "#fdca26"
             ],
             [
              1,
              "#f0f921"
             ]
            ],
            "type": "surface"
           }
          ],
          "table": [
           {
            "cells": {
             "fill": {
              "color": "#EBF0F8"
             },
             "line": {
              "color": "white"
             }
            },
            "header": {
             "fill": {
              "color": "#C8D4E3"
             },
             "line": {
              "color": "white"
             }
            },
            "type": "table"
           }
          ]
         },
         "layout": {
          "annotationdefaults": {
           "arrowcolor": "#2a3f5f",
           "arrowhead": 0,
           "arrowwidth": 1
          },
          "autotypenumbers": "strict",
          "coloraxis": {
           "colorbar": {
            "outlinewidth": 0,
            "ticks": ""
           }
          },
          "colorscale": {
           "diverging": [
            [
             0,
             "#8e0152"
            ],
            [
             0.1,
             "#c51b7d"
            ],
            [
             0.2,
             "#de77ae"
            ],
            [
             0.3,
             "#f1b6da"
            ],
            [
             0.4,
             "#fde0ef"
            ],
            [
             0.5,
             "#f7f7f7"
            ],
            [
             0.6,
             "#e6f5d0"
            ],
            [
             0.7,
             "#b8e186"
            ],
            [
             0.8,
             "#7fbc41"
            ],
            [
             0.9,
             "#4d9221"
            ],
            [
             1,
             "#276419"
            ]
           ],
           "sequential": [
            [
             0,
             "#0d0887"
            ],
            [
             0.1111111111111111,
             "#46039f"
            ],
            [
             0.2222222222222222,
             "#7201a8"
            ],
            [
             0.3333333333333333,
             "#9c179e"
            ],
            [
             0.4444444444444444,
             "#bd3786"
            ],
            [
             0.5555555555555556,
             "#d8576b"
            ],
            [
             0.6666666666666666,
             "#ed7953"
            ],
            [
             0.7777777777777778,
             "#fb9f3a"
            ],
            [
             0.8888888888888888,
             "#fdca26"
            ],
            [
             1,
             "#f0f921"
            ]
           ],
           "sequentialminus": [
            [
             0,
             "#0d0887"
            ],
            [
             0.1111111111111111,
             "#46039f"
            ],
            [
             0.2222222222222222,
             "#7201a8"
            ],
            [
             0.3333333333333333,
             "#9c179e"
            ],
            [
             0.4444444444444444,
             "#bd3786"
            ],
            [
             0.5555555555555556,
             "#d8576b"
            ],
            [
             0.6666666666666666,
             "#ed7953"
            ],
            [
             0.7777777777777778,
             "#fb9f3a"
            ],
            [
             0.8888888888888888,
             "#fdca26"
            ],
            [
             1,
             "#f0f921"
            ]
           ]
          },
          "colorway": [
           "#636efa",
           "#EF553B",
           "#00cc96",
           "#ab63fa",
           "#FFA15A",
           "#19d3f3",
           "#FF6692",
           "#B6E880",
           "#FF97FF",
           "#FECB52"
          ],
          "font": {
           "color": "#2a3f5f"
          },
          "geo": {
           "bgcolor": "white",
           "lakecolor": "white",
           "landcolor": "white",
           "showlakes": true,
           "showland": true,
           "subunitcolor": "#C8D4E3"
          },
          "height": 400,
          "hoverlabel": {
           "align": "left"
          },
          "hovermode": "closest",
          "mapbox": {
           "style": "light"
          },
          "margin": {
           "b": 2,
           "l": 2,
           "r": 2,
           "t": 30
          },
          "paper_bgcolor": "white",
          "plot_bgcolor": "white",
          "polar": {
           "angularaxis": {
            "gridcolor": "#EBF0F8",
            "linecolor": "#EBF0F8",
            "ticks": ""
           },
           "bgcolor": "white",
           "radialaxis": {
            "gridcolor": "#EBF0F8",
            "linecolor": "#EBF0F8",
            "ticks": ""
           }
          },
          "scene": {
           "camera": {
            "eye": {
             "x": 1.5,
             "y": 1.5,
             "z": 0.1
            }
           },
           "xaxis": {
            "backgroundcolor": "white",
            "gridcolor": "#DFE8F3",
            "gridwidth": 2,
            "linecolor": "#EBF0F8",
            "showbackground": true,
            "ticks": "",
            "zerolinecolor": "#EBF0F8"
           },
           "yaxis": {
            "backgroundcolor": "white",
            "gridcolor": "#DFE8F3",
            "gridwidth": 2,
            "linecolor": "#EBF0F8",
            "showbackground": true,
            "ticks": "",
            "zerolinecolor": "#EBF0F8"
           },
           "zaxis": {
            "backgroundcolor": "white",
            "gridcolor": "#DFE8F3",
            "gridwidth": 2,
            "linecolor": "#EBF0F8",
            "showbackground": true,
            "ticks": "",
            "zerolinecolor": "#EBF0F8"
           }
          },
          "shapedefaults": {
           "line": {
            "color": "#2a3f5f"
           }
          },
          "ternary": {
           "aaxis": {
            "gridcolor": "#DFE8F3",
            "linecolor": "#A2B1C6",
            "ticks": ""
           },
           "baxis": {
            "gridcolor": "#DFE8F3",
            "linecolor": "#A2B1C6",
            "ticks": ""
           },
           "bgcolor": "white",
           "caxis": {
            "gridcolor": "#DFE8F3",
            "linecolor": "#A2B1C6",
            "ticks": ""
           }
          },
          "title": {
           "x": 0.5
          },
          "xaxis": {
           "automargin": true,
           "gridcolor": "#EBF0F8",
           "linecolor": "#EBF0F8",
           "linewidth": 2,
           "showline": true,
           "ticks": "",
           "title": {
            "standoff": 15
           },
           "zerolinecolor": "#EBF0F8",
           "zerolinewidth": 2
          },
          "yaxis": {
           "automargin": true,
           "gridcolor": "#EBF0F8",
           "linecolor": "#EBF0F8",
           "linewidth": 2,
           "showline": true,
           "ticks": "",
           "title": {
            "standoff": 15
           },
           "zerolinecolor": "#EBF0F8",
           "zerolinewidth": 2
          }
         }
        },
        "title": {
         "text": "Label distribution in balanced dataset"
        },
        "xaxis": {
         "title": {
          "text": "is hiker"
         }
        },
        "yaxis": {
         "title": {
          "text": "count"
         }
        }
       }
      }
     },
     "metadata": {},
     "output_type": "display_data"
    }
   ],
   "source": [
    "# Add a new label with true/false values to our dataset\n",
    "balanced_dataset[\"is_hiker\"] = balanced_dataset.label == \"hiker\"\n",
    "\n",
    "hikers_dataset = balanced_dataset[balanced_dataset[\"is_hiker\"] == 1] \n",
    "nonhikers_dataset = balanced_dataset[balanced_dataset[\"is_hiker\"] == False] \n",
    "# take a random sampling of non-hikers the same size as the hikers subset\n",
    "nonhikers_dataset = nonhikers_dataset.sample(n=len(hikers_dataset.index), random_state=1)\n",
    "balanced_dataset = pandas.concat([hikers_dataset, nonhikers_dataset])\n",
    "\n",
    "# Plot frequency for \"is_hiker\" labels\n",
    "graphing.multiple_histogram(balanced_dataset, label_x=\"is_hiker\", label_group=\"is_hiker\", title=\"Label distribution in balanced dataset\")"
   ]
  },
  {
   "attachments": {},
   "cell_type": "markdown",
   "metadata": {},
   "source": [
    "Como puede ver, la etiqueta is_hiker tiene el mismo número de Verdadero y Falso para ambas clases. Ahora estamos usando un conjunto de datos balanceado de clases. Ejecutemos predicciones en este conjunto usando el modelo previamente entrenado:"
   ]
  },
  {
   "cell_type": "code",
   "execution_count": 9,
   "metadata": {},
   "outputs": [
    {
     "name": "stdout",
     "output_type": "stream",
     "text": [
      "Balanced set accuracy: 0.754\n"
     ]
    }
   ],
   "source": [
    "# Test the model using a balanced dataset\n",
    "actual = balanced_dataset.is_hiker\n",
    "predictions = model.predict(balanced_dataset[features])\n",
    "\n",
    "# Build and print our confusion matrix, using the actual values and predictions \n",
    "# from the test set, calculated in previous cells\n",
    "cm = confusion_matrix(actual, predictions, normalize=None)\n",
    "\n",
    "# Print accuracy using this set\n",
    "print(\"Balanced set accuracy:\", assess_accuracy(model,balanced_dataset, \"is_hiker\"))"
   ]
  },
  {
   "attachments": {},
   "cell_type": "markdown",
   "metadata": {},
   "source": [
    "Como era de esperar, vemos una caída notable en la precisión al usar un conjunto diferente. Nuevamente, analicemos visualmente su rendimiento:"
   ]
  },
  {
   "cell_type": "code",
   "execution_count": 10,
   "metadata": {},
   "outputs": [
    {
     "data": {
      "application/vnd.plotly.v1+json": {
       "config": {
        "plotlyServerURL": "https://plot.ly"
       },
       "data": [
        {
         "colorscale": [
          [
           0,
           "#0d0887"
          ],
          [
           0.1111111111111111,
           "#46039f"
          ],
          [
           0.2222222222222222,
           "#7201a8"
          ],
          [
           0.3333333333333333,
           "#9c179e"
          ],
          [
           0.4444444444444444,
           "#bd3786"
          ],
          [
           0.5555555555555556,
           "#d8576b"
          ],
          [
           0.6666666666666666,
           "#ed7953"
          ],
          [
           0.7777777777777778,
           "#fb9f3a"
          ],
          [
           0.8888888888888888,
           "#fdca26"
          ],
          [
           1,
           "#f0f921"
          ]
         ],
         "reversescale": false,
         "showscale": true,
         "type": "heatmap",
         "x": [
          "false",
          "true"
         ],
         "y": [
          "false",
          "true"
         ],
         "z": [
          [
           411,
           89
          ],
          [
           157,
           343
          ]
         ]
        }
       ],
       "layout": {
        "annotations": [
         {
          "font": {
           "color": "#000000"
          },
          "showarrow": false,
          "text": "411",
          "x": "false",
          "xref": "x",
          "y": "false",
          "yref": "y"
         },
         {
          "font": {
           "color": "#FFFFFF"
          },
          "showarrow": false,
          "text": "89",
          "x": "true",
          "xref": "x",
          "y": "false",
          "yref": "y"
         },
         {
          "font": {
           "color": "#FFFFFF"
          },
          "showarrow": false,
          "text": "157",
          "x": "false",
          "xref": "x",
          "y": "true",
          "yref": "y"
         },
         {
          "font": {
           "color": "#000000"
          },
          "showarrow": false,
          "text": "343",
          "x": "true",
          "xref": "x",
          "y": "true",
          "yref": "y"
         },
         {
          "font": {
           "color": "black",
           "size": 14
          },
          "showarrow": false,
          "text": "Predicted label",
          "x": 0.5,
          "xref": "paper",
          "y": -0.15,
          "yref": "paper"
         },
         {
          "font": {
           "color": "black",
           "size": 14
          },
          "showarrow": false,
          "text": "Actual label",
          "textangle": -90,
          "x": -0.15,
          "xref": "paper",
          "y": 0.5,
          "yref": "paper"
         }
        ],
        "margin": {
         "b": 50,
         "l": 120,
         "r": 20,
         "t": 80
        },
        "template": {
         "data": {
          "bar": [
           {
            "error_x": {
             "color": "#2a3f5f"
            },
            "error_y": {
             "color": "#2a3f5f"
            },
            "marker": {
             "line": {
              "color": "white",
              "width": 0.5
             },
             "pattern": {
              "fillmode": "overlay",
              "size": 10,
              "solidity": 0.2
             }
            },
            "type": "bar"
           }
          ],
          "barpolar": [
           {
            "marker": {
             "line": {
              "color": "white",
              "width": 0.5
             },
             "pattern": {
              "fillmode": "overlay",
              "size": 10,
              "solidity": 0.2
             }
            },
            "type": "barpolar"
           }
          ],
          "box": [
           {
            "boxpoints": "outliers",
            "notched": false,
            "type": "box"
           }
          ],
          "carpet": [
           {
            "aaxis": {
             "endlinecolor": "#2a3f5f",
             "gridcolor": "#C8D4E3",
             "linecolor": "#C8D4E3",
             "minorgridcolor": "#C8D4E3",
             "startlinecolor": "#2a3f5f"
            },
            "baxis": {
             "endlinecolor": "#2a3f5f",
             "gridcolor": "#C8D4E3",
             "linecolor": "#C8D4E3",
             "minorgridcolor": "#C8D4E3",
             "startlinecolor": "#2a3f5f"
            },
            "type": "carpet"
           }
          ],
          "choropleth": [
           {
            "colorbar": {
             "outlinewidth": 0,
             "ticks": ""
            },
            "type": "choropleth"
           }
          ],
          "contour": [
           {
            "colorbar": {
             "outlinewidth": 0,
             "ticks": ""
            },
            "colorscale": [
             [
              0,
              "#0d0887"
             ],
             [
              0.1111111111111111,
              "#46039f"
             ],
             [
              0.2222222222222222,
              "#7201a8"
             ],
             [
              0.3333333333333333,
              "#9c179e"
             ],
             [
              0.4444444444444444,
              "#bd3786"
             ],
             [
              0.5555555555555556,
              "#d8576b"
             ],
             [
              0.6666666666666666,
              "#ed7953"
             ],
             [
              0.7777777777777778,
              "#fb9f3a"
             ],
             [
              0.8888888888888888,
              "#fdca26"
             ],
             [
              1,
              "#f0f921"
             ]
            ],
            "type": "contour"
           }
          ],
          "contourcarpet": [
           {
            "colorbar": {
             "outlinewidth": 0,
             "ticks": ""
            },
            "type": "contourcarpet"
           }
          ],
          "heatmap": [
           {
            "colorbar": {
             "outlinewidth": 0,
             "ticks": ""
            },
            "colorscale": [
             [
              0,
              "#0d0887"
             ],
             [
              0.1111111111111111,
              "#46039f"
             ],
             [
              0.2222222222222222,
              "#7201a8"
             ],
             [
              0.3333333333333333,
              "#9c179e"
             ],
             [
              0.4444444444444444,
              "#bd3786"
             ],
             [
              0.5555555555555556,
              "#d8576b"
             ],
             [
              0.6666666666666666,
              "#ed7953"
             ],
             [
              0.7777777777777778,
              "#fb9f3a"
             ],
             [
              0.8888888888888888,
              "#fdca26"
             ],
             [
              1,
              "#f0f921"
             ]
            ],
            "type": "heatmap"
           }
          ],
          "heatmapgl": [
           {
            "colorbar": {
             "outlinewidth": 0,
             "ticks": ""
            },
            "colorscale": [
             [
              0,
              "#0d0887"
             ],
             [
              0.1111111111111111,
              "#46039f"
             ],
             [
              0.2222222222222222,
              "#7201a8"
             ],
             [
              0.3333333333333333,
              "#9c179e"
             ],
             [
              0.4444444444444444,
              "#bd3786"
             ],
             [
              0.5555555555555556,
              "#d8576b"
             ],
             [
              0.6666666666666666,
              "#ed7953"
             ],
             [
              0.7777777777777778,
              "#fb9f3a"
             ],
             [
              0.8888888888888888,
              "#fdca26"
             ],
             [
              1,
              "#f0f921"
             ]
            ],
            "type": "heatmapgl"
           }
          ],
          "histogram": [
           {
            "marker": {
             "line": {
              "width": 1
             },
             "pattern": {
              "fillmode": "overlay",
              "size": 10,
              "solidity": 0.2
             }
            },
            "type": "histogram"
           }
          ],
          "histogram2d": [
           {
            "colorbar": {
             "outlinewidth": 0,
             "ticks": ""
            },
            "colorscale": [
             [
              0,
              "#0d0887"
             ],
             [
              0.1111111111111111,
              "#46039f"
             ],
             [
              0.2222222222222222,
              "#7201a8"
             ],
             [
              0.3333333333333333,
              "#9c179e"
             ],
             [
              0.4444444444444444,
              "#bd3786"
             ],
             [
              0.5555555555555556,
              "#d8576b"
             ],
             [
              0.6666666666666666,
              "#ed7953"
             ],
             [
              0.7777777777777778,
              "#fb9f3a"
             ],
             [
              0.8888888888888888,
              "#fdca26"
             ],
             [
              1,
              "#f0f921"
             ]
            ],
            "type": "histogram2d"
           }
          ],
          "histogram2dcontour": [
           {
            "colorbar": {
             "outlinewidth": 0,
             "ticks": ""
            },
            "colorscale": [
             [
              0,
              "#0d0887"
             ],
             [
              0.1111111111111111,
              "#46039f"
             ],
             [
              0.2222222222222222,
              "#7201a8"
             ],
             [
              0.3333333333333333,
              "#9c179e"
             ],
             [
              0.4444444444444444,
              "#bd3786"
             ],
             [
              0.5555555555555556,
              "#d8576b"
             ],
             [
              0.6666666666666666,
              "#ed7953"
             ],
             [
              0.7777777777777778,
              "#fb9f3a"
             ],
             [
              0.8888888888888888,
              "#fdca26"
             ],
             [
              1,
              "#f0f921"
             ]
            ],
            "type": "histogram2dcontour"
           }
          ],
          "mesh3d": [
           {
            "colorbar": {
             "outlinewidth": 0,
             "ticks": ""
            },
            "type": "mesh3d"
           }
          ],
          "parcoords": [
           {
            "line": {
             "colorbar": {
              "outlinewidth": 0,
              "ticks": ""
             }
            },
            "type": "parcoords"
           }
          ],
          "pie": [
           {
            "automargin": true,
            "type": "pie"
           }
          ],
          "scatter": [
           {
            "fillpattern": {
             "fillmode": "overlay",
             "size": 10,
             "solidity": 0.2
            },
            "marker": {
             "opacity": 0.8
            },
            "type": "scatter"
           }
          ],
          "scatter3d": [
           {
            "line": {
             "colorbar": {
              "outlinewidth": 0,
              "ticks": ""
             }
            },
            "marker": {
             "colorbar": {
              "outlinewidth": 0,
              "ticks": ""
             },
             "opacity": 0.8
            },
            "type": "scatter3d"
           }
          ],
          "scattercarpet": [
           {
            "marker": {
             "colorbar": {
              "outlinewidth": 0,
              "ticks": ""
             }
            },
            "type": "scattercarpet"
           }
          ],
          "scattergeo": [
           {
            "marker": {
             "colorbar": {
              "outlinewidth": 0,
              "ticks": ""
             }
            },
            "type": "scattergeo"
           }
          ],
          "scattergl": [
           {
            "marker": {
             "colorbar": {
              "outlinewidth": 0,
              "ticks": ""
             }
            },
            "type": "scattergl"
           }
          ],
          "scattermapbox": [
           {
            "marker": {
             "colorbar": {
              "outlinewidth": 0,
              "ticks": ""
             }
            },
            "type": "scattermapbox"
           }
          ],
          "scatterpolar": [
           {
            "marker": {
             "colorbar": {
              "outlinewidth": 0,
              "ticks": ""
             }
            },
            "type": "scatterpolar"
           }
          ],
          "scatterpolargl": [
           {
            "marker": {
             "colorbar": {
              "outlinewidth": 0,
              "ticks": ""
             }
            },
            "type": "scatterpolargl"
           }
          ],
          "scatterternary": [
           {
            "marker": {
             "colorbar": {
              "outlinewidth": 0,
              "ticks": ""
             }
            },
            "type": "scatterternary"
           }
          ],
          "surface": [
           {
            "colorbar": {
             "outlinewidth": 0,
             "ticks": ""
            },
            "colorscale": [
             [
              0,
              "#0d0887"
             ],
             [
              0.1111111111111111,
              "#46039f"
             ],
             [
              0.2222222222222222,
              "#7201a8"
             ],
             [
              0.3333333333333333,
              "#9c179e"
             ],
             [
              0.4444444444444444,
              "#bd3786"
             ],
             [
              0.5555555555555556,
              "#d8576b"
             ],
             [
              0.6666666666666666,
              "#ed7953"
             ],
             [
              0.7777777777777778,
              "#fb9f3a"
             ],
             [
              0.8888888888888888,
              "#fdca26"
             ],
             [
              1,
              "#f0f921"
             ]
            ],
            "type": "surface"
           }
          ],
          "table": [
           {
            "cells": {
             "fill": {
              "color": "#EBF0F8"
             },
             "line": {
              "color": "white"
             }
            },
            "header": {
             "fill": {
              "color": "#C8D4E3"
             },
             "line": {
              "color": "white"
             }
            },
            "type": "table"
           }
          ]
         },
         "layout": {
          "annotationdefaults": {
           "arrowcolor": "#2a3f5f",
           "arrowhead": 0,
           "arrowwidth": 1
          },
          "autotypenumbers": "strict",
          "coloraxis": {
           "colorbar": {
            "outlinewidth": 0,
            "ticks": ""
           }
          },
          "colorscale": {
           "diverging": [
            [
             0,
             "#8e0152"
            ],
            [
             0.1,
             "#c51b7d"
            ],
            [
             0.2,
             "#de77ae"
            ],
            [
             0.3,
             "#f1b6da"
            ],
            [
             0.4,
             "#fde0ef"
            ],
            [
             0.5,
             "#f7f7f7"
            ],
            [
             0.6,
             "#e6f5d0"
            ],
            [
             0.7,
             "#b8e186"
            ],
            [
             0.8,
             "#7fbc41"
            ],
            [
             0.9,
             "#4d9221"
            ],
            [
             1,
             "#276419"
            ]
           ],
           "sequential": [
            [
             0,
             "#0d0887"
            ],
            [
             0.1111111111111111,
             "#46039f"
            ],
            [
             0.2222222222222222,
             "#7201a8"
            ],
            [
             0.3333333333333333,
             "#9c179e"
            ],
            [
             0.4444444444444444,
             "#bd3786"
            ],
            [
             0.5555555555555556,
             "#d8576b"
            ],
            [
             0.6666666666666666,
             "#ed7953"
            ],
            [
             0.7777777777777778,
             "#fb9f3a"
            ],
            [
             0.8888888888888888,
             "#fdca26"
            ],
            [
             1,
             "#f0f921"
            ]
           ],
           "sequentialminus": [
            [
             0,
             "#0d0887"
            ],
            [
             0.1111111111111111,
             "#46039f"
            ],
            [
             0.2222222222222222,
             "#7201a8"
            ],
            [
             0.3333333333333333,
             "#9c179e"
            ],
            [
             0.4444444444444444,
             "#bd3786"
            ],
            [
             0.5555555555555556,
             "#d8576b"
            ],
            [
             0.6666666666666666,
             "#ed7953"
            ],
            [
             0.7777777777777778,
             "#fb9f3a"
            ],
            [
             0.8888888888888888,
             "#fdca26"
            ],
            [
             1,
             "#f0f921"
            ]
           ]
          },
          "colorway": [
           "#636efa",
           "#EF553B",
           "#00cc96",
           "#ab63fa",
           "#FFA15A",
           "#19d3f3",
           "#FF6692",
           "#B6E880",
           "#FF97FF",
           "#FECB52"
          ],
          "font": {
           "color": "#2a3f5f"
          },
          "geo": {
           "bgcolor": "white",
           "lakecolor": "white",
           "landcolor": "white",
           "showlakes": true,
           "showland": true,
           "subunitcolor": "#C8D4E3"
          },
          "height": 400,
          "hoverlabel": {
           "align": "left"
          },
          "hovermode": "closest",
          "mapbox": {
           "style": "light"
          },
          "margin": {
           "b": 2,
           "l": 2,
           "r": 2,
           "t": 30
          },
          "paper_bgcolor": "white",
          "plot_bgcolor": "white",
          "polar": {
           "angularaxis": {
            "gridcolor": "#EBF0F8",
            "linecolor": "#EBF0F8",
            "ticks": ""
           },
           "bgcolor": "white",
           "radialaxis": {
            "gridcolor": "#EBF0F8",
            "linecolor": "#EBF0F8",
            "ticks": ""
           }
          },
          "scene": {
           "camera": {
            "eye": {
             "x": 1.5,
             "y": 1.5,
             "z": 0.1
            }
           },
           "xaxis": {
            "backgroundcolor": "white",
            "gridcolor": "#DFE8F3",
            "gridwidth": 2,
            "linecolor": "#EBF0F8",
            "showbackground": true,
            "ticks": "",
            "zerolinecolor": "#EBF0F8"
           },
           "yaxis": {
            "backgroundcolor": "white",
            "gridcolor": "#DFE8F3",
            "gridwidth": 2,
            "linecolor": "#EBF0F8",
            "showbackground": true,
            "ticks": "",
            "zerolinecolor": "#EBF0F8"
           },
           "zaxis": {
            "backgroundcolor": "white",
            "gridcolor": "#DFE8F3",
            "gridwidth": 2,
            "linecolor": "#EBF0F8",
            "showbackground": true,
            "ticks": "",
            "zerolinecolor": "#EBF0F8"
           }
          },
          "shapedefaults": {
           "line": {
            "color": "#2a3f5f"
           }
          },
          "ternary": {
           "aaxis": {
            "gridcolor": "#DFE8F3",
            "linecolor": "#A2B1C6",
            "ticks": ""
           },
           "baxis": {
            "gridcolor": "#DFE8F3",
            "linecolor": "#A2B1C6",
            "ticks": ""
           },
           "bgcolor": "white",
           "caxis": {
            "gridcolor": "#DFE8F3",
            "linecolor": "#A2B1C6",
            "ticks": ""
           }
          },
          "title": {
           "x": 0.5
          },
          "xaxis": {
           "automargin": true,
           "gridcolor": "#EBF0F8",
           "linecolor": "#EBF0F8",
           "linewidth": 2,
           "showline": true,
           "ticks": "",
           "title": {
            "standoff": 15
           },
           "zerolinecolor": "#EBF0F8",
           "zerolinewidth": 2
          },
          "yaxis": {
           "automargin": true,
           "gridcolor": "#EBF0F8",
           "linecolor": "#EBF0F8",
           "linewidth": 2,
           "showline": true,
           "ticks": "",
           "title": {
            "standoff": 15
           },
           "zerolinecolor": "#EBF0F8",
           "zerolinewidth": 2
          }
         }
        },
        "title": {
         "text": "<b>Confusion matrix</b>"
        },
        "xaxis": {
         "dtick": 1,
         "gridcolor": "rgb(0, 0, 0)",
         "side": "top",
         "ticks": ""
        },
        "yaxis": {
         "categoryorder": "category descending",
         "dtick": 1,
         "ticks": "",
         "ticksuffix": "  "
        }
       }
      }
     },
     "metadata": {},
     "output_type": "display_data"
    }
   ],
   "source": [
    "# plot new confusion matrix\n",
    "# Create the list of unique labels in the test set to use in our plot\n",
    "unique_targets = sorted(list(balanced_dataset[\"is_hiker\"].unique()))\n",
    "\n",
    "# Convert values to lower case so the plot code can count the outcomes\n",
    "x = y = [str(s).lower() for s in unique_targets]\n",
    "\n",
    "# Plot the matrix above as a heatmap with annotations (values) in its cells\n",
    "fig = ff.create_annotated_heatmap(cm, x, y)\n",
    "\n",
    "# Set titles and ordering\n",
    "fig.update_layout(  title_text=\"<b>Confusion matrix</b>\", \n",
    "                    yaxis = dict(categoryorder = \"category descending\")\n",
    "                    )\n",
    "\n",
    "fig.add_annotation(dict(font=dict(color=\"black\",size=14),\n",
    "                        x=0.5,\n",
    "                        y=-0.15,\n",
    "                        showarrow=False,\n",
    "                        text=\"Predicted label\",\n",
    "                        xref=\"paper\",\n",
    "                        yref=\"paper\"))\n",
    "\n",
    "fig.add_annotation(dict(font=dict(color=\"black\",size=14),\n",
    "                        x=-0.15,\n",
    "                        y=0.5,\n",
    "                        showarrow=False,\n",
    "                        text=\"Actual label\",\n",
    "                        textangle=-90,\n",
    "                        xref=\"paper\",\n",
    "                        yref=\"paper\"))\n",
    "\n",
    "# We need margins so the titles fit\n",
    "fig.update_layout(margin=dict(t=80, r=20, l=120, b=50))\n",
    "fig['data'][0]['showscale'] = True\n",
    "fig.show()"
   ]
  },
  {
   "attachments": {},
   "cell_type": "markdown",
   "metadata": {},
   "source": [
    "La matriz de confusión confirma la escasa precisión de este conjunto de datos, pero ¿por qué ocurre esto cuando teníamos métricas tan excelentes en los conjuntos de entrenamiento y prueba anteriores?\n",
    "\n",
    "Recordemos que el primer modelo estaba muy desequilibrado. La clase \"excursionista\" representaba aproximadamente el 22% de los resultados.\n",
    "\n",
    "Cuando se produce un desequilibrio de este tipo, los modelos de clasificación no tienen suficientes datos para aprender los patrones de la clase minoritaria y, como consecuencia, se inclinan hacia la clase mayoritaria.\n",
    "\n",
    "Los conjuntos desequilibrados pueden abordarse de varias maneras:\n",
    "\n",
    "Mejorando la selección de datos\n",
    "Remuestreo del conjunto de datos\n",
    "Utilizando clases ponderadas\n",
    "En este ejercicio, nos centraremos en la última opción.\n",
    "\n",
    "## Utilizar ponderaciones de clases para equilibrar el conjunto de datos\n",
    "Podemos asignar pesos diferentes a las clases mayoritaria y minoritaria, según su distribución, y modificar nuestro algoritmo de entrenamiento para que tenga en cuenta esa información durante la fase de entrenamiento.\n",
    "\n",
    "Así, penalizará los errores cuando la clase minoritaria esté mal clasificada, lo que en esencia \"obligará\" al modelo a aprender mejor sus características y patrones.\n",
    "\n",
    "Para utilizar clases ponderadas, tenemos que volver a entrenar nuestro modelo utilizando el conjunto de entrenamiento original, pero esta vez diciéndole al algoritmo que utilice las ponderaciones a la hora de calcular los errores:"
   ]
  },
  {
   "cell_type": "code",
   "execution_count": 11,
   "metadata": {},
   "outputs": [
    {
     "name": "stdout",
     "output_type": "stream",
     "text": [
      "Train accuracy: 0.9525974025974026\n",
      "Test accuracy: 0.9166666666666666\n"
     ]
    }
   ],
   "source": [
    "# Import function used in calculating weights\n",
    "from sklearn.utils import class_weight\n",
    "\n",
    "# Retrain model using class weights\n",
    "# Using class_weight=\"balanced\" tells the algorithm to automatically calculate weights for us\n",
    "weighted_model = RandomForestClassifier(n_estimators=1, random_state=1, verbose=False, class_weight=\"balanced\")\n",
    "# Train the weighted_model using binary label\n",
    "weighted_model.fit(train[features], train.is_hiker)\n",
    "\n",
    "print(\"Train accuracy:\", assess_accuracy(weighted_model,train, \"is_hiker\"))\n",
    "print(\"Test accuracy:\", assess_accuracy(weighted_model, test, \"is_hiker\"))"
   ]
  },
  {
   "attachments": {},
   "cell_type": "markdown",
   "metadata": {},
   "source": [
    "\n",
    "Después de usar las clases ponderadas, la precisión del tren se mantuvo casi igual, mientras que la precisión de la prueba mostró una pequeña mejora (aproximadamente el 1 %). Veamos si los resultados mejoran usando el conjunto balanceado para predicciones nuevamente:"
   ]
  },
  {
   "cell_type": "code",
   "execution_count": 12,
   "metadata": {},
   "outputs": [
    {
     "name": "stdout",
     "output_type": "stream",
     "text": [
      "Balanced set accuracy: 0.796\n"
     ]
    }
   ],
   "source": [
    "print(\"Balanced set accuracy:\", assess_accuracy(weighted_model, balanced_dataset, \"is_hiker\"))\n",
    "\n",
    "# Test the weighted_model using a balanced dataset\n",
    "actual = balanced_dataset.is_hiker\n",
    "predictions = weighted_model.predict(balanced_dataset[features])\n",
    "\n",
    "# Build and print our confusion matrix, using the actual values and predictions \n",
    "# from the test set, calculated in previous cells\n",
    "cm = confusion_matrix(actual, predictions, normalize=None)"
   ]
  },
  {
   "attachments": {},
   "cell_type": "markdown",
   "metadata": {},
   "source": [
    "La precisión del conjunto equilibrado aumentó aproximadamente un 4%, pero aún así debemos intentar visualizar y comprender los nuevos resultados.\n",
    "\n",
    "Matriz de confusión final\n",
    "Ahora podemos trazar una matriz de confusión final, que representa las predicciones para un conjunto de datos equilibrado, utilizando un modelo entrenado en un conjunto de datos de clases ponderadas:"
   ]
  },
  {
   "cell_type": "code",
   "execution_count": 13,
   "metadata": {},
   "outputs": [
    {
     "data": {
      "application/vnd.plotly.v1+json": {
       "config": {
        "plotlyServerURL": "https://plot.ly"
       },
       "data": [
        {
         "colorscale": [
          [
           0,
           "#0d0887"
          ],
          [
           0.1111111111111111,
           "#46039f"
          ],
          [
           0.2222222222222222,
           "#7201a8"
          ],
          [
           0.3333333333333333,
           "#9c179e"
          ],
          [
           0.4444444444444444,
           "#bd3786"
          ],
          [
           0.5555555555555556,
           "#d8576b"
          ],
          [
           0.6666666666666666,
           "#ed7953"
          ],
          [
           0.7777777777777778,
           "#fb9f3a"
          ],
          [
           0.8888888888888888,
           "#fdca26"
          ],
          [
           1,
           "#f0f921"
          ]
         ],
         "reversescale": false,
         "showscale": true,
         "type": "heatmap",
         "x": [
          "false",
          "true"
         ],
         "y": [
          "false",
          "true"
         ],
         "z": [
          [
           408,
           92
          ],
          [
           112,
           388
          ]
         ]
        }
       ],
       "layout": {
        "annotations": [
         {
          "font": {
           "color": "#000000"
          },
          "showarrow": false,
          "text": "408",
          "x": "false",
          "xref": "x",
          "y": "false",
          "yref": "y"
         },
         {
          "font": {
           "color": "#FFFFFF"
          },
          "showarrow": false,
          "text": "92",
          "x": "true",
          "xref": "x",
          "y": "false",
          "yref": "y"
         },
         {
          "font": {
           "color": "#FFFFFF"
          },
          "showarrow": false,
          "text": "112",
          "x": "false",
          "xref": "x",
          "y": "true",
          "yref": "y"
         },
         {
          "font": {
           "color": "#000000"
          },
          "showarrow": false,
          "text": "388",
          "x": "true",
          "xref": "x",
          "y": "true",
          "yref": "y"
         },
         {
          "font": {
           "color": "black",
           "size": 14
          },
          "showarrow": false,
          "text": "Predicted label",
          "x": 0.5,
          "xref": "paper",
          "y": -0.15,
          "yref": "paper"
         },
         {
          "font": {
           "color": "black",
           "size": 14
          },
          "showarrow": false,
          "text": "Actual label",
          "textangle": -90,
          "x": -0.15,
          "xref": "paper",
          "y": 0.5,
          "yref": "paper"
         }
        ],
        "margin": {
         "b": 50,
         "l": 120,
         "r": 20,
         "t": 80
        },
        "template": {
         "data": {
          "bar": [
           {
            "error_x": {
             "color": "#2a3f5f"
            },
            "error_y": {
             "color": "#2a3f5f"
            },
            "marker": {
             "line": {
              "color": "white",
              "width": 0.5
             },
             "pattern": {
              "fillmode": "overlay",
              "size": 10,
              "solidity": 0.2
             }
            },
            "type": "bar"
           }
          ],
          "barpolar": [
           {
            "marker": {
             "line": {
              "color": "white",
              "width": 0.5
             },
             "pattern": {
              "fillmode": "overlay",
              "size": 10,
              "solidity": 0.2
             }
            },
            "type": "barpolar"
           }
          ],
          "box": [
           {
            "boxpoints": "outliers",
            "notched": false,
            "type": "box"
           }
          ],
          "carpet": [
           {
            "aaxis": {
             "endlinecolor": "#2a3f5f",
             "gridcolor": "#C8D4E3",
             "linecolor": "#C8D4E3",
             "minorgridcolor": "#C8D4E3",
             "startlinecolor": "#2a3f5f"
            },
            "baxis": {
             "endlinecolor": "#2a3f5f",
             "gridcolor": "#C8D4E3",
             "linecolor": "#C8D4E3",
             "minorgridcolor": "#C8D4E3",
             "startlinecolor": "#2a3f5f"
            },
            "type": "carpet"
           }
          ],
          "choropleth": [
           {
            "colorbar": {
             "outlinewidth": 0,
             "ticks": ""
            },
            "type": "choropleth"
           }
          ],
          "contour": [
           {
            "colorbar": {
             "outlinewidth": 0,
             "ticks": ""
            },
            "colorscale": [
             [
              0,
              "#0d0887"
             ],
             [
              0.1111111111111111,
              "#46039f"
             ],
             [
              0.2222222222222222,
              "#7201a8"
             ],
             [
              0.3333333333333333,
              "#9c179e"
             ],
             [
              0.4444444444444444,
              "#bd3786"
             ],
             [
              0.5555555555555556,
              "#d8576b"
             ],
             [
              0.6666666666666666,
              "#ed7953"
             ],
             [
              0.7777777777777778,
              "#fb9f3a"
             ],
             [
              0.8888888888888888,
              "#fdca26"
             ],
             [
              1,
              "#f0f921"
             ]
            ],
            "type": "contour"
           }
          ],
          "contourcarpet": [
           {
            "colorbar": {
             "outlinewidth": 0,
             "ticks": ""
            },
            "type": "contourcarpet"
           }
          ],
          "heatmap": [
           {
            "colorbar": {
             "outlinewidth": 0,
             "ticks": ""
            },
            "colorscale": [
             [
              0,
              "#0d0887"
             ],
             [
              0.1111111111111111,
              "#46039f"
             ],
             [
              0.2222222222222222,
              "#7201a8"
             ],
             [
              0.3333333333333333,
              "#9c179e"
             ],
             [
              0.4444444444444444,
              "#bd3786"
             ],
             [
              0.5555555555555556,
              "#d8576b"
             ],
             [
              0.6666666666666666,
              "#ed7953"
             ],
             [
              0.7777777777777778,
              "#fb9f3a"
             ],
             [
              0.8888888888888888,
              "#fdca26"
             ],
             [
              1,
              "#f0f921"
             ]
            ],
            "type": "heatmap"
           }
          ],
          "heatmapgl": [
           {
            "colorbar": {
             "outlinewidth": 0,
             "ticks": ""
            },
            "colorscale": [
             [
              0,
              "#0d0887"
             ],
             [
              0.1111111111111111,
              "#46039f"
             ],
             [
              0.2222222222222222,
              "#7201a8"
             ],
             [
              0.3333333333333333,
              "#9c179e"
             ],
             [
              0.4444444444444444,
              "#bd3786"
             ],
             [
              0.5555555555555556,
              "#d8576b"
             ],
             [
              0.6666666666666666,
              "#ed7953"
             ],
             [
              0.7777777777777778,
              "#fb9f3a"
             ],
             [
              0.8888888888888888,
              "#fdca26"
             ],
             [
              1,
              "#f0f921"
             ]
            ],
            "type": "heatmapgl"
           }
          ],
          "histogram": [
           {
            "marker": {
             "line": {
              "width": 1
             },
             "pattern": {
              "fillmode": "overlay",
              "size": 10,
              "solidity": 0.2
             }
            },
            "type": "histogram"
           }
          ],
          "histogram2d": [
           {
            "colorbar": {
             "outlinewidth": 0,
             "ticks": ""
            },
            "colorscale": [
             [
              0,
              "#0d0887"
             ],
             [
              0.1111111111111111,
              "#46039f"
             ],
             [
              0.2222222222222222,
              "#7201a8"
             ],
             [
              0.3333333333333333,
              "#9c179e"
             ],
             [
              0.4444444444444444,
              "#bd3786"
             ],
             [
              0.5555555555555556,
              "#d8576b"
             ],
             [
              0.6666666666666666,
              "#ed7953"
             ],
             [
              0.7777777777777778,
              "#fb9f3a"
             ],
             [
              0.8888888888888888,
              "#fdca26"
             ],
             [
              1,
              "#f0f921"
             ]
            ],
            "type": "histogram2d"
           }
          ],
          "histogram2dcontour": [
           {
            "colorbar": {
             "outlinewidth": 0,
             "ticks": ""
            },
            "colorscale": [
             [
              0,
              "#0d0887"
             ],
             [
              0.1111111111111111,
              "#46039f"
             ],
             [
              0.2222222222222222,
              "#7201a8"
             ],
             [
              0.3333333333333333,
              "#9c179e"
             ],
             [
              0.4444444444444444,
              "#bd3786"
             ],
             [
              0.5555555555555556,
              "#d8576b"
             ],
             [
              0.6666666666666666,
              "#ed7953"
             ],
             [
              0.7777777777777778,
              "#fb9f3a"
             ],
             [
              0.8888888888888888,
              "#fdca26"
             ],
             [
              1,
              "#f0f921"
             ]
            ],
            "type": "histogram2dcontour"
           }
          ],
          "mesh3d": [
           {
            "colorbar": {
             "outlinewidth": 0,
             "ticks": ""
            },
            "type": "mesh3d"
           }
          ],
          "parcoords": [
           {
            "line": {
             "colorbar": {
              "outlinewidth": 0,
              "ticks": ""
             }
            },
            "type": "parcoords"
           }
          ],
          "pie": [
           {
            "automargin": true,
            "type": "pie"
           }
          ],
          "scatter": [
           {
            "fillpattern": {
             "fillmode": "overlay",
             "size": 10,
             "solidity": 0.2
            },
            "marker": {
             "opacity": 0.8
            },
            "type": "scatter"
           }
          ],
          "scatter3d": [
           {
            "line": {
             "colorbar": {
              "outlinewidth": 0,
              "ticks": ""
             }
            },
            "marker": {
             "colorbar": {
              "outlinewidth": 0,
              "ticks": ""
             },
             "opacity": 0.8
            },
            "type": "scatter3d"
           }
          ],
          "scattercarpet": [
           {
            "marker": {
             "colorbar": {
              "outlinewidth": 0,
              "ticks": ""
             }
            },
            "type": "scattercarpet"
           }
          ],
          "scattergeo": [
           {
            "marker": {
             "colorbar": {
              "outlinewidth": 0,
              "ticks": ""
             }
            },
            "type": "scattergeo"
           }
          ],
          "scattergl": [
           {
            "marker": {
             "colorbar": {
              "outlinewidth": 0,
              "ticks": ""
             }
            },
            "type": "scattergl"
           }
          ],
          "scattermapbox": [
           {
            "marker": {
             "colorbar": {
              "outlinewidth": 0,
              "ticks": ""
             }
            },
            "type": "scattermapbox"
           }
          ],
          "scatterpolar": [
           {
            "marker": {
             "colorbar": {
              "outlinewidth": 0,
              "ticks": ""
             }
            },
            "type": "scatterpolar"
           }
          ],
          "scatterpolargl": [
           {
            "marker": {
             "colorbar": {
              "outlinewidth": 0,
              "ticks": ""
             }
            },
            "type": "scatterpolargl"
           }
          ],
          "scatterternary": [
           {
            "marker": {
             "colorbar": {
              "outlinewidth": 0,
              "ticks": ""
             }
            },
            "type": "scatterternary"
           }
          ],
          "surface": [
           {
            "colorbar": {
             "outlinewidth": 0,
             "ticks": ""
            },
            "colorscale": [
             [
              0,
              "#0d0887"
             ],
             [
              0.1111111111111111,
              "#46039f"
             ],
             [
              0.2222222222222222,
              "#7201a8"
             ],
             [
              0.3333333333333333,
              "#9c179e"
             ],
             [
              0.4444444444444444,
              "#bd3786"
             ],
             [
              0.5555555555555556,
              "#d8576b"
             ],
             [
              0.6666666666666666,
              "#ed7953"
             ],
             [
              0.7777777777777778,
              "#fb9f3a"
             ],
             [
              0.8888888888888888,
              "#fdca26"
             ],
             [
              1,
              "#f0f921"
             ]
            ],
            "type": "surface"
           }
          ],
          "table": [
           {
            "cells": {
             "fill": {
              "color": "#EBF0F8"
             },
             "line": {
              "color": "white"
             }
            },
            "header": {
             "fill": {
              "color": "#C8D4E3"
             },
             "line": {
              "color": "white"
             }
            },
            "type": "table"
           }
          ]
         },
         "layout": {
          "annotationdefaults": {
           "arrowcolor": "#2a3f5f",
           "arrowhead": 0,
           "arrowwidth": 1
          },
          "autotypenumbers": "strict",
          "coloraxis": {
           "colorbar": {
            "outlinewidth": 0,
            "ticks": ""
           }
          },
          "colorscale": {
           "diverging": [
            [
             0,
             "#8e0152"
            ],
            [
             0.1,
             "#c51b7d"
            ],
            [
             0.2,
             "#de77ae"
            ],
            [
             0.3,
             "#f1b6da"
            ],
            [
             0.4,
             "#fde0ef"
            ],
            [
             0.5,
             "#f7f7f7"
            ],
            [
             0.6,
             "#e6f5d0"
            ],
            [
             0.7,
             "#b8e186"
            ],
            [
             0.8,
             "#7fbc41"
            ],
            [
             0.9,
             "#4d9221"
            ],
            [
             1,
             "#276419"
            ]
           ],
           "sequential": [
            [
             0,
             "#0d0887"
            ],
            [
             0.1111111111111111,
             "#46039f"
            ],
            [
             0.2222222222222222,
             "#7201a8"
            ],
            [
             0.3333333333333333,
             "#9c179e"
            ],
            [
             0.4444444444444444,
             "#bd3786"
            ],
            [
             0.5555555555555556,
             "#d8576b"
            ],
            [
             0.6666666666666666,
             "#ed7953"
            ],
            [
             0.7777777777777778,
             "#fb9f3a"
            ],
            [
             0.8888888888888888,
             "#fdca26"
            ],
            [
             1,
             "#f0f921"
            ]
           ],
           "sequentialminus": [
            [
             0,
             "#0d0887"
            ],
            [
             0.1111111111111111,
             "#46039f"
            ],
            [
             0.2222222222222222,
             "#7201a8"
            ],
            [
             0.3333333333333333,
             "#9c179e"
            ],
            [
             0.4444444444444444,
             "#bd3786"
            ],
            [
             0.5555555555555556,
             "#d8576b"
            ],
            [
             0.6666666666666666,
             "#ed7953"
            ],
            [
             0.7777777777777778,
             "#fb9f3a"
            ],
            [
             0.8888888888888888,
             "#fdca26"
            ],
            [
             1,
             "#f0f921"
            ]
           ]
          },
          "colorway": [
           "#636efa",
           "#EF553B",
           "#00cc96",
           "#ab63fa",
           "#FFA15A",
           "#19d3f3",
           "#FF6692",
           "#B6E880",
           "#FF97FF",
           "#FECB52"
          ],
          "font": {
           "color": "#2a3f5f"
          },
          "geo": {
           "bgcolor": "white",
           "lakecolor": "white",
           "landcolor": "white",
           "showlakes": true,
           "showland": true,
           "subunitcolor": "#C8D4E3"
          },
          "height": 400,
          "hoverlabel": {
           "align": "left"
          },
          "hovermode": "closest",
          "mapbox": {
           "style": "light"
          },
          "margin": {
           "b": 2,
           "l": 2,
           "r": 2,
           "t": 30
          },
          "paper_bgcolor": "white",
          "plot_bgcolor": "white",
          "polar": {
           "angularaxis": {
            "gridcolor": "#EBF0F8",
            "linecolor": "#EBF0F8",
            "ticks": ""
           },
           "bgcolor": "white",
           "radialaxis": {
            "gridcolor": "#EBF0F8",
            "linecolor": "#EBF0F8",
            "ticks": ""
           }
          },
          "scene": {
           "camera": {
            "eye": {
             "x": 1.5,
             "y": 1.5,
             "z": 0.1
            }
           },
           "xaxis": {
            "backgroundcolor": "white",
            "gridcolor": "#DFE8F3",
            "gridwidth": 2,
            "linecolor": "#EBF0F8",
            "showbackground": true,
            "ticks": "",
            "zerolinecolor": "#EBF0F8"
           },
           "yaxis": {
            "backgroundcolor": "white",
            "gridcolor": "#DFE8F3",
            "gridwidth": 2,
            "linecolor": "#EBF0F8",
            "showbackground": true,
            "ticks": "",
            "zerolinecolor": "#EBF0F8"
           },
           "zaxis": {
            "backgroundcolor": "white",
            "gridcolor": "#DFE8F3",
            "gridwidth": 2,
            "linecolor": "#EBF0F8",
            "showbackground": true,
            "ticks": "",
            "zerolinecolor": "#EBF0F8"
           }
          },
          "shapedefaults": {
           "line": {
            "color": "#2a3f5f"
           }
          },
          "ternary": {
           "aaxis": {
            "gridcolor": "#DFE8F3",
            "linecolor": "#A2B1C6",
            "ticks": ""
           },
           "baxis": {
            "gridcolor": "#DFE8F3",
            "linecolor": "#A2B1C6",
            "ticks": ""
           },
           "bgcolor": "white",
           "caxis": {
            "gridcolor": "#DFE8F3",
            "linecolor": "#A2B1C6",
            "ticks": ""
           }
          },
          "title": {
           "x": 0.5
          },
          "xaxis": {
           "automargin": true,
           "gridcolor": "#EBF0F8",
           "linecolor": "#EBF0F8",
           "linewidth": 2,
           "showline": true,
           "ticks": "",
           "title": {
            "standoff": 15
           },
           "zerolinecolor": "#EBF0F8",
           "zerolinewidth": 2
          },
          "yaxis": {
           "automargin": true,
           "gridcolor": "#EBF0F8",
           "linecolor": "#EBF0F8",
           "linewidth": 2,
           "showline": true,
           "ticks": "",
           "title": {
            "standoff": 15
           },
           "zerolinecolor": "#EBF0F8",
           "zerolinewidth": 2
          }
         }
        },
        "title": {
         "text": "<b>Confusion matrix</b>"
        },
        "xaxis": {
         "dtick": 1,
         "gridcolor": "rgb(0, 0, 0)",
         "side": "top",
         "ticks": ""
        },
        "yaxis": {
         "categoryorder": "category descending",
         "dtick": 1,
         "ticks": "",
         "ticksuffix": "  "
        }
       }
      }
     },
     "metadata": {},
     "output_type": "display_data"
    }
   ],
   "source": [
    "# Plot the matrix above as a heatmap with annotations (values) in its cells\n",
    "fig = ff.create_annotated_heatmap(cm, x, y)\n",
    "\n",
    "# Set titles and ordering\n",
    "fig.update_layout(  title_text=\"<b>Confusion matrix</b>\", \n",
    "                    yaxis = dict(categoryorder = \"category descending\")\n",
    "                    )\n",
    "\n",
    "fig.add_annotation(dict(font=dict(color=\"black\",size=14),\n",
    "                        x=0.5,\n",
    "                        y=-0.15,\n",
    "                        showarrow=False,\n",
    "                        text=\"Predicted label\",\n",
    "                        xref=\"paper\",\n",
    "                        yref=\"paper\"))\n",
    "\n",
    "fig.add_annotation(dict(font=dict(color=\"black\",size=14),\n",
    "                        x=-0.15,\n",
    "                        y=0.5,\n",
    "                        showarrow=False,\n",
    "                        text=\"Actual label\",\n",
    "                        textangle=-90,\n",
    "                        xref=\"paper\",\n",
    "                        yref=\"paper\"))\n",
    "\n",
    "# We need margins so the titles fit\n",
    "fig.update_layout(margin=dict(t=80, r=20, l=120, b=50))\n",
    "fig['data'][0]['showscale'] = True\n",
    "fig.show()"
   ]
  },
  {
   "attachments": {},
   "cell_type": "markdown",
   "metadata": {},
   "source": [
    "Aunque los resultados puedan parecer un poco decepcionantes, ahora tenemos un 21% de predicciones erróneas (FNs + FPs), frente al 25% del experimento anterior.\n",
    "\n",
    "Las predicciones correctas (TP + TN) han pasado del 74,7% al 78,7%.\n",
    "\n",
    "¿Es significativa o no una mejora de alrededor del 4%?\n",
    "\n",
    "Recordemos que disponíamos de relativamente pocos datos para entrenar el modelo, y que las características de que disponemos pueden seguir siendo tan similares para muestras diferentes (por ejemplo, los excursionistas y los animales tienden a ser pequeños, no rugosos y a moverse mucho), que a pesar de nuestros esfuerzos, el modelo sigue teniendo algunas dificultades para hacer predicciones correctas.\n",
    "\n",
    "Sólo hemos tenido que cambiar una línea de código para obtener mejores resultados, ¡así que parece que el esfuerzo ha merecido la pena!\n",
    "\n",
    "Resumen\n",
    "Este ha sido un ejercicio largo, en el que hemos tratado los siguientes temas:\n",
    "\n",
    "Creación de nuevos campos de etiqueta para poder realizar una clasificación binaria utilizando un conjunto de datos con múltiples clases.\n",
    "Cómo el entrenamiento en conjuntos desequilibrados puede tener un efecto negativo en el rendimiento, especialmente cuando se utilizan datos no vistos de conjuntos de datos equilibrados.\n",
    "Evaluación de los resultados de los modelos de clasificación binaria mediante una matriz de confusión.\n",
    "Utilización de clases ponderadas para abordar los desequilibrios de clase al entrenar un modelo y evaluar los resultados."
   ]
  }
 ],
 "metadata": {
  "kernelspec": {
   "display_name": "Python 3",
   "language": "python",
   "name": "python3"
  },
  "language_info": {
   "codemirror_mode": {
    "name": "ipython",
    "version": 3
   },
   "file_extension": ".py",
   "mimetype": "text/x-python",
   "name": "python",
   "nbconvert_exporter": "python",
   "pygments_lexer": "ipython3",
   "version": "3.10.6"
  },
  "orig_nbformat": 4
 },
 "nbformat": 4,
 "nbformat_minor": 2
}
