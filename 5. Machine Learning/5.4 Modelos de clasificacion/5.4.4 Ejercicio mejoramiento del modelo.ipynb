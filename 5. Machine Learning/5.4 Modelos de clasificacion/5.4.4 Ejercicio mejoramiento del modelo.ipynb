{
 "cells": [
  {
   "attachments": {},
   "cell_type": "markdown",
   "metadata": {},
   "source": [
    "# Ejercicio: Mejorar un modelo de regresión logística\n",
    "En el ejercicio anterior, ajustamos un modelo de regresión logística simple para predecir la probabilidad de una avalancha. Esta vez, mejoraremos su rendimiento utilizando múltiples características de forma inteligente.\n",
    "\n",
    "## Visualización de datos\n",
    "Vamos a cargar nuestros datos."
   ]
  },
  {
   "cell_type": "code",
   "execution_count": null,
   "metadata": {},
   "outputs": [],
   "source": [
    "!pip install statsmodels"
   ]
  },
  {
   "cell_type": "code",
   "execution_count": 1,
   "metadata": {},
   "outputs": [
    {
     "name": "stderr",
     "output_type": "stream",
     "text": [
      "\"wget\" no se reconoce como un comando interno o externo,\n",
      "programa o archivo por lotes ejecutable.\n",
      "\"wget\" no se reconoce como un comando interno o externo,\n",
      "programa o archivo por lotes ejecutable.\n"
     ]
    },
    {
     "name": "stdout",
     "output_type": "stream",
     "text": [
      "Train size: 821\n",
      "Test size: 274\n",
      "     avalanche  no_visitors  surface_hoar  fresh_thickness  wind  weak_layers  \\\n",
      "176          0            9      5.142447         9.877195     6            8   \n",
      "114          1            3      8.170281         9.136835    34            7   \n",
      "869          0            3      1.979579         9.497017    10            8   \n",
      "775          1            0      1.999078         9.337908    21            6   \n",
      "181          1            9      6.854401         6.099359    22            5   \n",
      "\n",
      "     tracked_out  \n",
      "176            1  \n",
      "114            0  \n",
      "869            0  \n",
      "775            0  \n",
      "181            0  \n"
     ]
    }
   ],
   "source": [
    "import pandas\n",
    "\n",
    "!wget https://raw.githubusercontent.com/MicrosoftDocs/mslearn-introduction-to-machine-learning/main/graphing.py\n",
    "!wget https://raw.githubusercontent.com/MicrosoftDocs/mslearn-introduction-to-machine-learning/main/Data/avalanche.csv\n",
    "import graphing # custom graphing code. See our GitHub repo for details\n",
    "\n",
    "#Import the data from the .csv file\n",
    "dataset = pandas.read_csv('avalanche.csv', delimiter=\"\\t\", index_col=0)\n",
    "\n",
    "# Split our data into training and test\n",
    "import sklearn.model_selection\n",
    "train, test = sklearn.model_selection.train_test_split(dataset, test_size=0.25, random_state=10)\n",
    "\n",
    "print(\"Train size:\", train.shape[0])\n",
    "print(\"Test size:\", test.shape[0])\n",
    "\n",
    "#Let's have a look at the data\n",
    "print(train.head())"
   ]
  },
  {
   "attachments": {},
   "cell_type": "markdown",
   "metadata": {},
   "source": [
    "Disponemos de numerosas funciones:\n",
    "\n",
    "+ surface_hoar es lo alterada que está la superficie de la nieve \n",
    "+ espesor_fresco es el espesor de la capa superior de nieve, o 0 si no hay nieve fresca encima\n",
    "+ viento es la velocidad máxima del viento ese día, en km/h\n",
    "+ capas_débiles es el número de capas de nieve que no están bien unidas a otras capas\n",
    "+ no_visitors es el número de excursionistas que estaban en el sendero ese día\n",
    "+ tracked_out es un 1 o un 0. Un 1 significa que la nieve ha sido muy pisoteada por los excursionistas.\n",
    "\n",
    "## Regresión logística simple\n",
    "Hagamos un modelo de regresión logística simple y evaluemos su rendimiento con precisión."
   ]
  },
  {
   "cell_type": "code",
   "execution_count": 2,
   "metadata": {},
   "outputs": [
    {
     "name": "stdout",
     "output_type": "stream",
     "text": [
      "Optimization terminated successfully.\n",
      "         Current function value: 0.616312\n",
      "         Iterations 5\n",
      "Accuracy: 0.6167883211678832\n"
     ]
    }
   ],
   "source": [
    "import sklearn\n",
    "from sklearn.metrics import accuracy_score\n",
    "import statsmodels.formula.api as smf\n",
    "\n",
    "# Perform logistic regression.\n",
    "model = smf.logit(\"avalanche ~ weak_layers\", train).fit()\n",
    "\n",
    "# Calculate accuracy\n",
    "def calculate_accuracy(model):\n",
    "    '''\n",
    "    Calculates accuracy\n",
    "    '''\n",
    "    # Make estimations and convert to categories\n",
    "    avalanche_predicted = model.predict(test) > 0.5\n",
    "\n",
    "    # Calculate what proportion were predicted correctly\n",
    "    # We can use sklearn to calculate accuracy for us\n",
    "    print(\"Accuracy:\", accuracy_score(test.avalanche, avalanche_predicted))\n",
    "\n",
    "calculate_accuracy(model)"
   ]
  },
  {
   "attachments": {},
   "cell_type": "markdown",
   "metadata": {},
   "source": [
    "Veamos cómo podemos mejorar nuestro modelo.\n",
    "## Utilizando múltiples características \n",
    "La mayoría de nuestras funciones parecen ser útiles, al menos en teoría. Probemos un modelo con todas las características que tenemos disponibles."
   ]
  },
  {
   "cell_type": "code",
   "execution_count": 3,
   "metadata": {},
   "outputs": [
    {
     "name": "stdout",
     "output_type": "stream",
     "text": [
      "Optimization terminated successfully.\n",
      "         Current function value: 0.459347\n",
      "         Iterations 7\n",
      "Accuracy: 0.7846715328467153\n"
     ]
    }
   ],
   "source": [
    "# Perform logistic regression.\n",
    "model_all_features = smf.logit(\"avalanche ~ weak_layers + surface_hoar + fresh_thickness + wind + no_visitors + tracked_out\", train).fit()\n",
    "calculate_accuracy(model_all_features)"
   ]
  },
  {
   "attachments": {},
   "cell_type": "markdown",
   "metadata": {},
   "source": [
    "Esa es una gran mejora con respecto al modelo más simple con el que hemos estado trabajando. Para entender por qué, podemos mirar la información resumida"
   ]
  },
  {
   "cell_type": "code",
   "execution_count": 4,
   "metadata": {},
   "outputs": [
    {
     "data": {
      "text/html": [
       "<table class=\"simpletable\">\n",
       "<caption>Logit Regression Results</caption>\n",
       "<tr>\n",
       "  <th>Dep. Variable:</th>       <td>avalanche</td>    <th>  No. Observations:  </th>  <td>   821</td>  \n",
       "</tr>\n",
       "<tr>\n",
       "  <th>Model:</th>                 <td>Logit</td>      <th>  Df Residuals:      </th>  <td>   814</td>  \n",
       "</tr>\n",
       "<tr>\n",
       "  <th>Method:</th>                 <td>MLE</td>       <th>  Df Model:          </th>  <td>     6</td>  \n",
       "</tr>\n",
       "<tr>\n",
       "  <th>Date:</th>            <td>Sat, 25 Mar 2023</td> <th>  Pseudo R-squ.:     </th>  <td>0.3305</td>  \n",
       "</tr>\n",
       "<tr>\n",
       "  <th>Time:</th>                <td>13:06:02</td>     <th>  Log-Likelihood:    </th> <td> -377.12</td> \n",
       "</tr>\n",
       "<tr>\n",
       "  <th>converged:</th>             <td>True</td>       <th>  LL-Null:           </th> <td> -563.33</td> \n",
       "</tr>\n",
       "<tr>\n",
       "  <th>Covariance Type:</th>     <td>nonrobust</td>    <th>  LLR p-value:       </th> <td>2.372e-77</td>\n",
       "</tr>\n",
       "</table>\n",
       "<table class=\"simpletable\">\n",
       "<tr>\n",
       "         <td></td>            <th>coef</th>     <th>std err</th>      <th>z</th>      <th>P>|z|</th>  <th>[0.025</th>    <th>0.975]</th>  \n",
       "</tr>\n",
       "<tr>\n",
       "  <th>Intercept</th>       <td>   -4.0107</td> <td>    0.443</td> <td>   -9.043</td> <td> 0.000</td> <td>   -4.880</td> <td>   -3.141</td>\n",
       "</tr>\n",
       "<tr>\n",
       "  <th>weak_layers</th>     <td>    0.3733</td> <td>    0.034</td> <td>   10.871</td> <td> 0.000</td> <td>    0.306</td> <td>    0.441</td>\n",
       "</tr>\n",
       "<tr>\n",
       "  <th>surface_hoar</th>    <td>    0.3306</td> <td>    0.035</td> <td>    9.424</td> <td> 0.000</td> <td>    0.262</td> <td>    0.399</td>\n",
       "</tr>\n",
       "<tr>\n",
       "  <th>fresh_thickness</th> <td>   -0.0220</td> <td>    0.030</td> <td>   -0.732</td> <td> 0.464</td> <td>   -0.081</td> <td>    0.037</td>\n",
       "</tr>\n",
       "<tr>\n",
       "  <th>wind</th>            <td>    0.1009</td> <td>    0.009</td> <td>   11.149</td> <td> 0.000</td> <td>    0.083</td> <td>    0.119</td>\n",
       "</tr>\n",
       "<tr>\n",
       "  <th>no_visitors</th>     <td>   -0.1060</td> <td>    0.032</td> <td>   -3.262</td> <td> 0.001</td> <td>   -0.170</td> <td>   -0.042</td>\n",
       "</tr>\n",
       "<tr>\n",
       "  <th>tracked_out</th>     <td>   -0.0664</td> <td>    0.181</td> <td>   -0.367</td> <td> 0.713</td> <td>   -0.420</td> <td>    0.288</td>\n",
       "</tr>\n",
       "</table>"
      ],
      "text/plain": [
       "<class 'statsmodels.iolib.summary.Summary'>\n",
       "\"\"\"\n",
       "                           Logit Regression Results                           \n",
       "==============================================================================\n",
       "Dep. Variable:              avalanche   No. Observations:                  821\n",
       "Model:                          Logit   Df Residuals:                      814\n",
       "Method:                           MLE   Df Model:                            6\n",
       "Date:                Sat, 25 Mar 2023   Pseudo R-squ.:                  0.3305\n",
       "Time:                        13:06:02   Log-Likelihood:                -377.12\n",
       "converged:                       True   LL-Null:                       -563.33\n",
       "Covariance Type:            nonrobust   LLR p-value:                 2.372e-77\n",
       "===================================================================================\n",
       "                      coef    std err          z      P>|z|      [0.025      0.975]\n",
       "-----------------------------------------------------------------------------------\n",
       "Intercept          -4.0107      0.443     -9.043      0.000      -4.880      -3.141\n",
       "weak_layers         0.3733      0.034     10.871      0.000       0.306       0.441\n",
       "surface_hoar        0.3306      0.035      9.424      0.000       0.262       0.399\n",
       "fresh_thickness    -0.0220      0.030     -0.732      0.464      -0.081       0.037\n",
       "wind                0.1009      0.009     11.149      0.000       0.083       0.119\n",
       "no_visitors        -0.1060      0.032     -3.262      0.001      -0.170      -0.042\n",
       "tracked_out        -0.0664      0.181     -0.367      0.713      -0.420       0.288\n",
       "===================================================================================\n",
       "\"\"\""
      ]
     },
     "execution_count": 4,
     "metadata": {},
     "output_type": "execute_result"
    }
   ],
   "source": [
    "model_all_features.summary()"
   ]
  },
  {
   "attachments": {},
   "cell_type": "markdown",
   "metadata": {},
   "source": [
    "Echa un vistazo a la columna P, recordando que los valores inferiores a 0,05 significan que podemos confiar en que este parámetro está ayudando al modelo a hacer mejores predicciones.\n",
    "\n",
    "Tanto surface_hoar como wind tienen valores muy pequeños aquí, lo que significa que son predictores útiles y probablemente explican por qué nuestro modelo funciona mejor. Si nos fijamos en la columna coef (que indica los parámetros) vemos que tienen valores positivos. Esto significa que los vientos más fuertes y la mayor cantidad de hielo en superficie aumentan el riesgo de aludes.\n",
    "\n",
    "## Simplificando nuestro modelo\n",
    "Si volvemos a mirar el resumen, vemos que tracked_out (el grado de pisado de la nieve) y fresh_thickness tienen valores p elevados. Esto significa que no son predictores útiles. Veamos qué ocurre si los eliminamos de nuestro modelo:"
   ]
  },
  {
   "cell_type": "code",
   "execution_count": 5,
   "metadata": {},
   "outputs": [
    {
     "name": "stdout",
     "output_type": "stream",
     "text": [
      "Optimization terminated successfully.\n",
      "         Current function value: 0.459760\n",
      "         Iterations 7\n",
      "Accuracy: 0.781021897810219\n"
     ]
    }
   ],
   "source": [
    "# Perform logistic regression.\n",
    "model_simplified = smf.logit(\"avalanche ~ weak_layers + surface_hoar + wind + no_visitors\", train).fit()\n",
    "calculate_accuracy(model_simplified)"
   ]
  },
  {
   "attachments": {},
   "cell_type": "markdown",
   "metadata": {},
   "source": [
    "Nuestro nuevo modelo funciona de forma muy similar al anterior. En algunas circunstancias, simplificar un modelo de este tipo puede incluso mejorarlo, ya que es menos probable que se ajuste en exceso.\n",
    "\n",
    "## Selección cuidadosa de las características\n",
    "Normalmente, no elegimos las características a ciegas. Pensemos en lo que acabamos de hacer: hemos eliminado la cantidad de nieve fresca de un modelo que trataba de predecir avalanchas. Algo parece fuera de lugar. ¿Seguramente las avalanchas son mucho más probables después de que ha nevado? Del mismo modo, el número de personas en la pista no parece estar relacionado con el número de avalanchas, pero sabemos que las personas a menudo pueden desencadenar avalanchas.\n",
    "\n",
    "Repasemos de nuevo nuestro modelo anterior:"
   ]
  },
  {
   "cell_type": "code",
   "execution_count": 6,
   "metadata": {},
   "outputs": [
    {
     "data": {
      "text/html": [
       "<table class=\"simpletable\">\n",
       "<caption>Logit Regression Results</caption>\n",
       "<tr>\n",
       "  <th>Dep. Variable:</th>       <td>avalanche</td>    <th>  No. Observations:  </th>  <td>   821</td>  \n",
       "</tr>\n",
       "<tr>\n",
       "  <th>Model:</th>                 <td>Logit</td>      <th>  Df Residuals:      </th>  <td>   814</td>  \n",
       "</tr>\n",
       "<tr>\n",
       "  <th>Method:</th>                 <td>MLE</td>       <th>  Df Model:          </th>  <td>     6</td>  \n",
       "</tr>\n",
       "<tr>\n",
       "  <th>Date:</th>            <td>Sat, 25 Mar 2023</td> <th>  Pseudo R-squ.:     </th>  <td>0.3305</td>  \n",
       "</tr>\n",
       "<tr>\n",
       "  <th>Time:</th>                <td>13:07:29</td>     <th>  Log-Likelihood:    </th> <td> -377.12</td> \n",
       "</tr>\n",
       "<tr>\n",
       "  <th>converged:</th>             <td>True</td>       <th>  LL-Null:           </th> <td> -563.33</td> \n",
       "</tr>\n",
       "<tr>\n",
       "  <th>Covariance Type:</th>     <td>nonrobust</td>    <th>  LLR p-value:       </th> <td>2.372e-77</td>\n",
       "</tr>\n",
       "</table>\n",
       "<table class=\"simpletable\">\n",
       "<tr>\n",
       "         <td></td>            <th>coef</th>     <th>std err</th>      <th>z</th>      <th>P>|z|</th>  <th>[0.025</th>    <th>0.975]</th>  \n",
       "</tr>\n",
       "<tr>\n",
       "  <th>Intercept</th>       <td>   -4.0107</td> <td>    0.443</td> <td>   -9.043</td> <td> 0.000</td> <td>   -4.880</td> <td>   -3.141</td>\n",
       "</tr>\n",
       "<tr>\n",
       "  <th>weak_layers</th>     <td>    0.3733</td> <td>    0.034</td> <td>   10.871</td> <td> 0.000</td> <td>    0.306</td> <td>    0.441</td>\n",
       "</tr>\n",
       "<tr>\n",
       "  <th>surface_hoar</th>    <td>    0.3306</td> <td>    0.035</td> <td>    9.424</td> <td> 0.000</td> <td>    0.262</td> <td>    0.399</td>\n",
       "</tr>\n",
       "<tr>\n",
       "  <th>fresh_thickness</th> <td>   -0.0220</td> <td>    0.030</td> <td>   -0.732</td> <td> 0.464</td> <td>   -0.081</td> <td>    0.037</td>\n",
       "</tr>\n",
       "<tr>\n",
       "  <th>wind</th>            <td>    0.1009</td> <td>    0.009</td> <td>   11.149</td> <td> 0.000</td> <td>    0.083</td> <td>    0.119</td>\n",
       "</tr>\n",
       "<tr>\n",
       "  <th>no_visitors</th>     <td>   -0.1060</td> <td>    0.032</td> <td>   -3.262</td> <td> 0.001</td> <td>   -0.170</td> <td>   -0.042</td>\n",
       "</tr>\n",
       "<tr>\n",
       "  <th>tracked_out</th>     <td>   -0.0664</td> <td>    0.181</td> <td>   -0.367</td> <td> 0.713</td> <td>   -0.420</td> <td>    0.288</td>\n",
       "</tr>\n",
       "</table>"
      ],
      "text/plain": [
       "<class 'statsmodels.iolib.summary.Summary'>\n",
       "\"\"\"\n",
       "                           Logit Regression Results                           \n",
       "==============================================================================\n",
       "Dep. Variable:              avalanche   No. Observations:                  821\n",
       "Model:                          Logit   Df Residuals:                      814\n",
       "Method:                           MLE   Df Model:                            6\n",
       "Date:                Sat, 25 Mar 2023   Pseudo R-squ.:                  0.3305\n",
       "Time:                        13:07:29   Log-Likelihood:                -377.12\n",
       "converged:                       True   LL-Null:                       -563.33\n",
       "Covariance Type:            nonrobust   LLR p-value:                 2.372e-77\n",
       "===================================================================================\n",
       "                      coef    std err          z      P>|z|      [0.025      0.975]\n",
       "-----------------------------------------------------------------------------------\n",
       "Intercept          -4.0107      0.443     -9.043      0.000      -4.880      -3.141\n",
       "weak_layers         0.3733      0.034     10.871      0.000       0.306       0.441\n",
       "surface_hoar        0.3306      0.035      9.424      0.000       0.262       0.399\n",
       "fresh_thickness    -0.0220      0.030     -0.732      0.464      -0.081       0.037\n",
       "wind                0.1009      0.009     11.149      0.000       0.083       0.119\n",
       "no_visitors        -0.1060      0.032     -3.262      0.001      -0.170      -0.042\n",
       "tracked_out        -0.0664      0.181     -0.367      0.713      -0.420       0.288\n",
       "===================================================================================\n",
       "\"\"\""
      ]
     },
     "execution_count": 6,
     "metadata": {},
     "output_type": "execute_result"
    }
   ],
   "source": [
    "model_all_features.summary()"
   ]
  },
  {
   "attachments": {},
   "cell_type": "markdown",
   "metadata": {},
   "source": [
    "Mira la fila fresh_thickness. Nos dice que tiene un coeficiente negativo. Esto significa que a medida que aumenta el espesor, disminuyen las avalanchas.\n",
    "\n",
    "Del mismo modo, no_visitors tiene un coeficiente negativo, lo que significa que menos excursionistas significan más avalanchas.\n",
    "\n",
    "¿Cómo puede ser esto? Bueno, mientras que los visitantes pueden provocar aludes si hay mucha nieve fresca, presumiblemente no pueden hacerlo fácilmente si no hay nieve fresca. Esto significa que nuestras características no son totalmente independientes.\n",
    "\n",
    "Podemos decirle al modelo que intente tener en cuenta que estas características interactúan, utilizando un signo multiplicador. Intentémoslo ahora."
   ]
  },
  {
   "cell_type": "code",
   "execution_count": 7,
   "metadata": {},
   "outputs": [
    {
     "name": "stdout",
     "output_type": "stream",
     "text": [
      "Optimization terminated successfully.\n",
      "         Current function value: 0.413538\n",
      "         Iterations 7\n",
      "Accuracy: 0.8357664233576643\n"
     ]
    }
   ],
   "source": [
    "# Create a model with an interaction. Notice the end of the string where\n",
    "# we've a multiply sign between no_visitors and fresh_thickness\n",
    "formula = \"avalanche ~ weak_layers + surface_hoar + wind + no_visitors * fresh_thickness\"\n",
    "model_with_interaction = smf.logit(formula, train).fit()\n",
    "calculate_accuracy(model_with_interaction)"
   ]
  },
  {
   "attachments": {},
   "cell_type": "markdown",
   "metadata": {},
   "source": [
    "¡El modelo ha mejorado hasta un 84 % de precisión! Veamos la información resumida:"
   ]
  },
  {
   "cell_type": "code",
   "execution_count": 8,
   "metadata": {},
   "outputs": [
    {
     "data": {
      "text/html": [
       "<table class=\"simpletable\">\n",
       "<caption>Logit Regression Results</caption>\n",
       "<tr>\n",
       "  <th>Dep. Variable:</th>       <td>avalanche</td>    <th>  No. Observations:  </th>  <td>   821</td>  \n",
       "</tr>\n",
       "<tr>\n",
       "  <th>Model:</th>                 <td>Logit</td>      <th>  Df Residuals:      </th>  <td>   814</td>  \n",
       "</tr>\n",
       "<tr>\n",
       "  <th>Method:</th>                 <td>MLE</td>       <th>  Df Model:          </th>  <td>     6</td>  \n",
       "</tr>\n",
       "<tr>\n",
       "  <th>Date:</th>            <td>Sat, 25 Mar 2023</td> <th>  Pseudo R-squ.:     </th>  <td>0.3973</td>  \n",
       "</tr>\n",
       "<tr>\n",
       "  <th>Time:</th>                <td>13:08:29</td>     <th>  Log-Likelihood:    </th> <td> -339.51</td> \n",
       "</tr>\n",
       "<tr>\n",
       "  <th>converged:</th>             <td>True</td>       <th>  LL-Null:           </th> <td> -563.33</td> \n",
       "</tr>\n",
       "<tr>\n",
       "  <th>Covariance Type:</th>     <td>nonrobust</td>    <th>  LLR p-value:       </th> <td>1.587e-93</td>\n",
       "</tr>\n",
       "</table>\n",
       "<table class=\"simpletable\">\n",
       "<tr>\n",
       "               <td></td>                  <th>coef</th>     <th>std err</th>      <th>z</th>      <th>P>|z|</th>  <th>[0.025</th>    <th>0.975]</th>  \n",
       "</tr>\n",
       "<tr>\n",
       "  <th>Intercept</th>                   <td>   -0.9606</td> <td>    0.587</td> <td>   -1.636</td> <td> 0.102</td> <td>   -2.111</td> <td>    0.190</td>\n",
       "</tr>\n",
       "<tr>\n",
       "  <th>weak_layers</th>                 <td>    0.4327</td> <td>    0.039</td> <td>   11.193</td> <td> 0.000</td> <td>    0.357</td> <td>    0.508</td>\n",
       "</tr>\n",
       "<tr>\n",
       "  <th>surface_hoar</th>                <td>    0.3887</td> <td>    0.039</td> <td>   10.035</td> <td> 0.000</td> <td>    0.313</td> <td>    0.465</td>\n",
       "</tr>\n",
       "<tr>\n",
       "  <th>wind</th>                        <td>    0.1204</td> <td>    0.010</td> <td>   11.607</td> <td> 0.000</td> <td>    0.100</td> <td>    0.141</td>\n",
       "</tr>\n",
       "<tr>\n",
       "  <th>no_visitors</th>                 <td>   -0.9430</td> <td>    0.114</td> <td>   -8.237</td> <td> 0.000</td> <td>   -1.167</td> <td>   -0.719</td>\n",
       "</tr>\n",
       "<tr>\n",
       "  <th>fresh_thickness</th>             <td>   -0.4962</td> <td>    0.069</td> <td>   -7.191</td> <td> 0.000</td> <td>   -0.631</td> <td>   -0.361</td>\n",
       "</tr>\n",
       "<tr>\n",
       "  <th>no_visitors:fresh_thickness</th> <td>    0.1015</td> <td>    0.013</td> <td>    7.835</td> <td> 0.000</td> <td>    0.076</td> <td>    0.127</td>\n",
       "</tr>\n",
       "</table>"
      ],
      "text/plain": [
       "<class 'statsmodels.iolib.summary.Summary'>\n",
       "\"\"\"\n",
       "                           Logit Regression Results                           \n",
       "==============================================================================\n",
       "Dep. Variable:              avalanche   No. Observations:                  821\n",
       "Model:                          Logit   Df Residuals:                      814\n",
       "Method:                           MLE   Df Model:                            6\n",
       "Date:                Sat, 25 Mar 2023   Pseudo R-squ.:                  0.3973\n",
       "Time:                        13:08:29   Log-Likelihood:                -339.51\n",
       "converged:                       True   LL-Null:                       -563.33\n",
       "Covariance Type:            nonrobust   LLR p-value:                 1.587e-93\n",
       "===============================================================================================\n",
       "                                  coef    std err          z      P>|z|      [0.025      0.975]\n",
       "-----------------------------------------------------------------------------------------------\n",
       "Intercept                      -0.9606      0.587     -1.636      0.102      -2.111       0.190\n",
       "weak_layers                     0.4327      0.039     11.193      0.000       0.357       0.508\n",
       "surface_hoar                    0.3887      0.039     10.035      0.000       0.313       0.465\n",
       "wind                            0.1204      0.010     11.607      0.000       0.100       0.141\n",
       "no_visitors                    -0.9430      0.114     -8.237      0.000      -1.167      -0.719\n",
       "fresh_thickness                -0.4962      0.069     -7.191      0.000      -0.631      -0.361\n",
       "no_visitors:fresh_thickness     0.1015      0.013      7.835      0.000       0.076       0.127\n",
       "===============================================================================================\n",
       "\"\"\""
      ]
     },
     "execution_count": 8,
     "metadata": {},
     "output_type": "execute_result"
    }
   ],
   "source": [
    "model_with_interaction.summary()"
   ]
  },
  {
   "attachments": {},
   "cell_type": "markdown",
   "metadata": {},
   "source": [
    "Podemos ver que el término de interacción es útil: el valor p es inferior a 0,05. El modelo también funciona mejor que nuestros intentos anteriores.\n",
    "\n",
    "## Predicciones con múltiples características\n",
    "\n",
    "Muy rápidamente, vamos a explorar lo que significa esta interacción observando las predicciones del modelo. \n",
    "\n",
    "Primero graficaremos dos características independientes en 3D. Empezaremos con \"capas_débiles\" y \"viento\":"
   ]
  },
  {
   "cell_type": "code",
   "execution_count": 9,
   "metadata": {},
   "outputs": [
    {
     "name": "stdout",
     "output_type": "stream",
     "text": [
      "Creating plot...\n"
     ]
    },
    {
     "data": {
      "application/vnd.plotly.v1+json": {
       "config": {
        "plotlyServerURL": "https://plot.ly"
       },
       "data": [
        {
         "colorbar": {
          "title": {
           "text": "Probability"
          }
         },
         "type": "surface",
         "x": [
          0,
          0.5263157894736842,
          1.0526315789473684,
          1.5789473684210527,
          2.1052631578947367,
          2.631578947368421,
          3.1578947368421053,
          3.6842105263157894,
          4.2105263157894735,
          4.7368421052631575,
          5.263157894736842,
          5.789473684210526,
          6.315789473684211,
          6.842105263157895,
          7.368421052631579,
          7.894736842105263,
          8.421052631578947,
          8.947368421052632,
          9.473684210526315,
          10
         ],
         "y": [
          0,
          2.1052631578947367,
          4.2105263157894735,
          6.315789473684211,
          8.421052631578947,
          10.526315789473683,
          12.631578947368421,
          14.736842105263158,
          16.842105263157894,
          18.94736842105263,
          21.052631578947366,
          23.157894736842103,
          25.263157894736842,
          27.36842105263158,
          29.473684210526315,
          31.57894736842105,
          33.68421052631579,
          35.78947368421053,
          37.89473684210526,
          40
         ],
         "z": [
          [
           0.016645957693825056,
           0.020814840607851444,
           0.026000190304536895,
           0.03243451515124584,
           0.04039511781818846,
           0.05020815410053429,
           0.062250392880744077,
           0.07694692468937198,
           0.0947625016512064,
           0.116183740942899,
           0.141689364106046,
           0.17170638939602173,
           0.20655222561309095,
           0.24636626991052737,
           0.2910396955272615,
           0.3401574636647383,
           0.39296991307768286,
           0.448409753044775,
           0.5051621313818822,
           0.5617817957334987
          ],
          [
           0.021346250874046364,
           0.02666037995986031,
           0.033252505636058804,
           0.041405281377053585,
           0.05145055573832169,
           0.0637707726359087,
           0.07879608612711325,
           0.09699481187948697,
           0.1188544145356069,
           0.14485023834257177,
           0.17540005473580322,
           0.2108047043730048,
           0.25117895093436376,
           0.2963818573936384,
           0.34596124808260126,
           0.3991297299872237,
           0.45478751969294645,
           0.5115984217991135,
           0.5681112654228484,
           0.6229049297479146
          ],
          [
           0.02733686247835095,
           0.03409039879613441,
           0.04243958896130531,
           0.05272199409901778,
           0.06532569878550097,
           0.08068580151860118,
           0.0992739414653304,
           0.12157803313485395,
           0.1480694622664356,
           0.1791559903959386,
           0.21512099616532943,
           0.25605370392682847,
           0.30178033714576563,
           0.3518112596427829,
           0.4053216310213682,
           0.4611801546828426,
           0.518030868649149,
           0.5744185707699185,
           0.628934688154137,
           0.6803534544597575
          ],
          [
           0.03494864184455916,
           0.04349856121946091,
           0.0540230626015411,
           0.06691582893685823,
           0.0826167722888732,
           0.10160059922327563,
           0.12435525671790333,
           0.15134756941626792,
           0.1829745073928464,
           0.21950108471615476,
           0.2609900899184284,
           0.3072342118701475,
           0.3577060901897453,
           0.4115437987197174,
           0.46758558341843803,
           0.5244573448590968,
           0.5807017480046244,
           0.6349245385796636,
           0.6859277746666794,
           0.7328041649648122
          ],
          [
           0.04458272717896003,
           0.055354362536169634,
           0.06854182693460958,
           0.0845897028652512,
           0.10397549166090805,
           0.12718673524693094,
           0.1546850732641814,
           0.18685588500277078,
           0.22394491033866587,
           0.2659876173870461,
           0.3127425025115831,
           0.3636442799674186,
           0.417794377647682,
           0.4740017144933719,
           0.530875731257293,
           0.5869588642866024,
           0.6408729098191845,
           0.6914489707921981,
           0.7378162846035229,
           0.7794384064287005
          ],
          [
           0.056716502944610815,
           0.07020436258436748,
           0.0866053001890631,
           0.10639932223085999,
           0.13007310764345895,
           0.1580824659554314,
           0.19080036940203451,
           0.2284523687181846,
           0.2710457415176515,
           0.31830417394258304,
           0.36962431870940776,
           0.4240714764669751,
           0.48042644240012117,
           0.5372839193601382,
           0.5931880199809335,
           0.6467782796614667,
           0.6969159942763312,
           0.7427673886102315,
           0.7838337961072346,
           0.8199334554749752
          ],
          [
           0.0719041113552335,
           0.08866427320006463,
           0.10887279055148726,
           0.1330150007326356,
           0.16154021702806462,
           0.19480817230942857,
           0.23302330973331398,
           0.2761638635378254,
           0.3239181351413372,
           0.3756446468476768,
           0.43037317010077475,
           0.48685765027855016,
           0.5436798141289759,
           0.5993873508453097,
           0.6526391761263505,
           0.7023278525986817,
           0.7476569727396455,
           0.7881653993443136,
           0.8237043806463826,
           0.8543826343307095
          ],
          [
           0.0907673322929548,
           0.11139659159602469,
           0.13601302815798505,
           0.16505877211442135,
           0.1988794696340384,
           0.23765753631756978,
           0.281341330133439,
           0.32958323948078033,
           0.38170365683881263,
           0.4366975019886716,
           0.49329321269626075,
           0.5500613366893948,
           0.605555030123668,
           0.6584541785834418,
           0.7076836093736506,
           0.7524845854834105,
           0.7924331895614497,
           0.8274129580459251,
           0.8575574601807349,
           0.883180210148344
          ],
          [
           0.11397141485009524,
           0.13906778926737617,
           0.16863855162652044,
           0.20301440013196367,
           0.24235480336595158,
           0.2865774329487212,
           0.3352982851309855,
           0.38779969460651337,
           0.44304248642613175,
           0.49973099845301266,
           0.5564264270055197,
           0.6116892705417268,
           0.6642219187519379,
           0.7129823843392424,
           0.757249827275156,
           0.796637182648141,
           0.8310595219050164,
           0.8606743545154302,
           0.8858110901652293,
           0.9069032764599653
          ],
          [
           0.14217986797108426,
           0.17227994942751415,
           0.20721306407553233,
           0.2471148166909521,
           0.2918714081748175,
           0.3410620155767746,
           0.3939310610984769,
           0.4494061109827988,
           0.5061688734013623,
           0.5627730465020613,
           0.6177883262003093,
           0.6699410815814566,
           0.7182233532425083,
           0.7619523496275619,
           0.800777435693765,
           0.8346444358063168,
           0.8637338831971927,
           0.8883902080802186,
           0.9090549085911789,
           0.9262113037878474
          ],
          [
           0.17598333149156425,
           0.21147552193875366,
           0.25193723203254426,
           0.29722243623078226,
           0.34687312025207484,
           0.400096013955422,
           0.45578633899362314,
           0.512604703275606,
           0.5690991806271591,
           0.6238504943627533,
           0.6756104060141772,
           0.7234057476249415,
           0.7665918542059718,
           0.8048540456950107,
           0.8381680913339092,
           0.8667366287937116,
           0.8909182464449442,
           0.911161683904071,
           0.9279521440586537,
           0.9417720006578866
          ],
          [
           0.2158017931028901,
           0.2568216541266964,
           0.302629641540773,
           0.3527302352921666,
           0.40629276928949826,
           0.46218111211644225,
           0.51903635652105,
           0.5754028413493045,
           0.6298741171331825,
           0.6812286856290081,
           0.7285288545113712,
           0.7711680918430942,
           0.8088671482428634,
           0.8416309067323196,
           0.8696831894069272,
           0.8933958942473214,
           0.9132243137232933,
           0.9296550332720764,
           0.9431682550481993,
           0.9542134458753527
          ],
          [
           0.2617676358369625,
           0.3080920924110042,
           0.3586319444045795,
           0.4125195035688892,
           0.46858835294935064,
           0.52546170711565,
           0.5816820695819703,
           0.6358575830228642,
           0.6867947691689024,
           0.7335920160060941,
           0.7756808614993518,
           0.8128169161930285,
           0.8450333255769136,
           0.8725741775288056,
           0.895823846034714,
           0.9152435085396288,
           0.9313206526727138,
           0.9445330004356005,
           0.955325517723023,
           0.9640978962737138
          ],
          [
           0.31360880100979277,
           0.36457677985897047,
           0.4187743556049625,
           0.4750059677008963,
           0.531878637376089,
           0.5879349375298791,
           0.6417993284023281,
           0.6923075609528091,
           0.7385946288001815,
           0.7801300091734072,
           0.8167035583235578,
           0.8483758154580292,
           0.8754102189249392,
           0.8982028010687955,
           0.9172199774356153,
           0.9329496781887813,
           0.9458668541081955,
           0.956411813192564,
           0.9649787040389304,
           0.9719112944640012
          ],
          [
           0.3705632235958997,
           0.4250554286378743,
           0.48143184890590507,
           0.538285040740435,
           0.5941595509512241,
           0.6476978388374041,
           0.6977660211741304,
           0.7435361435940514,
           0.7845154267673812,
           0.8205273179832825,
           0.8516588666810543,
           0.8781919515468612,
           0.9005334625120655,
           0.9191544275397018,
           0.9345427801108466,
           0.9471704257495396,
           0.9574728703739548,
           0.9658386681162755,
           0.9726058582162337,
           0.9780629493614907
          ],
          [
           0.4313607925161037,
           0.4878638781795079,
           0.5446788245196431,
           0.6003540513305254,
           0.6535516503077712,
           0.7031691660878784,
           0.748416064439524,
           0.7888370509112101,
           0.8242884717345302,
           0.8548829909844836,
           0.8809200244738328,
           0.9028165366458967,
           0.9210475635083617,
           0.9361006227925329,
           0.9484443173024492,
           0.958509218994293,
           0.9666782445653915,
           0.9732837192447673,
           0.9786087459777619,
           0.9828910582158095
          ],
          [
           0.49429992900176917,
           0.5510579126103021,
           0.6065166179572105,
           0.6593593503070879,
           0.7085160680890582,
           0.7532339480057014,
           0.7930948617505399,
           0.827987327993433,
           0.8580487202778403,
           0.8835950968847349,
           0.9050527321199291,
           0.9229000870355565,
           0.9376238643724677,
           0.9496891228478452,
           0.9595213804025993,
           0.9674978812793721,
           0.9739452561140353,
           0.9791412527088453,
           0.9833187796263508,
           0.9866710334833123
          ],
          [
           0.5574202481612273,
           0.6126454699054306,
           0.6651195788242042,
           0.7138058556851,
           0.7579894027730834,
           0.7972888817024616,
           0.8316242256709865,
           0.8611566054011813,
           0.886217837060591,
           0.9072427592325494,
           0.924712696388919,
           0.9391131565167516,
           0.950905428497973,
           0.9605098675638244,
           0.9682980180398959,
           0.9745908399409995,
           0.9796607789064211,
           0.9837359849930212,
           0.9870055053241357,
           0.9896246930062356
          ],
          [
           0.6187388679110462,
           0.6708310292053967,
           0.7190377133654293,
           0.7626820881604132,
           0.80141917418331,
           0.8351995328178562,
           0.8642072149077568,
           0.8887889214181258,
           0.9093873292421425,
           0.926486085972001,
           0.9405691441812263,
           0.952093812303351,
           0.9614751850615483,
           0.9690790865772716,
           0.975220834484881,
           0.9801676274236324,
           0.9841429241199448,
           0.9873316918230046,
           0.9898858066476875,
           0.9919291842124516
          ],
          [
           0.6764924488980052,
           0.7242108813715353,
           0.7673117135887769,
           0.8054858423126382,
           0.8387136452757653,
           0.867201133871246,
           0.8913090335746723,
           0.9114871537087417,
           0.9282209459119153,
           0.9419924653928231,
           0.9532548441728244,
           0.9624178291088816,
           0.9698415106350348,
           0.9758355962389341,
           0.9806620947164298,
           0.9845398413099923,
           0.9876497928747765,
           0.9901404143557498,
           0.9921327621613009,
           0.9937250633679068
          ]
         ]
        }
       ],
       "layout": {
        "scene": {
         "xaxis": {
          "title": {
           "text": "weak_layers"
          }
         },
         "yaxis": {
          "title": {
           "text": "wind"
          }
         },
         "zaxis": {
          "title": {
           "text": "Probability"
          }
         }
        },
        "template": {
         "data": {
          "bar": [
           {
            "error_x": {
             "color": "#2a3f5f"
            },
            "error_y": {
             "color": "#2a3f5f"
            },
            "marker": {
             "line": {
              "color": "white",
              "width": 0.5
             },
             "pattern": {
              "fillmode": "overlay",
              "size": 10,
              "solidity": 0.2
             }
            },
            "type": "bar"
           }
          ],
          "barpolar": [
           {
            "marker": {
             "line": {
              "color": "white",
              "width": 0.5
             },
             "pattern": {
              "fillmode": "overlay",
              "size": 10,
              "solidity": 0.2
             }
            },
            "type": "barpolar"
           }
          ],
          "box": [
           {
            "boxpoints": "outliers",
            "notched": false,
            "type": "box"
           }
          ],
          "carpet": [
           {
            "aaxis": {
             "endlinecolor": "#2a3f5f",
             "gridcolor": "#C8D4E3",
             "linecolor": "#C8D4E3",
             "minorgridcolor": "#C8D4E3",
             "startlinecolor": "#2a3f5f"
            },
            "baxis": {
             "endlinecolor": "#2a3f5f",
             "gridcolor": "#C8D4E3",
             "linecolor": "#C8D4E3",
             "minorgridcolor": "#C8D4E3",
             "startlinecolor": "#2a3f5f"
            },
            "type": "carpet"
           }
          ],
          "choropleth": [
           {
            "colorbar": {
             "outlinewidth": 0,
             "ticks": ""
            },
            "type": "choropleth"
           }
          ],
          "contour": [
           {
            "colorbar": {
             "outlinewidth": 0,
             "ticks": ""
            },
            "colorscale": [
             [
              0,
              "#0d0887"
             ],
             [
              0.1111111111111111,
              "#46039f"
             ],
             [
              0.2222222222222222,
              "#7201a8"
             ],
             [
              0.3333333333333333,
              "#9c179e"
             ],
             [
              0.4444444444444444,
              "#bd3786"
             ],
             [
              0.5555555555555556,
              "#d8576b"
             ],
             [
              0.6666666666666666,
              "#ed7953"
             ],
             [
              0.7777777777777778,
              "#fb9f3a"
             ],
             [
              0.8888888888888888,
              "#fdca26"
             ],
             [
              1,
              "#f0f921"
             ]
            ],
            "type": "contour"
           }
          ],
          "contourcarpet": [
           {
            "colorbar": {
             "outlinewidth": 0,
             "ticks": ""
            },
            "type": "contourcarpet"
           }
          ],
          "heatmap": [
           {
            "colorbar": {
             "outlinewidth": 0,
             "ticks": ""
            },
            "colorscale": [
             [
              0,
              "#0d0887"
             ],
             [
              0.1111111111111111,
              "#46039f"
             ],
             [
              0.2222222222222222,
              "#7201a8"
             ],
             [
              0.3333333333333333,
              "#9c179e"
             ],
             [
              0.4444444444444444,
              "#bd3786"
             ],
             [
              0.5555555555555556,
              "#d8576b"
             ],
             [
              0.6666666666666666,
              "#ed7953"
             ],
             [
              0.7777777777777778,
              "#fb9f3a"
             ],
             [
              0.8888888888888888,
              "#fdca26"
             ],
             [
              1,
              "#f0f921"
             ]
            ],
            "type": "heatmap"
           }
          ],
          "heatmapgl": [
           {
            "colorbar": {
             "outlinewidth": 0,
             "ticks": ""
            },
            "colorscale": [
             [
              0,
              "#0d0887"
             ],
             [
              0.1111111111111111,
              "#46039f"
             ],
             [
              0.2222222222222222,
              "#7201a8"
             ],
             [
              0.3333333333333333,
              "#9c179e"
             ],
             [
              0.4444444444444444,
              "#bd3786"
             ],
             [
              0.5555555555555556,
              "#d8576b"
             ],
             [
              0.6666666666666666,
              "#ed7953"
             ],
             [
              0.7777777777777778,
              "#fb9f3a"
             ],
             [
              0.8888888888888888,
              "#fdca26"
             ],
             [
              1,
              "#f0f921"
             ]
            ],
            "type": "heatmapgl"
           }
          ],
          "histogram": [
           {
            "marker": {
             "line": {
              "width": 1
             },
             "pattern": {
              "fillmode": "overlay",
              "size": 10,
              "solidity": 0.2
             }
            },
            "type": "histogram"
           }
          ],
          "histogram2d": [
           {
            "colorbar": {
             "outlinewidth": 0,
             "ticks": ""
            },
            "colorscale": [
             [
              0,
              "#0d0887"
             ],
             [
              0.1111111111111111,
              "#46039f"
             ],
             [
              0.2222222222222222,
              "#7201a8"
             ],
             [
              0.3333333333333333,
              "#9c179e"
             ],
             [
              0.4444444444444444,
              "#bd3786"
             ],
             [
              0.5555555555555556,
              "#d8576b"
             ],
             [
              0.6666666666666666,
              "#ed7953"
             ],
             [
              0.7777777777777778,
              "#fb9f3a"
             ],
             [
              0.8888888888888888,
              "#fdca26"
             ],
             [
              1,
              "#f0f921"
             ]
            ],
            "type": "histogram2d"
           }
          ],
          "histogram2dcontour": [
           {
            "colorbar": {
             "outlinewidth": 0,
             "ticks": ""
            },
            "colorscale": [
             [
              0,
              "#0d0887"
             ],
             [
              0.1111111111111111,
              "#46039f"
             ],
             [
              0.2222222222222222,
              "#7201a8"
             ],
             [
              0.3333333333333333,
              "#9c179e"
             ],
             [
              0.4444444444444444,
              "#bd3786"
             ],
             [
              0.5555555555555556,
              "#d8576b"
             ],
             [
              0.6666666666666666,
              "#ed7953"
             ],
             [
              0.7777777777777778,
              "#fb9f3a"
             ],
             [
              0.8888888888888888,
              "#fdca26"
             ],
             [
              1,
              "#f0f921"
             ]
            ],
            "type": "histogram2dcontour"
           }
          ],
          "mesh3d": [
           {
            "colorbar": {
             "outlinewidth": 0,
             "ticks": ""
            },
            "type": "mesh3d"
           }
          ],
          "parcoords": [
           {
            "line": {
             "colorbar": {
              "outlinewidth": 0,
              "ticks": ""
             }
            },
            "type": "parcoords"
           }
          ],
          "pie": [
           {
            "automargin": true,
            "type": "pie"
           }
          ],
          "scatter": [
           {
            "fillpattern": {
             "fillmode": "overlay",
             "size": 10,
             "solidity": 0.2
            },
            "marker": {
             "opacity": 0.8
            },
            "type": "scatter"
           }
          ],
          "scatter3d": [
           {
            "line": {
             "colorbar": {
              "outlinewidth": 0,
              "ticks": ""
             }
            },
            "marker": {
             "colorbar": {
              "outlinewidth": 0,
              "ticks": ""
             },
             "opacity": 0.8
            },
            "type": "scatter3d"
           }
          ],
          "scattercarpet": [
           {
            "marker": {
             "colorbar": {
              "outlinewidth": 0,
              "ticks": ""
             }
            },
            "type": "scattercarpet"
           }
          ],
          "scattergeo": [
           {
            "marker": {
             "colorbar": {
              "outlinewidth": 0,
              "ticks": ""
             }
            },
            "type": "scattergeo"
           }
          ],
          "scattergl": [
           {
            "marker": {
             "colorbar": {
              "outlinewidth": 0,
              "ticks": ""
             }
            },
            "type": "scattergl"
           }
          ],
          "scattermapbox": [
           {
            "marker": {
             "colorbar": {
              "outlinewidth": 0,
              "ticks": ""
             }
            },
            "type": "scattermapbox"
           }
          ],
          "scatterpolar": [
           {
            "marker": {
             "colorbar": {
              "outlinewidth": 0,
              "ticks": ""
             }
            },
            "type": "scatterpolar"
           }
          ],
          "scatterpolargl": [
           {
            "marker": {
             "colorbar": {
              "outlinewidth": 0,
              "ticks": ""
             }
            },
            "type": "scatterpolargl"
           }
          ],
          "scatterternary": [
           {
            "marker": {
             "colorbar": {
              "outlinewidth": 0,
              "ticks": ""
             }
            },
            "type": "scatterternary"
           }
          ],
          "surface": [
           {
            "colorbar": {
             "outlinewidth": 0,
             "ticks": ""
            },
            "colorscale": [
             [
              0,
              "#0d0887"
             ],
             [
              0.1111111111111111,
              "#46039f"
             ],
             [
              0.2222222222222222,
              "#7201a8"
             ],
             [
              0.3333333333333333,
              "#9c179e"
             ],
             [
              0.4444444444444444,
              "#bd3786"
             ],
             [
              0.5555555555555556,
              "#d8576b"
             ],
             [
              0.6666666666666666,
              "#ed7953"
             ],
             [
              0.7777777777777778,
              "#fb9f3a"
             ],
             [
              0.8888888888888888,
              "#fdca26"
             ],
             [
              1,
              "#f0f921"
             ]
            ],
            "type": "surface"
           }
          ],
          "table": [
           {
            "cells": {
             "fill": {
              "color": "#EBF0F8"
             },
             "line": {
              "color": "white"
             }
            },
            "header": {
             "fill": {
              "color": "#C8D4E3"
             },
             "line": {
              "color": "white"
             }
            },
            "type": "table"
           }
          ]
         },
         "layout": {
          "annotationdefaults": {
           "arrowcolor": "#2a3f5f",
           "arrowhead": 0,
           "arrowwidth": 1
          },
          "autotypenumbers": "strict",
          "coloraxis": {
           "colorbar": {
            "outlinewidth": 0,
            "ticks": ""
           }
          },
          "colorscale": {
           "diverging": [
            [
             0,
             "#8e0152"
            ],
            [
             0.1,
             "#c51b7d"
            ],
            [
             0.2,
             "#de77ae"
            ],
            [
             0.3,
             "#f1b6da"
            ],
            [
             0.4,
             "#fde0ef"
            ],
            [
             0.5,
             "#f7f7f7"
            ],
            [
             0.6,
             "#e6f5d0"
            ],
            [
             0.7,
             "#b8e186"
            ],
            [
             0.8,
             "#7fbc41"
            ],
            [
             0.9,
             "#4d9221"
            ],
            [
             1,
             "#276419"
            ]
           ],
           "sequential": [
            [
             0,
             "#0d0887"
            ],
            [
             0.1111111111111111,
             "#46039f"
            ],
            [
             0.2222222222222222,
             "#7201a8"
            ],
            [
             0.3333333333333333,
             "#9c179e"
            ],
            [
             0.4444444444444444,
             "#bd3786"
            ],
            [
             0.5555555555555556,
             "#d8576b"
            ],
            [
             0.6666666666666666,
             "#ed7953"
            ],
            [
             0.7777777777777778,
             "#fb9f3a"
            ],
            [
             0.8888888888888888,
             "#fdca26"
            ],
            [
             1,
             "#f0f921"
            ]
           ],
           "sequentialminus": [
            [
             0,
             "#0d0887"
            ],
            [
             0.1111111111111111,
             "#46039f"
            ],
            [
             0.2222222222222222,
             "#7201a8"
            ],
            [
             0.3333333333333333,
             "#9c179e"
            ],
            [
             0.4444444444444444,
             "#bd3786"
            ],
            [
             0.5555555555555556,
             "#d8576b"
            ],
            [
             0.6666666666666666,
             "#ed7953"
            ],
            [
             0.7777777777777778,
             "#fb9f3a"
            ],
            [
             0.8888888888888888,
             "#fdca26"
            ],
            [
             1,
             "#f0f921"
            ]
           ]
          },
          "colorway": [
           "#636efa",
           "#EF553B",
           "#00cc96",
           "#ab63fa",
           "#FFA15A",
           "#19d3f3",
           "#FF6692",
           "#B6E880",
           "#FF97FF",
           "#FECB52"
          ],
          "font": {
           "color": "#2a3f5f"
          },
          "geo": {
           "bgcolor": "white",
           "lakecolor": "white",
           "landcolor": "white",
           "showlakes": true,
           "showland": true,
           "subunitcolor": "#C8D4E3"
          },
          "height": 400,
          "hoverlabel": {
           "align": "left"
          },
          "hovermode": "closest",
          "mapbox": {
           "style": "light"
          },
          "margin": {
           "b": 2,
           "l": 2,
           "r": 2,
           "t": 30
          },
          "paper_bgcolor": "white",
          "plot_bgcolor": "white",
          "polar": {
           "angularaxis": {
            "gridcolor": "#EBF0F8",
            "linecolor": "#EBF0F8",
            "ticks": ""
           },
           "bgcolor": "white",
           "radialaxis": {
            "gridcolor": "#EBF0F8",
            "linecolor": "#EBF0F8",
            "ticks": ""
           }
          },
          "scene": {
           "camera": {
            "eye": {
             "x": 1.5,
             "y": 1.5,
             "z": 0.1
            }
           },
           "xaxis": {
            "backgroundcolor": "white",
            "gridcolor": "#DFE8F3",
            "gridwidth": 2,
            "linecolor": "#EBF0F8",
            "showbackground": true,
            "ticks": "",
            "zerolinecolor": "#EBF0F8"
           },
           "yaxis": {
            "backgroundcolor": "white",
            "gridcolor": "#DFE8F3",
            "gridwidth": 2,
            "linecolor": "#EBF0F8",
            "showbackground": true,
            "ticks": "",
            "zerolinecolor": "#EBF0F8"
           },
           "zaxis": {
            "backgroundcolor": "white",
            "gridcolor": "#DFE8F3",
            "gridwidth": 2,
            "linecolor": "#EBF0F8",
            "showbackground": true,
            "ticks": "",
            "zerolinecolor": "#EBF0F8"
           }
          },
          "shapedefaults": {
           "line": {
            "color": "#2a3f5f"
           }
          },
          "ternary": {
           "aaxis": {
            "gridcolor": "#DFE8F3",
            "linecolor": "#A2B1C6",
            "ticks": ""
           },
           "baxis": {
            "gridcolor": "#DFE8F3",
            "linecolor": "#A2B1C6",
            "ticks": ""
           },
           "bgcolor": "white",
           "caxis": {
            "gridcolor": "#DFE8F3",
            "linecolor": "#A2B1C6",
            "ticks": ""
           }
          },
          "title": {
           "x": 0.5
          },
          "xaxis": {
           "automargin": true,
           "gridcolor": "#EBF0F8",
           "linecolor": "#EBF0F8",
           "linewidth": 2,
           "showline": true,
           "ticks": "",
           "title": {
            "standoff": 15
           },
           "zerolinecolor": "#EBF0F8",
           "zerolinewidth": 2
          },
          "yaxis": {
           "automargin": true,
           "gridcolor": "#EBF0F8",
           "linecolor": "#EBF0F8",
           "linewidth": 2,
           "showline": true,
           "ticks": "",
           "title": {
            "standoff": 15
           },
           "zerolinecolor": "#EBF0F8",
           "zerolinewidth": 2
          }
         }
        },
        "title": {
         "text": "Model Prediction"
        }
       }
      }
     },
     "metadata": {},
     "output_type": "display_data"
    }
   ],
   "source": [
    "graphing.model_to_surface_plot(model_with_interaction, [\"weak_layers\", \"wind\"], test)"
   ]
  },
  {
   "attachments": {},
   "cell_type": "markdown",
   "metadata": {},
   "source": [
    "El gráfico es interactivo: gírelo y explore cómo existe una relación clara en forma de S entre las características y la probabilidad. Veamos ahora las características que hemos dicho que pueden interactuar"
   ]
  },
  {
   "cell_type": "code",
   "execution_count": 10,
   "metadata": {},
   "outputs": [
    {
     "name": "stdout",
     "output_type": "stream",
     "text": [
      "Creating plot...\n"
     ]
    },
    {
     "data": {
      "application/vnd.plotly.v1+json": {
       "config": {
        "plotlyServerURL": "https://plot.ly"
       },
       "data": [
        {
         "colorbar": {
          "title": {
           "text": "Probability"
          }
         },
         "type": "surface",
         "x": [
          0,
          0.47368421052631576,
          0.9473684210526315,
          1.4210526315789473,
          1.894736842105263,
          2.3684210526315788,
          2.8421052631578947,
          3.31578947368421,
          3.789473684210526,
          4.263157894736842,
          4.7368421052631575,
          5.2105263157894735,
          5.684210526315789,
          6.157894736842105,
          6.63157894736842,
          7.105263157894736,
          7.578947368421052,
          8.052631578947368,
          8.526315789473683,
          9
         ],
         "y": [
          0.4137014307004687,
          1.2959187122253057,
          2.1781359937501428,
          3.0603532752749802,
          3.9425705567998173,
          4.824787838324655,
          5.707005119849492,
          6.589222401374329,
          7.471439682899166,
          8.353656964424003,
          9.23587424594884,
          10.118091527473677,
          11.000308808998515,
          11.882526090523351,
          12.764743372048189,
          13.646960653573025,
          14.529177935097863,
          15.4113952166227,
          16.29361249814754,
          17.175829779672377
         ],
         "z": [
          [
           0.99044918008353,
           0.9854392371316607,
           0.9778600417499922,
           0.9664699447106148,
           0.9495225928648762,
           0.9246769998260712,
           0.8890313166146229,
           0.8394457433886225,
           0.7733518652935403,
           0.6900944442979232,
           0.5923735767580228,
           0.48675605667711774,
           0.38230816459947126,
           0.2877089539516023,
           0.2086120942316283,
           0.14677953821165904,
           0.10093661725478208,
           0.06826601525051657,
           0.0456333199634439,
           0.030260497637880756
          ],
          [
           0.9852805799553711,
           0.9785303897364478,
           0.9687827037145869,
           0.9548137161707447,
           0.9350132513097364,
           0.9073779610227782,
           0.8696294712482958,
           0.8195558525936686,
           0.7556535479978902,
           0.6780119636373161,
           0.5891143092897567,
           0.49399024743964315,
           0.399299305499253,
           0.31158259783380976,
           0.23557830435770644,
           0.17344275287706348,
           0.12501566386065804,
           0.08865958913492802,
           0.062125614039975005,
           0.04315665661218293
          ],
          [
           0.9773787812881171,
           0.9684483644175702,
           0.9561505644008693,
           0.939359618670887,
           0.9166991944073006,
           0.8865932077592886,
           0.8474175942462413,
           0.7977954769159216,
           0.7370431335968359,
           0.6656866223244288,
           0.5858472013833483,
           0.501226955533239,
           0.4165363650661542,
           0.3365013743273298,
           0.2648636669745736,
           0.20379259420751367,
           0.15385591367802234,
           0.1143974662901066,
           0.08405341946170546,
           0.06120192945481735
          ],
          [
           0.9653841059371395,
           0.9538551336028975,
           0.9387300859192843,
           0.9190680908910762,
           0.8938101642972095,
           0.8618543811722701,
           0.8221951187646507,
           0.7741341492141386,
           0.717545099727251,
           0.6531308525319147,
           0.5825725226493614,
           0.5084631496155105,
           0.4339799433101535,
           0.36236403148546276,
           0.29637807668707145,
           0.23792449347860864,
           0.18792049132653876,
           0.14640672023126403,
           0.112790067584738,
           0.08611348547981053
          ],
          [
           0.9473718388209147,
           0.9329793598287853,
           0.9150040266384516,
           0.8927617469677955,
           0.8655542010259725,
           0.8327370775944402,
           0.7938177047393367,
           0.7485766208337943,
           0.6971952760168533,
           0.6403582882366233,
           0.5792905453283064,
           0.5156957992051338,
           0.45158862910337366,
           0.38904889763222733,
           0.3299591654769666,
           0.27579281341728606,
           0.22749934908121075,
           0.18549640569261366,
           0.14974516047982755,
           0.11987028947390001
          ],
          [
           0.9207563007618521,
           0.9036137806867807,
           0.8832331606674777,
           0.8592145314224402,
           0.8311995580229821,
           0.7989145434534147,
           0.7622210807346386,
           0.7211687938868456,
           0.676041254250963,
           0.6273837265502262,
           0.5760015442048454,
           0.5229218797560143,
           0.4693193773048232,
           0.4164155330306055,
           0.3653693867823842,
           0.3171797598812927,
           0.272615737011106,
           0.23218393100813553,
           0.19613170529318602,
           0.16447829081559792
          ],
          [
           0.8823520755898336,
           0.8632671463983729,
           0.8416418887665547,
           0.817320206019015,
           0.7901942261324281,
           0.7602220040536133,
           0.7274449057833642,
           0.6920025121277956,
           0.6541425113595652,
           0.6142230766317983,
           0.572705796520144,
           0.5301383777103419,
           0.48712791982637743,
           0.4443072436018357,
           0.40229810356759294,
           0.36167574891441506,
           0.32293902053633755,
           0.2864890722561507,
           0.2526182031264571,
           0.2215086183563405
          ],
          [
           0.8287965183619299,
           0.8095904930850266,
           0.7887789891168763,
           0.7663492933889567,
           0.7423158854941224,
           0.7167241812762751,
           0.689653454027316,
           0.6612185699355547,
           0.6315702058556374,
           0.6008932962628399,
           0.5694035818824219,
           0.5373422955126229,
           0.5049692025311004,
           0.47255438926119625,
           0.4403693342814441,
           0.4086778819466336,
           0.37772774902666983,
           0.347743132377578,
           0.31891885911511814,
           0.2914163525473737
          ],
          [
           0.7575601053938384,
           0.7411602762959258,
           0.7240551734504721,
           0.7062676825184354,
           0.6878279485334935,
           0.668773508895936,
           0.6491492736840155,
           0.6290073385291833,
           0.6084066207882167,
           0.5874123163854293,
           0.566095182175762,
           0.5445306565670198,
           0.522797838926923,
           0.5009783554384429,
           0.4791551450183893,
           0.45741120321088063,
           0.43582832426040374,
           0.41448588166901595,
           0.3934596854405721,
           0.3728209500856284
          ],
          [
           0.6685371538019934,
           0.6585106517915469,
           0.6483403924658072,
           0.6380337333213335,
           0.6275985090473762,
           0.61704301327976,
           0.6063759770448286,
           0.5956065439621947,
           0.5847442423142705,
           0.5737989541298099,
           0.5627808814672377,
           0.5517005101206616,
           0.540568571006414,
           0.5293959995200486,
           0.5181938931822541,
           0.5069734679165426,
           0.495746013321274,
           0.48452284731320183,
           0.47331527052889405,
           0.4621345208739367
          ],
          [
           0.5655710296385342,
           0.5649608876032272,
           0.564350548717092,
           0.563740014767019,
           0.5631292875422442,
           0.5625183688343288,
           0.5619072604371373,
           0.5612959641468191,
           0.5606844817617868,
           0.5600728150826949,
           0.559460965912421,
           0.5588489360560427,
           0.5582367273208196,
           0.5576243415161697,
           0.55701178045365,
           0.5563990459469356,
           0.5557861398117984,
           0.5551730638660853,
           0.5545598199296977,
           0.5539464098245712
          ],
          [
           0.45661701763568113,
           0.4665442920983227,
           0.4764981327761914,
           0.48647067810594863,
           0.49645400707896126,
           0.5064401643389813,
           0.5164211855120059,
           0.526389122597177,
           0.536336069246878,
           0.5462541857654656,
           0.556135723659334,
           0.565973049576174,
           0.5757586684782882,
           0.5854852459035069,
           0.5951456291775046,
           0.6047328674529241,
           0.6142402304635326,
           0.6236612258953967,
           0.632989615291602,
           0.6422194284220821
          ],
          [
           0.35166188392904246,
           0.37066460005206525,
           0.3900763550791043,
           0.4098426674428873,
           0.42990460718255563,
           0.45019944089957264,
           0.47066137842093386,
           0.4912224034884362,
           0.5118131668926814,
           0.5323639174957339,
           0.5528054447509138,
           0.5730700057667876,
           0.593092210716663,
           0.6128098424089136,
           0.6321645889597722,
           0.6511026725248609,
           0.6695753616706152,
           0.6875393598966933,
           0.7049570677503119,
           0.7217967206240485
          ],
          [
           0.25931824520492336,
           0.28399909527998995,
           0.3100456787108204,
           0.33735555380408044,
           0.3657956179398288,
           0.39520333782138395,
           0.4253894821256308,
           0.4561423389951988,
           0.48723326769756414,
           0.518423302990068,
           0.5494704210260515,
           0.5801370040206272,
           0.6101970189946817,
           0.6394424573644631,
           0.6676886617368445,
           0.6947782811650299,
           0.7205837287113261,
           0.7450081467880811,
           0.7679850002023195,
           0.7894765028768309
          ],
          [
           0.18432916123876425,
           0.21080930528163203,
           0.23997433190837586,
           0.27178471659498765,
           0.3061134545956833,
           0.34273744405277157,
           0.3813351368496394,
           0.4214920650711701,
           0.46271496039578125,
           0.5044539472241173,
           0.5461309460192836,
           0.5871712923096758,
           0.6270349621284822,
           0.6652438708953691,
           0.7014024578981096,
           0.7352099727942767,
           0.7664642273101302,
           0.7950577538804511,
           0.8209681116773461,
           0.8442444266160954
          ],
          [
           0.12729830320347696,
           0.15246492285961213,
           0.18157176764508698,
           0.21482687373595555,
           0.25229512385016845,
           0.2938525680375952,
           0.33915033116948207,
           0.38759805689019006,
           0.4383756498134949,
           0.49047763419368356,
           0.5427873148592038,
           0.5941701712920423,
           0.6435704238148233,
           0.690093772767796,
           0.7330633349025436,
           0.772043070283363,
           0.8068306583075947,
           0.8374273497797219,
           0.8639946652907259,
           0.8868072398124099
          ],
          [
           0.08605109388601176,
           0.10805719708168993,
           0.13486057596189405,
           0.16706716538727798,
           0.20514136185201706,
           0.24929555622898017,
           0.29937396844707087,
           0.35475821623783516,
           0.41432932530163075,
           0.4765161913122089,
           0.5394398241656669,
           0.6011309982411993,
           0.6597705648601855,
           0.7138923539334414,
           0.7625038557026498,
           0.8051107334039282,
           0.8416611852659907,
           0.8724428355653434,
           0.8979658645564406,
           0.918856945961638
          ],
          [
           0.05729142433785022,
           0.07543270074598053,
           0.09871686183763854,
           0.12819173959336624,
           0.16485746944286916,
           0.20949040646222383,
           0.26241026737329914,
           0.3232321983504668,
           0.3906844665021606,
           0.4625913532335427,
           0.5360887719458589,
           0.6080511907862608,
           0.6756055335023508,
           0.7365610341764268,
           0.789629181744936,
           0.8344104028195284,
           0.8712138541994164,
           0.9008098528897741,
           0.9241962578413472,
           0.9424212111107132
          ],
          [
           0.03774672216054448,
           0.052082986831560464,
           0.07145983009533917,
           0.09730558273492,
           0.13117866242567197,
           0.17456305764519398,
           0.22852187290623227,
           0.2932345727938614,
           0.3675421663239985,
           0.44872462690186987,
           0.532734457489316,
           0.6149282304530644,
           0.691048622294414,
           0.7580423822832724,
           0.8144104805279214,
           0.8600707371383151,
           0.8959327521910541,
           0.9234221408540748,
           0.9441032312968475,
           0.9594443568634643
          ],
          [
           0.024694941718144917,
           0.03568208589846686,
           0.05130044891370539,
           0.07323591881496944,
           0.10352721299830091,
           0.14439529627003023,
           0.19783607252309476,
           0.2649310686644648,
           0.3449945365360634,
           0.4349371596028979,
           0.5293771812619641,
           0.621759665996911,
           0.7060763715510657,
           0.7782993291185383,
           0.8368756443471574,
           0.8823154875872369,
           0.916362640394202,
           0.9412159191238683,
           0.9590142345085424,
           0.9715863560479974
          ]
         ]
        }
       ],
       "layout": {
        "scene": {
         "xaxis": {
          "title": {
           "text": "no_visitors"
          }
         },
         "yaxis": {
          "title": {
           "text": "fresh_thickness"
          }
         },
         "zaxis": {
          "title": {
           "text": "Probability"
          }
         }
        },
        "template": {
         "data": {
          "bar": [
           {
            "error_x": {
             "color": "#2a3f5f"
            },
            "error_y": {
             "color": "#2a3f5f"
            },
            "marker": {
             "line": {
              "color": "white",
              "width": 0.5
             },
             "pattern": {
              "fillmode": "overlay",
              "size": 10,
              "solidity": 0.2
             }
            },
            "type": "bar"
           }
          ],
          "barpolar": [
           {
            "marker": {
             "line": {
              "color": "white",
              "width": 0.5
             },
             "pattern": {
              "fillmode": "overlay",
              "size": 10,
              "solidity": 0.2
             }
            },
            "type": "barpolar"
           }
          ],
          "box": [
           {
            "boxpoints": "outliers",
            "notched": false,
            "type": "box"
           }
          ],
          "carpet": [
           {
            "aaxis": {
             "endlinecolor": "#2a3f5f",
             "gridcolor": "#C8D4E3",
             "linecolor": "#C8D4E3",
             "minorgridcolor": "#C8D4E3",
             "startlinecolor": "#2a3f5f"
            },
            "baxis": {
             "endlinecolor": "#2a3f5f",
             "gridcolor": "#C8D4E3",
             "linecolor": "#C8D4E3",
             "minorgridcolor": "#C8D4E3",
             "startlinecolor": "#2a3f5f"
            },
            "type": "carpet"
           }
          ],
          "choropleth": [
           {
            "colorbar": {
             "outlinewidth": 0,
             "ticks": ""
            },
            "type": "choropleth"
           }
          ],
          "contour": [
           {
            "colorbar": {
             "outlinewidth": 0,
             "ticks": ""
            },
            "colorscale": [
             [
              0,
              "#0d0887"
             ],
             [
              0.1111111111111111,
              "#46039f"
             ],
             [
              0.2222222222222222,
              "#7201a8"
             ],
             [
              0.3333333333333333,
              "#9c179e"
             ],
             [
              0.4444444444444444,
              "#bd3786"
             ],
             [
              0.5555555555555556,
              "#d8576b"
             ],
             [
              0.6666666666666666,
              "#ed7953"
             ],
             [
              0.7777777777777778,
              "#fb9f3a"
             ],
             [
              0.8888888888888888,
              "#fdca26"
             ],
             [
              1,
              "#f0f921"
             ]
            ],
            "type": "contour"
           }
          ],
          "contourcarpet": [
           {
            "colorbar": {
             "outlinewidth": 0,
             "ticks": ""
            },
            "type": "contourcarpet"
           }
          ],
          "heatmap": [
           {
            "colorbar": {
             "outlinewidth": 0,
             "ticks": ""
            },
            "colorscale": [
             [
              0,
              "#0d0887"
             ],
             [
              0.1111111111111111,
              "#46039f"
             ],
             [
              0.2222222222222222,
              "#7201a8"
             ],
             [
              0.3333333333333333,
              "#9c179e"
             ],
             [
              0.4444444444444444,
              "#bd3786"
             ],
             [
              0.5555555555555556,
              "#d8576b"
             ],
             [
              0.6666666666666666,
              "#ed7953"
             ],
             [
              0.7777777777777778,
              "#fb9f3a"
             ],
             [
              0.8888888888888888,
              "#fdca26"
             ],
             [
              1,
              "#f0f921"
             ]
            ],
            "type": "heatmap"
           }
          ],
          "heatmapgl": [
           {
            "colorbar": {
             "outlinewidth": 0,
             "ticks": ""
            },
            "colorscale": [
             [
              0,
              "#0d0887"
             ],
             [
              0.1111111111111111,
              "#46039f"
             ],
             [
              0.2222222222222222,
              "#7201a8"
             ],
             [
              0.3333333333333333,
              "#9c179e"
             ],
             [
              0.4444444444444444,
              "#bd3786"
             ],
             [
              0.5555555555555556,
              "#d8576b"
             ],
             [
              0.6666666666666666,
              "#ed7953"
             ],
             [
              0.7777777777777778,
              "#fb9f3a"
             ],
             [
              0.8888888888888888,
              "#fdca26"
             ],
             [
              1,
              "#f0f921"
             ]
            ],
            "type": "heatmapgl"
           }
          ],
          "histogram": [
           {
            "marker": {
             "line": {
              "width": 1
             },
             "pattern": {
              "fillmode": "overlay",
              "size": 10,
              "solidity": 0.2
             }
            },
            "type": "histogram"
           }
          ],
          "histogram2d": [
           {
            "colorbar": {
             "outlinewidth": 0,
             "ticks": ""
            },
            "colorscale": [
             [
              0,
              "#0d0887"
             ],
             [
              0.1111111111111111,
              "#46039f"
             ],
             [
              0.2222222222222222,
              "#7201a8"
             ],
             [
              0.3333333333333333,
              "#9c179e"
             ],
             [
              0.4444444444444444,
              "#bd3786"
             ],
             [
              0.5555555555555556,
              "#d8576b"
             ],
             [
              0.6666666666666666,
              "#ed7953"
             ],
             [
              0.7777777777777778,
              "#fb9f3a"
             ],
             [
              0.8888888888888888,
              "#fdca26"
             ],
             [
              1,
              "#f0f921"
             ]
            ],
            "type": "histogram2d"
           }
          ],
          "histogram2dcontour": [
           {
            "colorbar": {
             "outlinewidth": 0,
             "ticks": ""
            },
            "colorscale": [
             [
              0,
              "#0d0887"
             ],
             [
              0.1111111111111111,
              "#46039f"
             ],
             [
              0.2222222222222222,
              "#7201a8"
             ],
             [
              0.3333333333333333,
              "#9c179e"
             ],
             [
              0.4444444444444444,
              "#bd3786"
             ],
             [
              0.5555555555555556,
              "#d8576b"
             ],
             [
              0.6666666666666666,
              "#ed7953"
             ],
             [
              0.7777777777777778,
              "#fb9f3a"
             ],
             [
              0.8888888888888888,
              "#fdca26"
             ],
             [
              1,
              "#f0f921"
             ]
            ],
            "type": "histogram2dcontour"
           }
          ],
          "mesh3d": [
           {
            "colorbar": {
             "outlinewidth": 0,
             "ticks": ""
            },
            "type": "mesh3d"
           }
          ],
          "parcoords": [
           {
            "line": {
             "colorbar": {
              "outlinewidth": 0,
              "ticks": ""
             }
            },
            "type": "parcoords"
           }
          ],
          "pie": [
           {
            "automargin": true,
            "type": "pie"
           }
          ],
          "scatter": [
           {
            "fillpattern": {
             "fillmode": "overlay",
             "size": 10,
             "solidity": 0.2
            },
            "marker": {
             "opacity": 0.8
            },
            "type": "scatter"
           }
          ],
          "scatter3d": [
           {
            "line": {
             "colorbar": {
              "outlinewidth": 0,
              "ticks": ""
             }
            },
            "marker": {
             "colorbar": {
              "outlinewidth": 0,
              "ticks": ""
             },
             "opacity": 0.8
            },
            "type": "scatter3d"
           }
          ],
          "scattercarpet": [
           {
            "marker": {
             "colorbar": {
              "outlinewidth": 0,
              "ticks": ""
             }
            },
            "type": "scattercarpet"
           }
          ],
          "scattergeo": [
           {
            "marker": {
             "colorbar": {
              "outlinewidth": 0,
              "ticks": ""
             }
            },
            "type": "scattergeo"
           }
          ],
          "scattergl": [
           {
            "marker": {
             "colorbar": {
              "outlinewidth": 0,
              "ticks": ""
             }
            },
            "type": "scattergl"
           }
          ],
          "scattermapbox": [
           {
            "marker": {
             "colorbar": {
              "outlinewidth": 0,
              "ticks": ""
             }
            },
            "type": "scattermapbox"
           }
          ],
          "scatterpolar": [
           {
            "marker": {
             "colorbar": {
              "outlinewidth": 0,
              "ticks": ""
             }
            },
            "type": "scatterpolar"
           }
          ],
          "scatterpolargl": [
           {
            "marker": {
             "colorbar": {
              "outlinewidth": 0,
              "ticks": ""
             }
            },
            "type": "scatterpolargl"
           }
          ],
          "scatterternary": [
           {
            "marker": {
             "colorbar": {
              "outlinewidth": 0,
              "ticks": ""
             }
            },
            "type": "scatterternary"
           }
          ],
          "surface": [
           {
            "colorbar": {
             "outlinewidth": 0,
             "ticks": ""
            },
            "colorscale": [
             [
              0,
              "#0d0887"
             ],
             [
              0.1111111111111111,
              "#46039f"
             ],
             [
              0.2222222222222222,
              "#7201a8"
             ],
             [
              0.3333333333333333,
              "#9c179e"
             ],
             [
              0.4444444444444444,
              "#bd3786"
             ],
             [
              0.5555555555555556,
              "#d8576b"
             ],
             [
              0.6666666666666666,
              "#ed7953"
             ],
             [
              0.7777777777777778,
              "#fb9f3a"
             ],
             [
              0.8888888888888888,
              "#fdca26"
             ],
             [
              1,
              "#f0f921"
             ]
            ],
            "type": "surface"
           }
          ],
          "table": [
           {
            "cells": {
             "fill": {
              "color": "#EBF0F8"
             },
             "line": {
              "color": "white"
             }
            },
            "header": {
             "fill": {
              "color": "#C8D4E3"
             },
             "line": {
              "color": "white"
             }
            },
            "type": "table"
           }
          ]
         },
         "layout": {
          "annotationdefaults": {
           "arrowcolor": "#2a3f5f",
           "arrowhead": 0,
           "arrowwidth": 1
          },
          "autotypenumbers": "strict",
          "coloraxis": {
           "colorbar": {
            "outlinewidth": 0,
            "ticks": ""
           }
          },
          "colorscale": {
           "diverging": [
            [
             0,
             "#8e0152"
            ],
            [
             0.1,
             "#c51b7d"
            ],
            [
             0.2,
             "#de77ae"
            ],
            [
             0.3,
             "#f1b6da"
            ],
            [
             0.4,
             "#fde0ef"
            ],
            [
             0.5,
             "#f7f7f7"
            ],
            [
             0.6,
             "#e6f5d0"
            ],
            [
             0.7,
             "#b8e186"
            ],
            [
             0.8,
             "#7fbc41"
            ],
            [
             0.9,
             "#4d9221"
            ],
            [
             1,
             "#276419"
            ]
           ],
           "sequential": [
            [
             0,
             "#0d0887"
            ],
            [
             0.1111111111111111,
             "#46039f"
            ],
            [
             0.2222222222222222,
             "#7201a8"
            ],
            [
             0.3333333333333333,
             "#9c179e"
            ],
            [
             0.4444444444444444,
             "#bd3786"
            ],
            [
             0.5555555555555556,
             "#d8576b"
            ],
            [
             0.6666666666666666,
             "#ed7953"
            ],
            [
             0.7777777777777778,
             "#fb9f3a"
            ],
            [
             0.8888888888888888,
             "#fdca26"
            ],
            [
             1,
             "#f0f921"
            ]
           ],
           "sequentialminus": [
            [
             0,
             "#0d0887"
            ],
            [
             0.1111111111111111,
             "#46039f"
            ],
            [
             0.2222222222222222,
             "#7201a8"
            ],
            [
             0.3333333333333333,
             "#9c179e"
            ],
            [
             0.4444444444444444,
             "#bd3786"
            ],
            [
             0.5555555555555556,
             "#d8576b"
            ],
            [
             0.6666666666666666,
             "#ed7953"
            ],
            [
             0.7777777777777778,
             "#fb9f3a"
            ],
            [
             0.8888888888888888,
             "#fdca26"
            ],
            [
             1,
             "#f0f921"
            ]
           ]
          },
          "colorway": [
           "#636efa",
           "#EF553B",
           "#00cc96",
           "#ab63fa",
           "#FFA15A",
           "#19d3f3",
           "#FF6692",
           "#B6E880",
           "#FF97FF",
           "#FECB52"
          ],
          "font": {
           "color": "#2a3f5f"
          },
          "geo": {
           "bgcolor": "white",
           "lakecolor": "white",
           "landcolor": "white",
           "showlakes": true,
           "showland": true,
           "subunitcolor": "#C8D4E3"
          },
          "height": 400,
          "hoverlabel": {
           "align": "left"
          },
          "hovermode": "closest",
          "mapbox": {
           "style": "light"
          },
          "margin": {
           "b": 2,
           "l": 2,
           "r": 2,
           "t": 30
          },
          "paper_bgcolor": "white",
          "plot_bgcolor": "white",
          "polar": {
           "angularaxis": {
            "gridcolor": "#EBF0F8",
            "linecolor": "#EBF0F8",
            "ticks": ""
           },
           "bgcolor": "white",
           "radialaxis": {
            "gridcolor": "#EBF0F8",
            "linecolor": "#EBF0F8",
            "ticks": ""
           }
          },
          "scene": {
           "camera": {
            "eye": {
             "x": 1.5,
             "y": 1.5,
             "z": 0.1
            }
           },
           "xaxis": {
            "backgroundcolor": "white",
            "gridcolor": "#DFE8F3",
            "gridwidth": 2,
            "linecolor": "#EBF0F8",
            "showbackground": true,
            "ticks": "",
            "zerolinecolor": "#EBF0F8"
           },
           "yaxis": {
            "backgroundcolor": "white",
            "gridcolor": "#DFE8F3",
            "gridwidth": 2,
            "linecolor": "#EBF0F8",
            "showbackground": true,
            "ticks": "",
            "zerolinecolor": "#EBF0F8"
           },
           "zaxis": {
            "backgroundcolor": "white",
            "gridcolor": "#DFE8F3",
            "gridwidth": 2,
            "linecolor": "#EBF0F8",
            "showbackground": true,
            "ticks": "",
            "zerolinecolor": "#EBF0F8"
           }
          },
          "shapedefaults": {
           "line": {
            "color": "#2a3f5f"
           }
          },
          "ternary": {
           "aaxis": {
            "gridcolor": "#DFE8F3",
            "linecolor": "#A2B1C6",
            "ticks": ""
           },
           "baxis": {
            "gridcolor": "#DFE8F3",
            "linecolor": "#A2B1C6",
            "ticks": ""
           },
           "bgcolor": "white",
           "caxis": {
            "gridcolor": "#DFE8F3",
            "linecolor": "#A2B1C6",
            "ticks": ""
           }
          },
          "title": {
           "x": 0.5
          },
          "xaxis": {
           "automargin": true,
           "gridcolor": "#EBF0F8",
           "linecolor": "#EBF0F8",
           "linewidth": 2,
           "showline": true,
           "ticks": "",
           "title": {
            "standoff": 15
           },
           "zerolinecolor": "#EBF0F8",
           "zerolinewidth": 2
          },
          "yaxis": {
           "automargin": true,
           "gridcolor": "#EBF0F8",
           "linecolor": "#EBF0F8",
           "linewidth": 2,
           "showline": true,
           "ticks": "",
           "title": {
            "standoff": 15
           },
           "zerolinecolor": "#EBF0F8",
           "zerolinewidth": 2
          }
         }
        },
        "title": {
         "text": "Model Prediction"
        }
       }
      }
     },
     "metadata": {},
     "output_type": "display_data"
    }
   ],
   "source": [
    "graphing.model_to_surface_plot(model_with_interaction, [\"no_visitors\", \"fresh_thickness\"], test)"
   ]
  },
  {
   "attachments": {},
   "cell_type": "markdown",
   "metadata": {},
   "source": [
    "Su aspecto es muy diferente. Desde cualquier lado, podemos ver una forma de s, pero éstas se combinan de formas extrañas.\n",
    "\n",
    "Podemos ver que el riesgo aumenta los días con muchos visitantes y mucha nieve. No hay riesgo real de avalancha cuando hay mucha nieve pero no hay visitantes, o cuando hay muchos visitantes pero no hay nieve.\n",
    "\n",
    "El hecho de que muestre un riesgo alto cuando no hay nieve fresca ni visitantes podría deberse a la lluvia, que mantiene alejados a los visitantes y las nubes de nieve pero provoca aludes de la nieve más antigua. Para confirmar esto, necesitaríamos explorar los datos más a fondo, pero nos detendremos aquí por ahora.\n",
    "\n",
    "Resumen\n",
    "Bien hecho. Recapitulemos. Hemos\n",
    "\n",
    "mejorado nuestro modelo simple añadiendo más características.\n",
    "practicado la interpretación de los coeficientes (parámetros) de nuestro modelo a partir del resumen del modelo\n",
    "eliminado características innecesarias\n",
    "explorado cómo a veces es importante pensar en lo que realmente significan los datos\n",
    "hemos creado un modelo que combina características para obtener un resultado superior"
   ]
  }
 ],
 "metadata": {
  "kernelspec": {
   "display_name": "Python 3",
   "language": "python",
   "name": "python3"
  },
  "language_info": {
   "codemirror_mode": {
    "name": "ipython",
    "version": 3
   },
   "file_extension": ".py",
   "mimetype": "text/x-python",
   "name": "python",
   "nbconvert_exporter": "python",
   "pygments_lexer": "ipython3",
   "version": "3.10.6"
  },
  "orig_nbformat": 4
 },
 "nbformat": 4,
 "nbformat_minor": 2
}
